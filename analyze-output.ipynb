{
 "cells": [
  {
   "cell_type": "markdown",
   "metadata": {},
   "source": [
    "# Analyze Results from Evaluation Quickstart\n",
    "\n",
    "This notebook analyzes the results of the evaluation quickstart."
   ]
  },
  {
   "cell_type": "markdown",
   "metadata": {},
   "source": [
    "## Setup\n",
    "\n",
    "First, we need to import our libraries:"
   ]
  },
  {
   "cell_type": "code",
   "execution_count": 1,
   "metadata": {
    "collapsed": true
   },
   "outputs": [],
   "source": [
    "import pandas as pd\n",
    "import matplotlib"
   ]
  },
  {
   "cell_type": "code",
   "execution_count": 2,
   "metadata": {
    "collapsed": true
   },
   "outputs": [],
   "source": [
    "%matplotlib inline"
   ]
  },
  {
   "cell_type": "markdown",
   "metadata": {},
   "source": [
    "## Data Import and Preparation\n",
    "\n",
    "LensKit puts its output in a `csv` file:"
   ]
  },
  {
   "cell_type": "code",
   "execution_count": 4,
   "metadata": {
    "collapsed": false
   },
   "outputs": [
    {
     "data": {
      "text/html": [
       "<div>\n",
       "<table border=\"1\" class=\"dataframe\">\n",
       "  <thead>\n",
       "    <tr style=\"text-align: right;\">\n",
       "      <th></th>\n",
       "      <th>Partition</th>\n",
       "      <th>Algorithm</th>\n",
       "      <th>BuildTime</th>\n",
       "      <th>TestTime</th>\n",
       "      <th>RMSE.ByUser</th>\n",
       "      <th>RMSE.ByRating</th>\n",
       "      <th>Predict.nDCG</th>\n",
       "      <th>MRR</th>\n",
       "    </tr>\n",
       "  </thead>\n",
       "  <tbody>\n",
       "    <tr>\n",
       "      <th>0</th>\n",
       "      <td>5</td>\n",
       "      <td>Custom</td>\n",
       "      <td>0.508</td>\n",
       "      <td>1.857</td>\n",
       "      <td>0.923840</td>\n",
       "      <td>0.965181</td>\n",
       "      <td>0.952336</td>\n",
       "      <td>0.030545</td>\n",
       "    </tr>\n",
       "    <tr>\n",
       "      <th>1</th>\n",
       "      <td>5</td>\n",
       "      <td>PersMean</td>\n",
       "      <td>0.521</td>\n",
       "      <td>2.343</td>\n",
       "      <td>0.923840</td>\n",
       "      <td>0.965181</td>\n",
       "      <td>0.952336</td>\n",
       "      <td>0.030848</td>\n",
       "    </tr>\n",
       "    <tr>\n",
       "      <th>2</th>\n",
       "      <td>4</td>\n",
       "      <td>Custom</td>\n",
       "      <td>0.084</td>\n",
       "      <td>0.552</td>\n",
       "      <td>0.956727</td>\n",
       "      <td>0.979272</td>\n",
       "      <td>0.947415</td>\n",
       "      <td>0.032206</td>\n",
       "    </tr>\n",
       "    <tr>\n",
       "      <th>3</th>\n",
       "      <td>4</td>\n",
       "      <td>PersMean</td>\n",
       "      <td>0.085</td>\n",
       "      <td>1.522</td>\n",
       "      <td>0.956727</td>\n",
       "      <td>0.979272</td>\n",
       "      <td>0.947415</td>\n",
       "      <td>0.032357</td>\n",
       "    </tr>\n",
       "    <tr>\n",
       "      <th>4</th>\n",
       "      <td>3</td>\n",
       "      <td>PersMean</td>\n",
       "      <td>0.083</td>\n",
       "      <td>1.488</td>\n",
       "      <td>0.915944</td>\n",
       "      <td>0.925657</td>\n",
       "      <td>0.950215</td>\n",
       "      <td>0.030720</td>\n",
       "    </tr>\n",
       "  </tbody>\n",
       "</table>\n",
       "</div>"
      ],
      "text/plain": [
       "   Partition Algorithm  BuildTime  TestTime  RMSE.ByUser  RMSE.ByRating  \\\n",
       "0          5    Custom      0.508     1.857     0.923840       0.965181   \n",
       "1          5  PersMean      0.521     2.343     0.923840       0.965181   \n",
       "2          4    Custom      0.084     0.552     0.956727       0.979272   \n",
       "3          4  PersMean      0.085     1.522     0.956727       0.979272   \n",
       "4          3  PersMean      0.083     1.488     0.915944       0.925657   \n",
       "\n",
       "   Predict.nDCG       MRR  \n",
       "0      0.952336  0.030545  \n",
       "1      0.952336  0.030848  \n",
       "2      0.947415  0.032206  \n",
       "3      0.947415  0.032357  \n",
       "4      0.950215  0.030720  "
      ]
     },
     "execution_count": 4,
     "metadata": {},
     "output_type": "execute_result"
    }
   ],
   "source": [
    "results = pd.read_csv('build/eval-results.csv')\n",
    "results.head()"
   ]
  },
  {
   "cell_type": "markdown",
   "metadata": {},
   "source": [
    "We ran each algorithm 5 times since we used 5-fold cross-validation.  What we want to do next is compute the average value of each metric for each data set."
   ]
  },
  {
   "cell_type": "code",
   "execution_count": 5,
   "metadata": {
    "collapsed": false
   },
   "outputs": [
    {
     "data": {
      "text/html": [
       "<div>\n",
       "<table border=\"1\" class=\"dataframe\">\n",
       "  <thead>\n",
       "    <tr style=\"text-align: right;\">\n",
       "      <th></th>\n",
       "      <th>BuildTime</th>\n",
       "      <th>TestTime</th>\n",
       "      <th>RMSE.ByUser</th>\n",
       "      <th>RMSE.ByRating</th>\n",
       "      <th>Predict.nDCG</th>\n",
       "      <th>MRR</th>\n",
       "    </tr>\n",
       "    <tr>\n",
       "      <th>Algorithm</th>\n",
       "      <th></th>\n",
       "      <th></th>\n",
       "      <th></th>\n",
       "      <th></th>\n",
       "      <th></th>\n",
       "      <th></th>\n",
       "    </tr>\n",
       "  </thead>\n",
       "  <tbody>\n",
       "    <tr>\n",
       "      <th>Custom</th>\n",
       "      <td>0.1758</td>\n",
       "      <td>0.9024</td>\n",
       "      <td>0.924559</td>\n",
       "      <td>0.948341</td>\n",
       "      <td>0.950252</td>\n",
       "      <td>0.031540</td>\n",
       "    </tr>\n",
       "    <tr>\n",
       "      <th>ItemItem</th>\n",
       "      <td>6.6352</td>\n",
       "      <td>16.4142</td>\n",
       "      <td>0.890838</td>\n",
       "      <td>0.907916</td>\n",
       "      <td>0.955412</td>\n",
       "      <td>0.110510</td>\n",
       "    </tr>\n",
       "    <tr>\n",
       "      <th>PersMean</th>\n",
       "      <td>0.1592</td>\n",
       "      <td>1.7750</td>\n",
       "      <td>0.924559</td>\n",
       "      <td>0.948341</td>\n",
       "      <td>0.950252</td>\n",
       "      <td>0.031666</td>\n",
       "    </tr>\n",
       "  </tbody>\n",
       "</table>\n",
       "</div>"
      ],
      "text/plain": [
       "           BuildTime  TestTime  RMSE.ByUser  RMSE.ByRating  Predict.nDCG  \\\n",
       "Algorithm                                                                  \n",
       "Custom        0.1758    0.9024     0.924559       0.948341      0.950252   \n",
       "ItemItem      6.6352   16.4142     0.890838       0.907916      0.955412   \n",
       "PersMean      0.1592    1.7750     0.924559       0.948341      0.950252   \n",
       "\n",
       "                MRR  \n",
       "Algorithm            \n",
       "Custom     0.031540  \n",
       "ItemItem   0.110510  \n",
       "PersMean   0.031666  "
      ]
     },
     "execution_count": 5,
     "metadata": {},
     "output_type": "execute_result"
    }
   ],
   "source": [
    "agg_results = results.drop(['Partition'], axis=1).groupby('Algorithm').mean()\n",
    "agg_results"
   ]
  },
  {
   "cell_type": "markdown",
   "metadata": {},
   "source": [
    "## Plotting Results\n",
    "\n",
    "Let's start plotting things. What's the RMSE achieved by each algorithm?"
   ]
  },
  {
   "cell_type": "code",
   "execution_count": 6,
   "metadata": {
    "collapsed": false
   },
   "outputs": [
    {
     "data": {
      "text/plain": [
       "<matplotlib.axes._subplots.AxesSubplot at 0x1d15dbaad68>"
      ]
     },
     "execution_count": 6,
     "metadata": {},
     "output_type": "execute_result"
    },
    {
     "data": {
      "image/png": "[encoded data removed]",
      "text/plain": [
       "<matplotlib.figure.Figure at 0x1d15dbaa2b0>"
      ]
     },
     "metadata": {},
     "output_type": "display_data"
    }
   ],
   "source": [
    "results.loc[:,['Algorithm', 'RMSE.ByUser']].boxplot(by='Algorithm')"
   ]
  },
  {
   "cell_type": "markdown",
   "metadata": {},
   "source": [
    "Next up: nDCG"
   ]
  },
  {
   "cell_type": "code",
   "execution_count": 9,
   "metadata": {
    "collapsed": false
   },
   "outputs": [
    {
     "data": {
      "text/plain": [
       "<matplotlib.axes._subplots.AxesSubplot at 0x1d15b886cf8>"
      ]
     },
     "execution_count": 9,
     "metadata": {},
     "output_type": "execute_result"
    },
    {
     "data": {
      "image/png": "[encoded data removed]",
      "text/plain": [
       "<matplotlib.figure.Figure at 0x1d15e0f12e8>"
      ]
     },
     "metadata": {},
     "output_type": "display_data"
    }
   ],
   "source": [
    "results.loc[:,['Algorithm', 'Predict.nDCG']].boxplot(by='Algorithm')"
   ]
  },
  {
   "cell_type": "markdown",
   "metadata": {},
   "source": [
    "Finally, the build and test times."
   ]
  },
  {
   "cell_type": "code",
   "execution_count": 10,
   "metadata": {
    "collapsed": false
   },
   "outputs": [
    {
     "data": {
      "text/plain": [
       "array([<matplotlib.axes._subplots.AxesSubplot object at 0x000001D15E20C4E0>,\n",
       "       <matplotlib.axes._subplots.AxesSubplot object at 0x000001D15E4500B8>], dtype=object)"
      ]
     },
     "execution_count": 10,
     "metadata": {},
     "output_type": "execute_result"
    },
    {
     "data": {
      "image/png": "[encoded data removed]",
      "text/plain": [
       "<matplotlib.figure.Figure at 0x1d15e21c518>"
      ]
     },
     "metadata": {},
     "output_type": "display_data"
    }
   ],
   "source": [
    "results.loc[:,['Algorithm', 'BuildTime', 'TestTime']].boxplot(by='Algorithm')"
   ]
  },
  {
   "cell_type": "code",
   "execution_count": null,
   "metadata": {
    "collapsed": true
   },
   "outputs": [],
   "source": []
  }
 ],
 "metadata": {
  "kernelspec": {
   "display_name": "Python 3",
   "language": "python",
   "name": "python3"
  },
  "language_info": {
   "codemirror_mode": {
    "name": "ipython",
    "version": 3
   },
   "file_extension": ".py",
   "mimetype": "text/x-python",
   "name": "python",
   "nbconvert_exporter": "python",
   "pygments_lexer": "ipython3",
   "version": "3.5.2"
  }
 },
 "nbformat": 4,
 "nbformat_minor": 0
}
