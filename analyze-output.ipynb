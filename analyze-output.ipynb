{
 "cells": [
  {
   "cell_type": "markdown",
   "metadata": {},
   "source": [
    "# Analyze Results from Evaluation Quickstart\n",
    "\n",
    "This notebook analyzes the results of the evaluation quickstart."
   ]
  },
  {
   "cell_type": "markdown",
   "metadata": {},
   "source": [
    "## Setup\n",
    "\n",
    "First, we need to import our libraries:"
   ]
  },
  {
   "cell_type": "code",
   "execution_count": 1,
   "metadata": {
    "collapsed": true
   },
   "outputs": [],
   "source": [
    "import pandas as pd\n",
    "import matplotlib\n",
    "import matplotlib.pyplot as plt"
   ]
  },
  {
   "cell_type": "code",
   "execution_count": 2,
   "metadata": {
    "collapsed": true
   },
   "outputs": [],
   "source": [
    "%matplotlib inline"
   ]
  },
  {
   "cell_type": "markdown",
   "metadata": {},
   "source": [
    "## Data Import and Preparation\n",
    "\n",
    "LensKit puts its output in a `csv` file:"
   ]
  },
  {
   "cell_type": "code",
   "execution_count": 3,
   "metadata": {},
   "outputs": [
    {
     "data": {
      "text/html": [
       "<div>\n",
       "<style>\n",
       "    .dataframe thead tr:only-child th {\n",
       "        text-align: right;\n",
       "    }\n",
       "\n",
       "    .dataframe thead th {\n",
       "        text-align: left;\n",
       "    }\n",
       "\n",
       "    .dataframe tbody tr th {\n",
       "        vertical-align: top;\n",
       "    }\n",
       "</style>\n",
       "<table border=\"1\" class=\"dataframe\">\n",
       "  <thead>\n",
       "    <tr style=\"text-align: right;\">\n",
       "      <th></th>\n",
       "      <th>DataSet</th>\n",
       "      <th>Partition</th>\n",
       "      <th>Algorithm</th>\n",
       "      <th>Beta</th>\n",
       "      <th>lambda</th>\n",
       "      <th>Succeeded</th>\n",
       "      <th>BuildTime</th>\n",
       "      <th>TestTime</th>\n",
       "      <th>NUsers</th>\n",
       "      <th>NAttempted</th>\n",
       "      <th>NGood</th>\n",
       "      <th>Coverage</th>\n",
       "      <th>RMSE.ByUser</th>\n",
       "      <th>RMSE.ByRating</th>\n",
       "      <th>TopN.ActualLength</th>\n",
       "      <th>MRR</th>\n",
       "      <th>MAP</th>\n",
       "      <th>Precision</th>\n",
       "      <th>Recall</th>\n",
       "      <th>F1</th>\n",
       "    </tr>\n",
       "  </thead>\n",
       "  <tbody>\n",
       "    <tr>\n",
       "      <th>0</th>\n",
       "      <td>crossfold</td>\n",
       "      <td>2</td>\n",
       "      <td>SLIM</td>\n",
       "      <td>3</td>\n",
       "      <td>0.5</td>\n",
       "      <td>Y</td>\n",
       "      <td>2148.189</td>\n",
       "      <td>577.188</td>\n",
       "      <td>15561</td>\n",
       "      <td>15561</td>\n",
       "      <td>15561</td>\n",
       "      <td>1.0</td>\n",
       "      <td>7.457080</td>\n",
       "      <td>7.682540</td>\n",
       "      <td>10.0</td>\n",
       "      <td>0.005657</td>\n",
       "      <td>0.005657</td>\n",
       "      <td>0.001080</td>\n",
       "      <td>0.010796</td>\n",
       "      <td>0.001963</td>\n",
       "    </tr>\n",
       "    <tr>\n",
       "      <th>1</th>\n",
       "      <td>crossfold</td>\n",
       "      <td>5</td>\n",
       "      <td>SLIM</td>\n",
       "      <td>3</td>\n",
       "      <td>0.5</td>\n",
       "      <td>Y</td>\n",
       "      <td>2041.496</td>\n",
       "      <td>578.378</td>\n",
       "      <td>15561</td>\n",
       "      <td>15561</td>\n",
       "      <td>15561</td>\n",
       "      <td>1.0</td>\n",
       "      <td>7.439946</td>\n",
       "      <td>7.669194</td>\n",
       "      <td>10.0</td>\n",
       "      <td>0.007771</td>\n",
       "      <td>0.007771</td>\n",
       "      <td>0.001260</td>\n",
       "      <td>0.012596</td>\n",
       "      <td>0.002290</td>\n",
       "    </tr>\n",
       "    <tr>\n",
       "      <th>2</th>\n",
       "      <td>crossfold</td>\n",
       "      <td>3</td>\n",
       "      <td>SLIM</td>\n",
       "      <td>3</td>\n",
       "      <td>0.5</td>\n",
       "      <td>Y</td>\n",
       "      <td>2052.871</td>\n",
       "      <td>582.613</td>\n",
       "      <td>15561</td>\n",
       "      <td>15561</td>\n",
       "      <td>15561</td>\n",
       "      <td>1.0</td>\n",
       "      <td>7.437998</td>\n",
       "      <td>7.665491</td>\n",
       "      <td>10.0</td>\n",
       "      <td>0.005578</td>\n",
       "      <td>0.005578</td>\n",
       "      <td>0.000958</td>\n",
       "      <td>0.009575</td>\n",
       "      <td>0.001741</td>\n",
       "    </tr>\n",
       "    <tr>\n",
       "      <th>3</th>\n",
       "      <td>crossfold</td>\n",
       "      <td>1</td>\n",
       "      <td>SLIM</td>\n",
       "      <td>3</td>\n",
       "      <td>0.5</td>\n",
       "      <td>Y</td>\n",
       "      <td>2272.493</td>\n",
       "      <td>578.564</td>\n",
       "      <td>15561</td>\n",
       "      <td>15561</td>\n",
       "      <td>15561</td>\n",
       "      <td>1.0</td>\n",
       "      <td>7.423712</td>\n",
       "      <td>7.656177</td>\n",
       "      <td>10.0</td>\n",
       "      <td>0.006045</td>\n",
       "      <td>0.006045</td>\n",
       "      <td>0.001003</td>\n",
       "      <td>0.010025</td>\n",
       "      <td>0.001823</td>\n",
       "    </tr>\n",
       "    <tr>\n",
       "      <th>4</th>\n",
       "      <td>crossfold</td>\n",
       "      <td>4</td>\n",
       "      <td>SLIM</td>\n",
       "      <td>3</td>\n",
       "      <td>0.5</td>\n",
       "      <td>Y</td>\n",
       "      <td>2115.066</td>\n",
       "      <td>586.373</td>\n",
       "      <td>15561</td>\n",
       "      <td>15561</td>\n",
       "      <td>15561</td>\n",
       "      <td>1.0</td>\n",
       "      <td>7.444799</td>\n",
       "      <td>7.668168</td>\n",
       "      <td>10.0</td>\n",
       "      <td>0.006230</td>\n",
       "      <td>0.006230</td>\n",
       "      <td>0.001080</td>\n",
       "      <td>0.010796</td>\n",
       "      <td>0.001963</td>\n",
       "    </tr>\n",
       "  </tbody>\n",
       "</table>\n",
       "</div>"
      ],
      "text/plain": [
       "     DataSet  Partition Algorithm  Beta  lambda Succeeded  BuildTime  \\\n",
       "0  crossfold          2      SLIM     3     0.5         Y   2148.189   \n",
       "1  crossfold          5      SLIM     3     0.5         Y   2041.496   \n",
       "2  crossfold          3      SLIM     3     0.5         Y   2052.871   \n",
       "3  crossfold          1      SLIM     3     0.5         Y   2272.493   \n",
       "4  crossfold          4      SLIM     3     0.5         Y   2115.066   \n",
       "\n",
       "   TestTime  NUsers  NAttempted  NGood  Coverage  RMSE.ByUser  RMSE.ByRating  \\\n",
       "0   577.188   15561       15561  15561       1.0     7.457080       7.682540   \n",
       "1   578.378   15561       15561  15561       1.0     7.439946       7.669194   \n",
       "2   582.613   15561       15561  15561       1.0     7.437998       7.665491   \n",
       "3   578.564   15561       15561  15561       1.0     7.423712       7.656177   \n",
       "4   586.373   15561       15561  15561       1.0     7.444799       7.668168   \n",
       "\n",
       "   TopN.ActualLength       MRR       MAP  Precision    Recall        F1  \n",
       "0               10.0  0.005657  0.005657   0.001080  0.010796  0.001963  \n",
       "1               10.0  0.007771  0.007771   0.001260  0.012596  0.002290  \n",
       "2               10.0  0.005578  0.005578   0.000958  0.009575  0.001741  \n",
       "3               10.0  0.006045  0.006045   0.001003  0.010025  0.001823  \n",
       "4               10.0  0.006230  0.006230   0.001080  0.010796  0.001963  "
      ]
     },
     "execution_count": 3,
     "metadata": {},
     "output_type": "execute_result"
    }
   ],
   "source": [
    "results = pd.read_csv('build/eval-results.csv')\n",
    "results.head()"
   ]
  },
  {
   "cell_type": "code",
   "execution_count": 4,
   "metadata": {},
   "outputs": [
    {
     "data": {
      "text/html": [
       "<div>\n",
       "<style>\n",
       "    .dataframe thead tr:only-child th {\n",
       "        text-align: right;\n",
       "    }\n",
       "\n",
       "    .dataframe thead th {\n",
       "        text-align: left;\n",
       "    }\n",
       "\n",
       "    .dataframe tbody tr th {\n",
       "        vertical-align: top;\n",
       "    }\n",
       "</style>\n",
       "<table border=\"1\" class=\"dataframe\">\n",
       "  <thead>\n",
       "    <tr style=\"text-align: right;\">\n",
       "      <th></th>\n",
       "      <th>DataSet</th>\n",
       "      <th>Partition</th>\n",
       "      <th>Algorithm</th>\n",
       "      <th>Beta</th>\n",
       "      <th>lambda</th>\n",
       "      <th>Succeeded</th>\n",
       "      <th>BuildTime</th>\n",
       "      <th>TestTime</th>\n",
       "      <th>NUsers</th>\n",
       "      <th>NAttempted</th>\n",
       "      <th>NGood</th>\n",
       "      <th>Coverage</th>\n",
       "      <th>RMSE.ByUser</th>\n",
       "      <th>RMSE.ByRating</th>\n",
       "      <th>TopN.ActualLength</th>\n",
       "      <th>MRR</th>\n",
       "      <th>MAP</th>\n",
       "      <th>Precision</th>\n",
       "      <th>Recall</th>\n",
       "      <th>F1</th>\n",
       "    </tr>\n",
       "  </thead>\n",
       "  <tbody>\n",
       "    <tr>\n",
       "      <th>0</th>\n",
       "      <td>crossfold</td>\n",
       "      <td>2</td>\n",
       "      <td>SLIM</td>\n",
       "      <td>3</td>\n",
       "      <td>0.5</td>\n",
       "      <td>Y</td>\n",
       "      <td>2148.189</td>\n",
       "      <td>577.188</td>\n",
       "      <td>15561</td>\n",
       "      <td>15561</td>\n",
       "      <td>15561</td>\n",
       "      <td>1.0</td>\n",
       "      <td>7.457080</td>\n",
       "      <td>7.682540</td>\n",
       "      <td>10.0</td>\n",
       "      <td>0.005657</td>\n",
       "      <td>0.005657</td>\n",
       "      <td>0.001080</td>\n",
       "      <td>0.010796</td>\n",
       "      <td>0.001963</td>\n",
       "    </tr>\n",
       "    <tr>\n",
       "      <th>1</th>\n",
       "      <td>crossfold</td>\n",
       "      <td>5</td>\n",
       "      <td>SLIM</td>\n",
       "      <td>3</td>\n",
       "      <td>0.5</td>\n",
       "      <td>Y</td>\n",
       "      <td>2041.496</td>\n",
       "      <td>578.378</td>\n",
       "      <td>15561</td>\n",
       "      <td>15561</td>\n",
       "      <td>15561</td>\n",
       "      <td>1.0</td>\n",
       "      <td>7.439946</td>\n",
       "      <td>7.669194</td>\n",
       "      <td>10.0</td>\n",
       "      <td>0.007771</td>\n",
       "      <td>0.007771</td>\n",
       "      <td>0.001260</td>\n",
       "      <td>0.012596</td>\n",
       "      <td>0.002290</td>\n",
       "    </tr>\n",
       "    <tr>\n",
       "      <th>2</th>\n",
       "      <td>crossfold</td>\n",
       "      <td>3</td>\n",
       "      <td>SLIM</td>\n",
       "      <td>3</td>\n",
       "      <td>0.5</td>\n",
       "      <td>Y</td>\n",
       "      <td>2052.871</td>\n",
       "      <td>582.613</td>\n",
       "      <td>15561</td>\n",
       "      <td>15561</td>\n",
       "      <td>15561</td>\n",
       "      <td>1.0</td>\n",
       "      <td>7.437998</td>\n",
       "      <td>7.665491</td>\n",
       "      <td>10.0</td>\n",
       "      <td>0.005578</td>\n",
       "      <td>0.005578</td>\n",
       "      <td>0.000958</td>\n",
       "      <td>0.009575</td>\n",
       "      <td>0.001741</td>\n",
       "    </tr>\n",
       "    <tr>\n",
       "      <th>3</th>\n",
       "      <td>crossfold</td>\n",
       "      <td>1</td>\n",
       "      <td>SLIM</td>\n",
       "      <td>3</td>\n",
       "      <td>0.5</td>\n",
       "      <td>Y</td>\n",
       "      <td>2272.493</td>\n",
       "      <td>578.564</td>\n",
       "      <td>15561</td>\n",
       "      <td>15561</td>\n",
       "      <td>15561</td>\n",
       "      <td>1.0</td>\n",
       "      <td>7.423712</td>\n",
       "      <td>7.656177</td>\n",
       "      <td>10.0</td>\n",
       "      <td>0.006045</td>\n",
       "      <td>0.006045</td>\n",
       "      <td>0.001003</td>\n",
       "      <td>0.010025</td>\n",
       "      <td>0.001823</td>\n",
       "    </tr>\n",
       "    <tr>\n",
       "      <th>4</th>\n",
       "      <td>crossfold</td>\n",
       "      <td>4</td>\n",
       "      <td>SLIM</td>\n",
       "      <td>3</td>\n",
       "      <td>0.5</td>\n",
       "      <td>Y</td>\n",
       "      <td>2115.066</td>\n",
       "      <td>586.373</td>\n",
       "      <td>15561</td>\n",
       "      <td>15561</td>\n",
       "      <td>15561</td>\n",
       "      <td>1.0</td>\n",
       "      <td>7.444799</td>\n",
       "      <td>7.668168</td>\n",
       "      <td>10.0</td>\n",
       "      <td>0.006230</td>\n",
       "      <td>0.006230</td>\n",
       "      <td>0.001080</td>\n",
       "      <td>0.010796</td>\n",
       "      <td>0.001963</td>\n",
       "    </tr>\n",
       "  </tbody>\n",
       "</table>\n",
       "</div>"
      ],
      "text/plain": [
       "     DataSet  Partition Algorithm  Beta  lambda Succeeded  BuildTime  \\\n",
       "0  crossfold          2      SLIM     3     0.5         Y   2148.189   \n",
       "1  crossfold          5      SLIM     3     0.5         Y   2041.496   \n",
       "2  crossfold          3      SLIM     3     0.5         Y   2052.871   \n",
       "3  crossfold          1      SLIM     3     0.5         Y   2272.493   \n",
       "4  crossfold          4      SLIM     3     0.5         Y   2115.066   \n",
       "\n",
       "   TestTime  NUsers  NAttempted  NGood  Coverage  RMSE.ByUser  RMSE.ByRating  \\\n",
       "0   577.188   15561       15561  15561       1.0     7.457080       7.682540   \n",
       "1   578.378   15561       15561  15561       1.0     7.439946       7.669194   \n",
       "2   582.613   15561       15561  15561       1.0     7.437998       7.665491   \n",
       "3   578.564   15561       15561  15561       1.0     7.423712       7.656177   \n",
       "4   586.373   15561       15561  15561       1.0     7.444799       7.668168   \n",
       "\n",
       "   TopN.ActualLength       MRR       MAP  Precision    Recall        F1  \n",
       "0               10.0  0.005657  0.005657   0.001080  0.010796  0.001963  \n",
       "1               10.0  0.007771  0.007771   0.001260  0.012596  0.002290  \n",
       "2               10.0  0.005578  0.005578   0.000958  0.009575  0.001741  \n",
       "3               10.0  0.006045  0.006045   0.001003  0.010025  0.001823  \n",
       "4               10.0  0.006230  0.006230   0.001080  0.010796  0.001963  "
      ]
     },
     "execution_count": 4,
     "metadata": {},
     "output_type": "execute_result"
    }
   ],
   "source": [
    "results"
   ]
  },
  {
   "cell_type": "markdown",
   "metadata": {},
   "source": [
    "We ran each algorithm 5 times since we used 5-fold cross-validation.  What we want to do next is compute the average value of each metric for each data set."
   ]
  },
  {
   "cell_type": "code",
   "execution_count": 5,
   "metadata": {},
   "outputs": [
    {
     "data": {
      "text/html": [
       "<div>\n",
       "<style>\n",
       "    .dataframe thead tr:only-child th {\n",
       "        text-align: right;\n",
       "    }\n",
       "\n",
       "    .dataframe thead th {\n",
       "        text-align: left;\n",
       "    }\n",
       "\n",
       "    .dataframe tbody tr th {\n",
       "        vertical-align: top;\n",
       "    }\n",
       "</style>\n",
       "<table border=\"1\" class=\"dataframe\">\n",
       "  <thead>\n",
       "    <tr style=\"text-align: right;\">\n",
       "      <th></th>\n",
       "      <th></th>\n",
       "      <th></th>\n",
       "      <th>BuildTime</th>\n",
       "      <th>TestTime</th>\n",
       "      <th>NUsers</th>\n",
       "      <th>NAttempted</th>\n",
       "      <th>NGood</th>\n",
       "      <th>Coverage</th>\n",
       "      <th>RMSE.ByUser</th>\n",
       "      <th>RMSE.ByRating</th>\n",
       "      <th>TopN.ActualLength</th>\n",
       "      <th>MRR</th>\n",
       "      <th>MAP</th>\n",
       "      <th>Precision</th>\n",
       "      <th>Recall</th>\n",
       "      <th>F1</th>\n",
       "    </tr>\n",
       "    <tr>\n",
       "      <th>Algorithm</th>\n",
       "      <th>lambda</th>\n",
       "      <th>Beta</th>\n",
       "      <th></th>\n",
       "      <th></th>\n",
       "      <th></th>\n",
       "      <th></th>\n",
       "      <th></th>\n",
       "      <th></th>\n",
       "      <th></th>\n",
       "      <th></th>\n",
       "      <th></th>\n",
       "      <th></th>\n",
       "      <th></th>\n",
       "      <th></th>\n",
       "      <th></th>\n",
       "      <th></th>\n",
       "    </tr>\n",
       "  </thead>\n",
       "  <tbody>\n",
       "    <tr>\n",
       "      <th>SLIM</th>\n",
       "      <th>0.5</th>\n",
       "      <th>3</th>\n",
       "      <td>2126.023</td>\n",
       "      <td>580.6232</td>\n",
       "      <td>15561</td>\n",
       "      <td>15561</td>\n",
       "      <td>15561</td>\n",
       "      <td>1.0</td>\n",
       "      <td>7.440707</td>\n",
       "      <td>7.668314</td>\n",
       "      <td>10.0</td>\n",
       "      <td>0.006256</td>\n",
       "      <td>0.006256</td>\n",
       "      <td>0.001076</td>\n",
       "      <td>0.010758</td>\n",
       "      <td>0.001956</td>\n",
       "    </tr>\n",
       "  </tbody>\n",
       "</table>\n",
       "</div>"
      ],
      "text/plain": [
       "                       BuildTime  TestTime  NUsers  NAttempted  NGood  \\\n",
       "Algorithm lambda Beta                                                   \n",
       "SLIM      0.5    3      2126.023  580.6232   15561       15561  15561   \n",
       "\n",
       "                       Coverage  RMSE.ByUser  RMSE.ByRating  \\\n",
       "Algorithm lambda Beta                                         \n",
       "SLIM      0.5    3          1.0     7.440707       7.668314   \n",
       "\n",
       "                       TopN.ActualLength       MRR       MAP  Precision  \\\n",
       "Algorithm lambda Beta                                                     \n",
       "SLIM      0.5    3                  10.0  0.006256  0.006256   0.001076   \n",
       "\n",
       "                         Recall        F1  \n",
       "Algorithm lambda Beta                      \n",
       "SLIM      0.5    3     0.010758  0.001956  "
      ]
     },
     "execution_count": 5,
     "metadata": {},
     "output_type": "execute_result"
    }
   ],
   "source": [
    "agg_results = results.drop(['Partition'], axis=1).groupby(['Algorithm','lambda','Beta']).mean()\n",
    "agg_results"
   ]
  },
  {
   "cell_type": "code",
   "execution_count": 6,
   "metadata": {},
   "outputs": [
    {
     "data": {
      "text/html": [
       "<div>\n",
       "<style>\n",
       "    .dataframe thead tr:only-child th {\n",
       "        text-align: right;\n",
       "    }\n",
       "\n",
       "    .dataframe thead th {\n",
       "        text-align: left;\n",
       "    }\n",
       "\n",
       "    .dataframe tbody tr th {\n",
       "        vertical-align: top;\n",
       "    }\n",
       "</style>\n",
       "<table border=\"1\" class=\"dataframe\">\n",
       "  <thead>\n",
       "    <tr style=\"text-align: right;\">\n",
       "      <th></th>\n",
       "      <th>Beta</th>\n",
       "      <th>lambda</th>\n",
       "      <th>BuildTime</th>\n",
       "      <th>TestTime</th>\n",
       "      <th>NUsers</th>\n",
       "      <th>NAttempted</th>\n",
       "      <th>NGood</th>\n",
       "      <th>Coverage</th>\n",
       "      <th>RMSE.ByUser</th>\n",
       "      <th>RMSE.ByRating</th>\n",
       "      <th>TopN.ActualLength</th>\n",
       "      <th>MRR</th>\n",
       "      <th>MAP</th>\n",
       "      <th>Precision</th>\n",
       "      <th>Recall</th>\n",
       "      <th>F1</th>\n",
       "    </tr>\n",
       "    <tr>\n",
       "      <th>Algorithm</th>\n",
       "      <th></th>\n",
       "      <th></th>\n",
       "      <th></th>\n",
       "      <th></th>\n",
       "      <th></th>\n",
       "      <th></th>\n",
       "      <th></th>\n",
       "      <th></th>\n",
       "      <th></th>\n",
       "      <th></th>\n",
       "      <th></th>\n",
       "      <th></th>\n",
       "      <th></th>\n",
       "      <th></th>\n",
       "      <th></th>\n",
       "      <th></th>\n",
       "    </tr>\n",
       "  </thead>\n",
       "  <tbody>\n",
       "    <tr>\n",
       "      <th>SLIM</th>\n",
       "      <td>3</td>\n",
       "      <td>0.5</td>\n",
       "      <td>2126.023</td>\n",
       "      <td>580.6232</td>\n",
       "      <td>15561</td>\n",
       "      <td>15561</td>\n",
       "      <td>15561</td>\n",
       "      <td>1.0</td>\n",
       "      <td>7.440707</td>\n",
       "      <td>7.668314</td>\n",
       "      <td>10.0</td>\n",
       "      <td>0.006256</td>\n",
       "      <td>0.006256</td>\n",
       "      <td>0.001076</td>\n",
       "      <td>0.010758</td>\n",
       "      <td>0.001956</td>\n",
       "    </tr>\n",
       "  </tbody>\n",
       "</table>\n",
       "</div>"
      ],
      "text/plain": [
       "           Beta  lambda  BuildTime  TestTime  NUsers  NAttempted  NGood  \\\n",
       "Algorithm                                                                 \n",
       "SLIM          3     0.5   2126.023  580.6232   15561       15561  15561   \n",
       "\n",
       "           Coverage  RMSE.ByUser  RMSE.ByRating  TopN.ActualLength       MRR  \\\n",
       "Algorithm                                                                      \n",
       "SLIM            1.0     7.440707       7.668314               10.0  0.006256   \n",
       "\n",
       "                MAP  Precision    Recall        F1  \n",
       "Algorithm                                           \n",
       "SLIM       0.006256   0.001076  0.010758  0.001956  "
      ]
     },
     "execution_count": 6,
     "metadata": {},
     "output_type": "execute_result"
    }
   ],
   "source": [
    "agg_results = results.drop(['Partition'], axis=1).groupby(['Algorithm']).mean()\n",
    "agg_results"
   ]
  },
  {
   "cell_type": "code",
   "execution_count": 7,
   "metadata": {
    "collapsed": true
   },
   "outputs": [],
   "source": [
    "res_slim = results.loc[results['lambda'].notnull(), :]"
   ]
  },
  {
   "cell_type": "code",
   "execution_count": 8,
   "metadata": {},
   "outputs": [
    {
     "data": {
      "text/plain": [
       "<matplotlib.axes._subplots.AxesSubplot at 0x7fc7355cdc18>"
      ]
     },
     "execution_count": 8,
     "metadata": {},
     "output_type": "execute_result"
    },
    {
     "data": {
      "image/png": "[encoded data removed]",
      "text/plain": [
       "<matplotlib.figure.Figure at 0x7fc7355cd2e8>"
      ]
     },
     "metadata": {},
     "output_type": "display_data"
    }
   ],
   "source": [
    "res_slim.boxplot(['RMSE.ByUser'], ['lambda','Beta','Algorithm'], figsize=(10, 8))"
   ]
  },
  {
   "cell_type": "markdown",
   "metadata": {},
   "source": [
    "## Plotting Results\n",
    "\n",
    "Let's start plotting things. What's the RMSE achieved by each algorithm?"
   ]
  },
  {
   "cell_type": "code",
   "execution_count": 9,
   "metadata": {
    "collapsed": true
   },
   "outputs": [],
   "source": [
    "df = results.loc[results['lambda'].notnull(),['lambda', 'RMSE.ByUser']].groupby('lambda').mean()\n",
    "# df.plot.scatter(x=df['lambda'], y=df['RMSE.ByUser'])"
   ]
  },
  {
   "cell_type": "code",
   "execution_count": 10,
   "metadata": {},
   "outputs": [
    {
     "name": "stderr",
     "output_type": "stream",
     "text": [
      "/home/mtian/anaconda3/lib/python3.6/site-packages/matplotlib/axes/_base.py:2917: UserWarning: Attempting to set identical left==right results\n",
      "in singular transformations; automatically expanding.\n",
      "left=0.5, right=0.5\n",
      "  'left=%s, right=%s') % (left, right))\n"
     ]
    },
    {
     "data": {
      "text/plain": [
       "<matplotlib.axes._subplots.AxesSubplot at 0x7fc731fe70f0>"
      ]
     },
     "execution_count": 10,
     "metadata": {},
     "output_type": "execute_result"
    },
    {
     "data": {
      "image/png": "[encoded data removed]",
      "text/plain": [
       "<matplotlib.figure.Figure at 0x7fc7355cde80>"
      ]
     },
     "metadata": {},
     "output_type": "display_data"
    }
   ],
   "source": [
    "ax = df.reset_index().plot.scatter(y='RMSE.ByUser', x='lambda')\n",
    "df.plot(ax=ax)"
   ]
  },
  {
   "cell_type": "code",
   "execution_count": null,
   "metadata": {
    "collapsed": true
   },
   "outputs": [],
   "source": []
  },
  {
   "cell_type": "markdown",
   "metadata": {},
   "source": [
    "Next up: nDCG"
   ]
  },
  {
   "cell_type": "code",
   "execution_count": 11,
   "metadata": {},
   "outputs": [
    {
     "data": {
      "text/plain": [
       "<matplotlib.axes._subplots.AxesSubplot at 0x7fc7320e06a0>"
      ]
     },
     "execution_count": 11,
     "metadata": {},
     "output_type": "execute_result"
    },
    {
     "data": {
      "image/png": "[encoded data removed]",
      "text/plain": [
       "<matplotlib.figure.Figure at 0x7fc732165b00>"
      ]
     },
     "metadata": {},
     "output_type": "display_data"
    }
   ],
   "source": [
    "results.loc[:,['Algorithm', 'Predict.nDCG']].boxplot(by='Algorithm', figsize=(8,6))"
   ]
  },
  {
   "cell_type": "markdown",
   "metadata": {},
   "source": [
    "Finally, the build and test times."
   ]
  },
  {
   "cell_type": "code",
   "execution_count": 12,
   "metadata": {},
   "outputs": [
    {
     "data": {
      "text/plain": [
       "array([<matplotlib.axes._subplots.AxesSubplot object at 0x7fc7355b0dd8>,\n",
       "       <matplotlib.axes._subplots.AxesSubplot object at 0x7fc731f45e48>], dtype=object)"
      ]
     },
     "execution_count": 12,
     "metadata": {},
     "output_type": "execute_result"
    },
    {
     "data": {
      "image/png": "[encoded data removed]",
      "text/plain": [
       "<matplotlib.figure.Figure at 0x7fc73209ef60>"
      ]
     },
     "metadata": {},
     "output_type": "display_data"
    }
   ],
   "source": [
    "results.loc[:,['Algorithm', 'BuildTime', 'TestTime']].boxplot(by='Algorithm', figsize=(8,6))"
   ]
  },
  {
   "cell_type": "code",
   "execution_count": 13,
   "metadata": {},
   "outputs": [
    {
     "data": {
      "text/plain": [
       "<matplotlib.axes._subplots.AxesSubplot at 0x7fc731f084a8>"
      ]
     },
     "execution_count": 13,
     "metadata": {},
     "output_type": "execute_result"
    },
    {
     "data": {
      "image/png": "[encoded data removed]",
      "text/plain": [
       "<matplotlib.figure.Figure at 0x7fc7320a5748>"
      ]
     },
     "metadata": {},
     "output_type": "display_data"
    }
   ],
   "source": [
    "results.loc[:,['Algorithm', 'MRR']].boxplot(by='Algorithm', figsize=(8,6))"
   ]
  },
  {
   "cell_type": "code",
   "execution_count": 14,
   "metadata": {},
   "outputs": [
    {
     "data": {
      "text/plain": [
       "<matplotlib.axes._subplots.AxesSubplot at 0x7fc731db6f28>"
      ]
     },
     "execution_count": 14,
     "metadata": {},
     "output_type": "execute_result"
    },
    {
     "data": {
      "image/png": "[encoded data removed]",
      "text/plain": [
       "<matplotlib.figure.Figure at 0x7fc731d76320>"
      ]
     },
     "metadata": {},
     "output_type": "display_data"
    }
   ],
   "source": [
    "results.loc[:,['Algorithm', 'MAP']].boxplot(by='Algorithm', figsize=(8,6))"
   ]
  },
  {
   "cell_type": "code",
   "execution_count": 14,
   "metadata": {},
   "outputs": [
    {
     "data": {
      "text/plain": [
       "<matplotlib.axes._subplots.AxesSubplot at 0x7faefff4cbe0>"
      ]
     },
     "execution_count": 14,
     "metadata": {},
     "output_type": "execute_result"
    },
    {
     "data": {
      "image/png": "[encoded data removed]",
      "text/plain": [
       "<matplotlib.figure.Figure at 0x7faefff6a208>"
      ]
     },
     "metadata": {},
     "output_type": "display_data"
    }
   ],
   "source": [
    "results.loc[:,['Algorithm', 'Recall']].boxplot(by='Algorithm', figsize=(8,6))"
   ]
  },
  {
   "cell_type": "code",
   "execution_count": 15,
   "metadata": {},
   "outputs": [
    {
     "data": {
      "text/plain": [
       "<matplotlib.axes._subplots.AxesSubplot at 0x7faeffe9fd30>"
      ]
     },
     "execution_count": 15,
     "metadata": {},
     "output_type": "execute_result"
    },
    {
     "data": {
      "image/png": "[encoded data removed]",
      "text/plain": [
       "<matplotlib.figure.Figure at 0x7faf0022dc50>"
      ]
     },
     "metadata": {},
     "output_type": "display_data"
    }
   ],
   "source": [
    "results.loc[:,['Algorithm', 'nDCG']].boxplot(by='Algorithm', figsize=(8,6))"
   ]
  },
  {
   "cell_type": "code",
   "execution_count": null,
   "metadata": {
    "collapsed": true
   },
   "outputs": [],
   "source": []
  }
 ],
 "metadata": {
  "kernelspec": {
   "display_name": "Python 3",
   "language": "python",
   "name": "python3"
  },
  "language_info": {
   "codemirror_mode": {
    "name": "ipython",
    "version": 3
   },
   "file_extension": ".py",
   "mimetype": "text/x-python",
   "name": "python",
   "nbconvert_exporter": "python",
   "pygments_lexer": "ipython3",
   "version": "3.6.1"
  }
 },
 "nbformat": 4,
 "nbformat_minor": 1
}
