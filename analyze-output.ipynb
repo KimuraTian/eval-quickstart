{
 "cells": [
  {
   "cell_type": "markdown",
   "metadata": {},
   "source": [
    "# Analyze Results from Evaluation Quickstart\n",
    "\n",
    "This notebook analyzes the results of the evaluation quickstart."
   ]
  },
  {
   "cell_type": "markdown",
   "metadata": {},
   "source": [
    "## Setup\n",
    "\n",
    "First, we need to import our libraries:"
   ]
  },
  {
   "cell_type": "code",
   "execution_count": 1,
   "metadata": {
    "collapsed": true
   },
   "outputs": [],
   "source": [
    "import pandas as pd\n",
    "import matplotlib\n",
    "import matplotlib.pyplot as plt"
   ]
  },
  {
   "cell_type": "code",
   "execution_count": 2,
   "metadata": {
    "collapsed": true
   },
   "outputs": [],
   "source": [
    "%matplotlib inline"
   ]
  },
  {
   "cell_type": "markdown",
   "metadata": {},
   "source": [
    "## Data Import and Preparation\n",
    "\n",
    "LensKit puts its output in a `csv` file:"
   ]
  },
  {
   "cell_type": "code",
   "execution_count": 3,
   "metadata": {},
   "outputs": [
    {
     "data": {
      "text/html": [
       "<div>\n",
       "<style>\n",
       "    .dataframe thead tr:only-child th {\n",
       "        text-align: right;\n",
       "    }\n",
       "\n",
       "    .dataframe thead th {\n",
       "        text-align: left;\n",
       "    }\n",
       "\n",
       "    .dataframe tbody tr th {\n",
       "        vertical-align: top;\n",
       "    }\n",
       "</style>\n",
       "<table border=\"1\" class=\"dataframe\">\n",
       "  <thead>\n",
       "    <tr style=\"text-align: right;\">\n",
       "      <th></th>\n",
       "      <th>DataSet</th>\n",
       "      <th>Partition</th>\n",
       "      <th>Algorithm</th>\n",
       "      <th>Succeeded</th>\n",
       "      <th>BuildTime</th>\n",
       "      <th>TestTime</th>\n",
       "      <th>NUsers</th>\n",
       "      <th>NAttempted</th>\n",
       "      <th>NGood</th>\n",
       "      <th>Coverage</th>\n",
       "      <th>RMSE.ByUser</th>\n",
       "      <th>RMSE.ByRating</th>\n",
       "      <th>TopN.ActualLength</th>\n",
       "      <th>MAP</th>\n",
       "      <th>Precision</th>\n",
       "      <th>Recall</th>\n",
       "      <th>F1</th>\n",
       "    </tr>\n",
       "  </thead>\n",
       "  <tbody>\n",
       "    <tr>\n",
       "      <th>0</th>\n",
       "      <td>crossfold</td>\n",
       "      <td>4</td>\n",
       "      <td>Popular</td>\n",
       "      <td>Y</td>\n",
       "      <td>0.270</td>\n",
       "      <td>0.499</td>\n",
       "      <td>0</td>\n",
       "      <td>0</td>\n",
       "      <td>0</td>\n",
       "      <td>NaN</td>\n",
       "      <td>NaN</td>\n",
       "      <td>NaN</td>\n",
       "      <td>20.000000</td>\n",
       "      <td>0.038968</td>\n",
       "      <td>0.017647</td>\n",
       "      <td>0.046136</td>\n",
       "      <td>0.025529</td>\n",
       "    </tr>\n",
       "    <tr>\n",
       "      <th>1</th>\n",
       "      <td>crossfold</td>\n",
       "      <td>5</td>\n",
       "      <td>Popular</td>\n",
       "      <td>Y</td>\n",
       "      <td>0.253</td>\n",
       "      <td>0.504</td>\n",
       "      <td>0</td>\n",
       "      <td>0</td>\n",
       "      <td>0</td>\n",
       "      <td>NaN</td>\n",
       "      <td>NaN</td>\n",
       "      <td>NaN</td>\n",
       "      <td>20.000000</td>\n",
       "      <td>0.022203</td>\n",
       "      <td>0.011765</td>\n",
       "      <td>0.043583</td>\n",
       "      <td>0.018528</td>\n",
       "    </tr>\n",
       "    <tr>\n",
       "      <th>2</th>\n",
       "      <td>crossfold</td>\n",
       "      <td>5</td>\n",
       "      <td>ItemItem</td>\n",
       "      <td>Y</td>\n",
       "      <td>2.713</td>\n",
       "      <td>1.191</td>\n",
       "      <td>34</td>\n",
       "      <td>330</td>\n",
       "      <td>88</td>\n",
       "      <td>0.266667</td>\n",
       "      <td>3.116176</td>\n",
       "      <td>3.849358</td>\n",
       "      <td>19.411765</td>\n",
       "      <td>0.078721</td>\n",
       "      <td>0.016176</td>\n",
       "      <td>0.030138</td>\n",
       "      <td>0.021053</td>\n",
       "    </tr>\n",
       "    <tr>\n",
       "      <th>3</th>\n",
       "      <td>crossfold</td>\n",
       "      <td>4</td>\n",
       "      <td>ItemItem</td>\n",
       "      <td>Y</td>\n",
       "      <td>2.274</td>\n",
       "      <td>0.667</td>\n",
       "      <td>34</td>\n",
       "      <td>500</td>\n",
       "      <td>162</td>\n",
       "      <td>0.324000</td>\n",
       "      <td>2.629579</td>\n",
       "      <td>6.906085</td>\n",
       "      <td>18.235294</td>\n",
       "      <td>0.039920</td>\n",
       "      <td>0.010294</td>\n",
       "      <td>0.039010</td>\n",
       "      <td>0.016290</td>\n",
       "    </tr>\n",
       "    <tr>\n",
       "      <th>4</th>\n",
       "      <td>crossfold</td>\n",
       "      <td>3</td>\n",
       "      <td>Popular</td>\n",
       "      <td>Y</td>\n",
       "      <td>0.028</td>\n",
       "      <td>0.180</td>\n",
       "      <td>0</td>\n",
       "      <td>0</td>\n",
       "      <td>0</td>\n",
       "      <td>NaN</td>\n",
       "      <td>NaN</td>\n",
       "      <td>NaN</td>\n",
       "      <td>20.000000</td>\n",
       "      <td>0.022636</td>\n",
       "      <td>0.011429</td>\n",
       "      <td>0.065887</td>\n",
       "      <td>0.019478</td>\n",
       "    </tr>\n",
       "  </tbody>\n",
       "</table>\n",
       "</div>"
      ],
      "text/plain": [
       "     DataSet  Partition Algorithm Succeeded  BuildTime  TestTime  NUsers  \\\n",
       "0  crossfold          4   Popular         Y      0.270     0.499       0   \n",
       "1  crossfold          5   Popular         Y      0.253     0.504       0   \n",
       "2  crossfold          5  ItemItem         Y      2.713     1.191      34   \n",
       "3  crossfold          4  ItemItem         Y      2.274     0.667      34   \n",
       "4  crossfold          3   Popular         Y      0.028     0.180       0   \n",
       "\n",
       "   NAttempted  NGood  Coverage  RMSE.ByUser  RMSE.ByRating  TopN.ActualLength  \\\n",
       "0           0      0       NaN          NaN            NaN          20.000000   \n",
       "1           0      0       NaN          NaN            NaN          20.000000   \n",
       "2         330     88  0.266667     3.116176       3.849358          19.411765   \n",
       "3         500    162  0.324000     2.629579       6.906085          18.235294   \n",
       "4           0      0       NaN          NaN            NaN          20.000000   \n",
       "\n",
       "        MAP  Precision    Recall        F1  \n",
       "0  0.038968   0.017647  0.046136  0.025529  \n",
       "1  0.022203   0.011765  0.043583  0.018528  \n",
       "2  0.078721   0.016176  0.030138  0.021053  \n",
       "3  0.039920   0.010294  0.039010  0.016290  \n",
       "4  0.022636   0.011429  0.065887  0.019478  "
      ]
     },
     "execution_count": 3,
     "metadata": {},
     "output_type": "execute_result"
    }
   ],
   "source": [
    "results = pd.read_csv('build/eval-results.csv')\n",
    "results.head()"
   ]
  },
  {
   "cell_type": "code",
   "execution_count": 4,
   "metadata": {},
   "outputs": [
    {
     "data": {
      "text/html": [
       "<div>\n",
       "<style>\n",
       "    .dataframe thead tr:only-child th {\n",
       "        text-align: right;\n",
       "    }\n",
       "\n",
       "    .dataframe thead th {\n",
       "        text-align: left;\n",
       "    }\n",
       "\n",
       "    .dataframe tbody tr th {\n",
       "        vertical-align: top;\n",
       "    }\n",
       "</style>\n",
       "<table border=\"1\" class=\"dataframe\">\n",
       "  <thead>\n",
       "    <tr style=\"text-align: right;\">\n",
       "      <th></th>\n",
       "      <th>DataSet</th>\n",
       "      <th>Partition</th>\n",
       "      <th>Algorithm</th>\n",
       "      <th>Succeeded</th>\n",
       "      <th>BuildTime</th>\n",
       "      <th>TestTime</th>\n",
       "      <th>NUsers</th>\n",
       "      <th>NAttempted</th>\n",
       "      <th>NGood</th>\n",
       "      <th>Coverage</th>\n",
       "      <th>RMSE.ByUser</th>\n",
       "      <th>RMSE.ByRating</th>\n",
       "      <th>TopN.ActualLength</th>\n",
       "      <th>MAP</th>\n",
       "      <th>Precision</th>\n",
       "      <th>Recall</th>\n",
       "      <th>F1</th>\n",
       "    </tr>\n",
       "  </thead>\n",
       "  <tbody>\n",
       "    <tr>\n",
       "      <th>0</th>\n",
       "      <td>crossfold</td>\n",
       "      <td>4</td>\n",
       "      <td>Popular</td>\n",
       "      <td>Y</td>\n",
       "      <td>0.202</td>\n",
       "      <td>0.375</td>\n",
       "      <td>0</td>\n",
       "      <td>0</td>\n",
       "      <td>0</td>\n",
       "      <td>NaN</td>\n",
       "      <td>NaN</td>\n",
       "      <td>NaN</td>\n",
       "      <td>20.000000</td>\n",
       "      <td>0.073360</td>\n",
       "      <td>0.016176</td>\n",
       "      <td>0.053832</td>\n",
       "      <td>0.024877</td>\n",
       "    </tr>\n",
       "    <tr>\n",
       "      <th>1</th>\n",
       "      <td>crossfold</td>\n",
       "      <td>5</td>\n",
       "      <td>Popular</td>\n",
       "      <td>Y</td>\n",
       "      <td>0.200</td>\n",
       "      <td>0.420</td>\n",
       "      <td>0</td>\n",
       "      <td>0</td>\n",
       "      <td>0</td>\n",
       "      <td>NaN</td>\n",
       "      <td>NaN</td>\n",
       "      <td>NaN</td>\n",
       "      <td>20.000000</td>\n",
       "      <td>0.080760</td>\n",
       "      <td>0.020588</td>\n",
       "      <td>0.056476</td>\n",
       "      <td>0.030176</td>\n",
       "    </tr>\n",
       "    <tr>\n",
       "      <th>2</th>\n",
       "      <td>crossfold</td>\n",
       "      <td>3</td>\n",
       "      <td>Popular</td>\n",
       "      <td>Y</td>\n",
       "      <td>0.056</td>\n",
       "      <td>0.317</td>\n",
       "      <td>0</td>\n",
       "      <td>0</td>\n",
       "      <td>0</td>\n",
       "      <td>NaN</td>\n",
       "      <td>NaN</td>\n",
       "      <td>NaN</td>\n",
       "      <td>20.000000</td>\n",
       "      <td>0.050623</td>\n",
       "      <td>0.014286</td>\n",
       "      <td>0.061500</td>\n",
       "      <td>0.023186</td>\n",
       "    </tr>\n",
       "    <tr>\n",
       "      <th>3</th>\n",
       "      <td>crossfold</td>\n",
       "      <td>5</td>\n",
       "      <td>ItemItem</td>\n",
       "      <td>Y</td>\n",
       "      <td>0.564</td>\n",
       "      <td>0.705</td>\n",
       "      <td>34</td>\n",
       "      <td>392</td>\n",
       "      <td>62</td>\n",
       "      <td>0.158163</td>\n",
       "      <td>0.000000</td>\n",
       "      <td>0.000000</td>\n",
       "      <td>14.205882</td>\n",
       "      <td>0.072572</td>\n",
       "      <td>0.011842</td>\n",
       "      <td>0.031383</td>\n",
       "      <td>0.017196</td>\n",
       "    </tr>\n",
       "    <tr>\n",
       "      <th>4</th>\n",
       "      <td>crossfold</td>\n",
       "      <td>4</td>\n",
       "      <td>ItemItem</td>\n",
       "      <td>Y</td>\n",
       "      <td>0.623</td>\n",
       "      <td>0.867</td>\n",
       "      <td>34</td>\n",
       "      <td>377</td>\n",
       "      <td>47</td>\n",
       "      <td>0.124668</td>\n",
       "      <td>0.000000</td>\n",
       "      <td>0.000000</td>\n",
       "      <td>13.735294</td>\n",
       "      <td>0.127925</td>\n",
       "      <td>0.010294</td>\n",
       "      <td>0.020810</td>\n",
       "      <td>0.013774</td>\n",
       "    </tr>\n",
       "    <tr>\n",
       "      <th>5</th>\n",
       "      <td>crossfold</td>\n",
       "      <td>2</td>\n",
       "      <td>Popular</td>\n",
       "      <td>Y</td>\n",
       "      <td>0.072</td>\n",
       "      <td>0.077</td>\n",
       "      <td>0</td>\n",
       "      <td>0</td>\n",
       "      <td>0</td>\n",
       "      <td>NaN</td>\n",
       "      <td>NaN</td>\n",
       "      <td>NaN</td>\n",
       "      <td>20.000000</td>\n",
       "      <td>0.009308</td>\n",
       "      <td>0.007143</td>\n",
       "      <td>0.011448</td>\n",
       "      <td>0.008797</td>\n",
       "    </tr>\n",
       "    <tr>\n",
       "      <th>6</th>\n",
       "      <td>crossfold</td>\n",
       "      <td>1</td>\n",
       "      <td>ItemItem</td>\n",
       "      <td>Y</td>\n",
       "      <td>0.560</td>\n",
       "      <td>1.155</td>\n",
       "      <td>35</td>\n",
       "      <td>579</td>\n",
       "      <td>56</td>\n",
       "      <td>0.096718</td>\n",
       "      <td>0.000000</td>\n",
       "      <td>0.000000</td>\n",
       "      <td>14.828571</td>\n",
       "      <td>0.030485</td>\n",
       "      <td>0.008571</td>\n",
       "      <td>0.022854</td>\n",
       "      <td>0.012467</td>\n",
       "    </tr>\n",
       "    <tr>\n",
       "      <th>7</th>\n",
       "      <td>crossfold</td>\n",
       "      <td>1</td>\n",
       "      <td>Popular</td>\n",
       "      <td>Y</td>\n",
       "      <td>0.039</td>\n",
       "      <td>0.099</td>\n",
       "      <td>0</td>\n",
       "      <td>0</td>\n",
       "      <td>0</td>\n",
       "      <td>NaN</td>\n",
       "      <td>NaN</td>\n",
       "      <td>NaN</td>\n",
       "      <td>20.000000</td>\n",
       "      <td>0.041468</td>\n",
       "      <td>0.014286</td>\n",
       "      <td>0.060142</td>\n",
       "      <td>0.023087</td>\n",
       "    </tr>\n",
       "    <tr>\n",
       "      <th>8</th>\n",
       "      <td>crossfold</td>\n",
       "      <td>2</td>\n",
       "      <td>ItemItem</td>\n",
       "      <td>Y</td>\n",
       "      <td>0.215</td>\n",
       "      <td>0.417</td>\n",
       "      <td>35</td>\n",
       "      <td>359</td>\n",
       "      <td>19</td>\n",
       "      <td>0.052925</td>\n",
       "      <td>0.000000</td>\n",
       "      <td>0.000000</td>\n",
       "      <td>14.200000</td>\n",
       "      <td>0.036962</td>\n",
       "      <td>0.018571</td>\n",
       "      <td>0.009158</td>\n",
       "      <td>0.012266</td>\n",
       "    </tr>\n",
       "    <tr>\n",
       "      <th>9</th>\n",
       "      <td>crossfold</td>\n",
       "      <td>3</td>\n",
       "      <td>ItemItem</td>\n",
       "      <td>Y</td>\n",
       "      <td>0.221</td>\n",
       "      <td>0.581</td>\n",
       "      <td>35</td>\n",
       "      <td>287</td>\n",
       "      <td>27</td>\n",
       "      <td>0.094077</td>\n",
       "      <td>0.000000</td>\n",
       "      <td>0.000000</td>\n",
       "      <td>13.057143</td>\n",
       "      <td>0.047276</td>\n",
       "      <td>0.004286</td>\n",
       "      <td>0.009740</td>\n",
       "      <td>0.005952</td>\n",
       "    </tr>\n",
       "    <tr>\n",
       "      <th>10</th>\n",
       "      <td>crossfold</td>\n",
       "      <td>1</td>\n",
       "      <td>PF</td>\n",
       "      <td>Y</td>\n",
       "      <td>344.235</td>\n",
       "      <td>0.250</td>\n",
       "      <td>35</td>\n",
       "      <td>579</td>\n",
       "      <td>207</td>\n",
       "      <td>0.357513</td>\n",
       "      <td>0.191280</td>\n",
       "      <td>0.232231</td>\n",
       "      <td>20.000000</td>\n",
       "      <td>0.000000</td>\n",
       "      <td>0.000000</td>\n",
       "      <td>0.000000</td>\n",
       "      <td>0.000000</td>\n",
       "    </tr>\n",
       "    <tr>\n",
       "      <th>11</th>\n",
       "      <td>crossfold</td>\n",
       "      <td>5</td>\n",
       "      <td>PF</td>\n",
       "      <td>Y</td>\n",
       "      <td>351.451</td>\n",
       "      <td>0.133</td>\n",
       "      <td>34</td>\n",
       "      <td>392</td>\n",
       "      <td>148</td>\n",
       "      <td>0.377551</td>\n",
       "      <td>0.146128</td>\n",
       "      <td>0.155670</td>\n",
       "      <td>20.000000</td>\n",
       "      <td>0.018137</td>\n",
       "      <td>0.007353</td>\n",
       "      <td>0.005480</td>\n",
       "      <td>0.006280</td>\n",
       "    </tr>\n",
       "    <tr>\n",
       "      <th>12</th>\n",
       "      <td>crossfold</td>\n",
       "      <td>2</td>\n",
       "      <td>PF</td>\n",
       "      <td>Y</td>\n",
       "      <td>353.295</td>\n",
       "      <td>0.125</td>\n",
       "      <td>35</td>\n",
       "      <td>359</td>\n",
       "      <td>96</td>\n",
       "      <td>0.267409</td>\n",
       "      <td>0.217331</td>\n",
       "      <td>0.262480</td>\n",
       "      <td>20.000000</td>\n",
       "      <td>0.000000</td>\n",
       "      <td>0.000000</td>\n",
       "      <td>0.000000</td>\n",
       "      <td>0.000000</td>\n",
       "    </tr>\n",
       "    <tr>\n",
       "      <th>13</th>\n",
       "      <td>crossfold</td>\n",
       "      <td>4</td>\n",
       "      <td>PF</td>\n",
       "      <td>Y</td>\n",
       "      <td>357.920</td>\n",
       "      <td>0.096</td>\n",
       "      <td>34</td>\n",
       "      <td>377</td>\n",
       "      <td>125</td>\n",
       "      <td>0.331565</td>\n",
       "      <td>0.207325</td>\n",
       "      <td>0.249783</td>\n",
       "      <td>20.000000</td>\n",
       "      <td>0.007190</td>\n",
       "      <td>0.004412</td>\n",
       "      <td>0.006226</td>\n",
       "      <td>0.005164</td>\n",
       "    </tr>\n",
       "    <tr>\n",
       "      <th>14</th>\n",
       "      <td>crossfold</td>\n",
       "      <td>3</td>\n",
       "      <td>PF</td>\n",
       "      <td>Y</td>\n",
       "      <td>362.595</td>\n",
       "      <td>0.098</td>\n",
       "      <td>35</td>\n",
       "      <td>287</td>\n",
       "      <td>100</td>\n",
       "      <td>0.348432</td>\n",
       "      <td>0.242207</td>\n",
       "      <td>0.250083</td>\n",
       "      <td>20.000000</td>\n",
       "      <td>0.007143</td>\n",
       "      <td>0.001429</td>\n",
       "      <td>0.002198</td>\n",
       "      <td>0.001732</td>\n",
       "    </tr>\n",
       "  </tbody>\n",
       "</table>\n",
       "</div>"
      ],
      "text/plain": [
       "      DataSet  Partition Algorithm Succeeded  BuildTime  TestTime  NUsers  \\\n",
       "0   crossfold          4   Popular         Y      0.202     0.375       0   \n",
       "1   crossfold          5   Popular         Y      0.200     0.420       0   \n",
       "2   crossfold          3   Popular         Y      0.056     0.317       0   \n",
       "3   crossfold          5  ItemItem         Y      0.564     0.705      34   \n",
       "4   crossfold          4  ItemItem         Y      0.623     0.867      34   \n",
       "5   crossfold          2   Popular         Y      0.072     0.077       0   \n",
       "6   crossfold          1  ItemItem         Y      0.560     1.155      35   \n",
       "7   crossfold          1   Popular         Y      0.039     0.099       0   \n",
       "8   crossfold          2  ItemItem         Y      0.215     0.417      35   \n",
       "9   crossfold          3  ItemItem         Y      0.221     0.581      35   \n",
       "10  crossfold          1        PF         Y    344.235     0.250      35   \n",
       "11  crossfold          5        PF         Y    351.451     0.133      34   \n",
       "12  crossfold          2        PF         Y    353.295     0.125      35   \n",
       "13  crossfold          4        PF         Y    357.920     0.096      34   \n",
       "14  crossfold          3        PF         Y    362.595     0.098      35   \n",
       "\n",
       "    NAttempted  NGood  Coverage  RMSE.ByUser  RMSE.ByRating  \\\n",
       "0            0      0       NaN          NaN            NaN   \n",
       "1            0      0       NaN          NaN            NaN   \n",
       "2            0      0       NaN          NaN            NaN   \n",
       "3          392     62  0.158163     0.000000       0.000000   \n",
       "4          377     47  0.124668     0.000000       0.000000   \n",
       "5            0      0       NaN          NaN            NaN   \n",
       "6          579     56  0.096718     0.000000       0.000000   \n",
       "7            0      0       NaN          NaN            NaN   \n",
       "8          359     19  0.052925     0.000000       0.000000   \n",
       "9          287     27  0.094077     0.000000       0.000000   \n",
       "10         579    207  0.357513     0.191280       0.232231   \n",
       "11         392    148  0.377551     0.146128       0.155670   \n",
       "12         359     96  0.267409     0.217331       0.262480   \n",
       "13         377    125  0.331565     0.207325       0.249783   \n",
       "14         287    100  0.348432     0.242207       0.250083   \n",
       "\n",
       "    TopN.ActualLength       MAP  Precision    Recall        F1  \n",
       "0           20.000000  0.073360   0.016176  0.053832  0.024877  \n",
       "1           20.000000  0.080760   0.020588  0.056476  0.030176  \n",
       "2           20.000000  0.050623   0.014286  0.061500  0.023186  \n",
       "3           14.205882  0.072572   0.011842  0.031383  0.017196  \n",
       "4           13.735294  0.127925   0.010294  0.020810  0.013774  \n",
       "5           20.000000  0.009308   0.007143  0.011448  0.008797  \n",
       "6           14.828571  0.030485   0.008571  0.022854  0.012467  \n",
       "7           20.000000  0.041468   0.014286  0.060142  0.023087  \n",
       "8           14.200000  0.036962   0.018571  0.009158  0.012266  \n",
       "9           13.057143  0.047276   0.004286  0.009740  0.005952  \n",
       "10          20.000000  0.000000   0.000000  0.000000  0.000000  \n",
       "11          20.000000  0.018137   0.007353  0.005480  0.006280  \n",
       "12          20.000000  0.000000   0.000000  0.000000  0.000000  \n",
       "13          20.000000  0.007190   0.004412  0.006226  0.005164  \n",
       "14          20.000000  0.007143   0.001429  0.002198  0.001732  "
      ]
     },
     "execution_count": 4,
     "metadata": {},
     "output_type": "execute_result"
    }
   ],
   "source": [
    "results"
   ]
  },
  {
   "cell_type": "markdown",
   "metadata": {},
   "source": [
    "We ran each algorithm 5 times since we used 5-fold cross-validation.  What we want to do next is compute the average value of each metric for each data set."
   ]
  },
  {
   "cell_type": "code",
   "execution_count": 5,
   "metadata": {},
   "outputs": [
    {
     "ename": "KeyError",
     "evalue": "'lambda'",
     "output_type": "error",
     "traceback": [
      "\u001b[0;31m---------------------------------------------------------------------------\u001b[0m",
      "\u001b[0;31mKeyError\u001b[0m                                  Traceback (most recent call last)",
      "\u001b[0;32m<ipython-input-5-0928cab44be9>\u001b[0m in \u001b[0;36m<module>\u001b[0;34m()\u001b[0m\n\u001b[0;32m----> 1\u001b[0;31m \u001b[0magg_results\u001b[0m \u001b[0;34m=\u001b[0m \u001b[0mresults\u001b[0m\u001b[0;34m.\u001b[0m\u001b[0mdrop\u001b[0m\u001b[0;34m(\u001b[0m\u001b[0;34m[\u001b[0m\u001b[0;34m'Partition'\u001b[0m\u001b[0;34m]\u001b[0m\u001b[0;34m,\u001b[0m \u001b[0maxis\u001b[0m\u001b[0;34m=\u001b[0m\u001b[0;36m1\u001b[0m\u001b[0;34m)\u001b[0m\u001b[0;34m.\u001b[0m\u001b[0mgroupby\u001b[0m\u001b[0;34m(\u001b[0m\u001b[0;34m[\u001b[0m\u001b[0;34m'Algorithm'\u001b[0m\u001b[0;34m,\u001b[0m\u001b[0;34m'lambda'\u001b[0m\u001b[0;34m,\u001b[0m\u001b[0;34m'Beta'\u001b[0m\u001b[0;34m]\u001b[0m\u001b[0;34m)\u001b[0m\u001b[0;34m.\u001b[0m\u001b[0mmean\u001b[0m\u001b[0;34m(\u001b[0m\u001b[0;34m)\u001b[0m\u001b[0;34m\u001b[0m\u001b[0m\n\u001b[0m\u001b[1;32m      2\u001b[0m \u001b[0magg_results\u001b[0m\u001b[0;34m\u001b[0m\u001b[0m\n",
      "\u001b[0;32m/home/mtian/anaconda3/lib/python3.6/site-packages/pandas/core/generic.py\u001b[0m in \u001b[0;36mgroupby\u001b[0;34m(self, by, axis, level, as_index, sort, group_keys, squeeze, **kwargs)\u001b[0m\n\u001b[1;32m   4269\u001b[0m         return groupby(self, by=by, axis=axis, level=level, as_index=as_index,\n\u001b[1;32m   4270\u001b[0m                        \u001b[0msort\u001b[0m\u001b[0;34m=\u001b[0m\u001b[0msort\u001b[0m\u001b[0;34m,\u001b[0m \u001b[0mgroup_keys\u001b[0m\u001b[0;34m=\u001b[0m\u001b[0mgroup_keys\u001b[0m\u001b[0;34m,\u001b[0m \u001b[0msqueeze\u001b[0m\u001b[0;34m=\u001b[0m\u001b[0msqueeze\u001b[0m\u001b[0;34m,\u001b[0m\u001b[0;34m\u001b[0m\u001b[0m\n\u001b[0;32m-> 4271\u001b[0;31m                        **kwargs)\n\u001b[0m\u001b[1;32m   4272\u001b[0m \u001b[0;34m\u001b[0m\u001b[0m\n\u001b[1;32m   4273\u001b[0m     def asfreq(self, freq, method=None, how=None, normalize=False,\n",
      "\u001b[0;32m/home/mtian/anaconda3/lib/python3.6/site-packages/pandas/core/groupby.py\u001b[0m in \u001b[0;36mgroupby\u001b[0;34m(obj, by, **kwds)\u001b[0m\n\u001b[1;32m   1624\u001b[0m         \u001b[0;32mraise\u001b[0m \u001b[0mTypeError\u001b[0m\u001b[0;34m(\u001b[0m\u001b[0;34m'invalid type: %s'\u001b[0m \u001b[0;34m%\u001b[0m \u001b[0mtype\u001b[0m\u001b[0;34m(\u001b[0m\u001b[0mobj\u001b[0m\u001b[0;34m)\u001b[0m\u001b[0;34m)\u001b[0m\u001b[0;34m\u001b[0m\u001b[0m\n\u001b[1;32m   1625\u001b[0m \u001b[0;34m\u001b[0m\u001b[0m\n\u001b[0;32m-> 1626\u001b[0;31m     \u001b[0;32mreturn\u001b[0m \u001b[0mklass\u001b[0m\u001b[0;34m(\u001b[0m\u001b[0mobj\u001b[0m\u001b[0;34m,\u001b[0m \u001b[0mby\u001b[0m\u001b[0;34m,\u001b[0m \u001b[0;34m**\u001b[0m\u001b[0mkwds\u001b[0m\u001b[0;34m)\u001b[0m\u001b[0;34m\u001b[0m\u001b[0m\n\u001b[0m\u001b[1;32m   1627\u001b[0m \u001b[0;34m\u001b[0m\u001b[0m\n\u001b[1;32m   1628\u001b[0m \u001b[0;34m\u001b[0m\u001b[0m\n",
      "\u001b[0;32m/home/mtian/anaconda3/lib/python3.6/site-packages/pandas/core/groupby.py\u001b[0m in \u001b[0;36m__init__\u001b[0;34m(self, obj, keys, axis, level, grouper, exclusions, selection, as_index, sort, group_keys, squeeze, **kwargs)\u001b[0m\n\u001b[1;32m    390\u001b[0m                                                     \u001b[0mlevel\u001b[0m\u001b[0;34m=\u001b[0m\u001b[0mlevel\u001b[0m\u001b[0;34m,\u001b[0m\u001b[0;34m\u001b[0m\u001b[0m\n\u001b[1;32m    391\u001b[0m                                                     \u001b[0msort\u001b[0m\u001b[0;34m=\u001b[0m\u001b[0msort\u001b[0m\u001b[0;34m,\u001b[0m\u001b[0;34m\u001b[0m\u001b[0m\n\u001b[0;32m--> 392\u001b[0;31m                                                     mutated=self.mutated)\n\u001b[0m\u001b[1;32m    393\u001b[0m \u001b[0;34m\u001b[0m\u001b[0m\n\u001b[1;32m    394\u001b[0m         \u001b[0mself\u001b[0m\u001b[0;34m.\u001b[0m\u001b[0mobj\u001b[0m \u001b[0;34m=\u001b[0m \u001b[0mobj\u001b[0m\u001b[0;34m\u001b[0m\u001b[0m\n",
      "\u001b[0;32m/home/mtian/anaconda3/lib/python3.6/site-packages/pandas/core/groupby.py\u001b[0m in \u001b[0;36m_get_grouper\u001b[0;34m(obj, key, axis, level, sort, mutated)\u001b[0m\n\u001b[1;32m   2615\u001b[0m                 \u001b[0min_axis\u001b[0m\u001b[0;34m,\u001b[0m \u001b[0mname\u001b[0m\u001b[0;34m,\u001b[0m \u001b[0mlevel\u001b[0m\u001b[0;34m,\u001b[0m \u001b[0mgpr\u001b[0m \u001b[0;34m=\u001b[0m \u001b[0;32mFalse\u001b[0m\u001b[0;34m,\u001b[0m \u001b[0;32mNone\u001b[0m\u001b[0;34m,\u001b[0m \u001b[0mgpr\u001b[0m\u001b[0;34m,\u001b[0m \u001b[0;32mNone\u001b[0m\u001b[0;34m\u001b[0m\u001b[0m\n\u001b[1;32m   2616\u001b[0m             \u001b[0;32melse\u001b[0m\u001b[0;34m:\u001b[0m\u001b[0;34m\u001b[0m\u001b[0m\n\u001b[0;32m-> 2617\u001b[0;31m                 \u001b[0;32mraise\u001b[0m \u001b[0mKeyError\u001b[0m\u001b[0;34m(\u001b[0m\u001b[0mgpr\u001b[0m\u001b[0;34m)\u001b[0m\u001b[0;34m\u001b[0m\u001b[0m\n\u001b[0m\u001b[1;32m   2618\u001b[0m         \u001b[0;32melif\u001b[0m \u001b[0misinstance\u001b[0m\u001b[0;34m(\u001b[0m\u001b[0mgpr\u001b[0m\u001b[0;34m,\u001b[0m \u001b[0mGrouper\u001b[0m\u001b[0;34m)\u001b[0m \u001b[0;32mand\u001b[0m \u001b[0mgpr\u001b[0m\u001b[0;34m.\u001b[0m\u001b[0mkey\u001b[0m \u001b[0;32mis\u001b[0m \u001b[0;32mnot\u001b[0m \u001b[0;32mNone\u001b[0m\u001b[0;34m:\u001b[0m\u001b[0;34m\u001b[0m\u001b[0m\n\u001b[1;32m   2619\u001b[0m             \u001b[0;31m# Add key to exclusions\u001b[0m\u001b[0;34m\u001b[0m\u001b[0;34m\u001b[0m\u001b[0m\n",
      "\u001b[0;31mKeyError\u001b[0m: 'lambda'"
     ]
    }
   ],
   "source": [
    "agg_results = results.drop(['Partition'], axis=1).groupby(['Algorithm','lambda','Beta']).mean()\n",
    "agg_results"
   ]
  },
  {
   "cell_type": "code",
   "execution_count": 4,
   "metadata": {},
   "outputs": [
    {
     "data": {
      "text/html": [
       "<div>\n",
       "<style>\n",
       "    .dataframe thead tr:only-child th {\n",
       "        text-align: right;\n",
       "    }\n",
       "\n",
       "    .dataframe thead th {\n",
       "        text-align: left;\n",
       "    }\n",
       "\n",
       "    .dataframe tbody tr th {\n",
       "        vertical-align: top;\n",
       "    }\n",
       "</style>\n",
       "<table border=\"1\" class=\"dataframe\">\n",
       "  <thead>\n",
       "    <tr style=\"text-align: right;\">\n",
       "      <th></th>\n",
       "      <th>BuildTime</th>\n",
       "      <th>TestTime</th>\n",
       "      <th>NUsers</th>\n",
       "      <th>NAttempted</th>\n",
       "      <th>NGood</th>\n",
       "      <th>Coverage</th>\n",
       "      <th>RMSE.ByUser</th>\n",
       "      <th>RMSE.ByRating</th>\n",
       "      <th>TopN.ActualLength</th>\n",
       "      <th>MAP</th>\n",
       "      <th>Precision</th>\n",
       "      <th>Recall</th>\n",
       "      <th>F1</th>\n",
       "    </tr>\n",
       "    <tr>\n",
       "      <th>Algorithm</th>\n",
       "      <th></th>\n",
       "      <th></th>\n",
       "      <th></th>\n",
       "      <th></th>\n",
       "      <th></th>\n",
       "      <th></th>\n",
       "      <th></th>\n",
       "      <th></th>\n",
       "      <th></th>\n",
       "      <th></th>\n",
       "      <th></th>\n",
       "      <th></th>\n",
       "      <th></th>\n",
       "    </tr>\n",
       "  </thead>\n",
       "  <tbody>\n",
       "    <tr>\n",
       "      <th>ItemItem</th>\n",
       "      <td>3.1064</td>\n",
       "      <td>0.7982</td>\n",
       "      <td>34.6</td>\n",
       "      <td>398.8</td>\n",
       "      <td>108.0</td>\n",
       "      <td>0.266290</td>\n",
       "      <td>2.990968</td>\n",
       "      <td>5.629945</td>\n",
       "      <td>19.186555</td>\n",
       "      <td>0.075484</td>\n",
       "      <td>0.013866</td>\n",
       "      <td>0.041008</td>\n",
       "      <td>0.020488</td>\n",
       "    </tr>\n",
       "    <tr>\n",
       "      <th>PF</th>\n",
       "      <td>355.6122</td>\n",
       "      <td>0.1112</td>\n",
       "      <td>34.6</td>\n",
       "      <td>398.8</td>\n",
       "      <td>135.6</td>\n",
       "      <td>0.337602</td>\n",
       "      <td>2.691387</td>\n",
       "      <td>3.539105</td>\n",
       "      <td>20.000000</td>\n",
       "      <td>0.006983</td>\n",
       "      <td>0.003218</td>\n",
       "      <td>0.004034</td>\n",
       "      <td>0.003406</td>\n",
       "    </tr>\n",
       "    <tr>\n",
       "      <th>Popular</th>\n",
       "      <td>0.1198</td>\n",
       "      <td>0.2758</td>\n",
       "      <td>0.0</td>\n",
       "      <td>0.0</td>\n",
       "      <td>0.0</td>\n",
       "      <td>NaN</td>\n",
       "      <td>NaN</td>\n",
       "      <td>NaN</td>\n",
       "      <td>20.000000</td>\n",
       "      <td>0.044752</td>\n",
       "      <td>0.013311</td>\n",
       "      <td>0.049819</td>\n",
       "      <td>0.020662</td>\n",
       "    </tr>\n",
       "    <tr>\n",
       "      <th>funkSVD</th>\n",
       "      <td>13.7204</td>\n",
       "      <td>0.3802</td>\n",
       "      <td>34.6</td>\n",
       "      <td>398.8</td>\n",
       "      <td>135.6</td>\n",
       "      <td>0.337602</td>\n",
       "      <td>2.380110</td>\n",
       "      <td>3.346752</td>\n",
       "      <td>20.000000</td>\n",
       "      <td>0.000000</td>\n",
       "      <td>0.000000</td>\n",
       "      <td>0.000000</td>\n",
       "      <td>0.000000</td>\n",
       "    </tr>\n",
       "  </tbody>\n",
       "</table>\n",
       "</div>"
      ],
      "text/plain": [
       "           BuildTime  TestTime  NUsers  NAttempted  NGood  Coverage  \\\n",
       "Algorithm                                                             \n",
       "ItemItem      3.1064    0.7982    34.6       398.8  108.0  0.266290   \n",
       "PF          355.6122    0.1112    34.6       398.8  135.6  0.337602   \n",
       "Popular       0.1198    0.2758     0.0         0.0    0.0       NaN   \n",
       "funkSVD      13.7204    0.3802    34.6       398.8  135.6  0.337602   \n",
       "\n",
       "           RMSE.ByUser  RMSE.ByRating  TopN.ActualLength       MAP  Precision  \\\n",
       "Algorithm                                                                       \n",
       "ItemItem      2.990968       5.629945          19.186555  0.075484   0.013866   \n",
       "PF            2.691387       3.539105          20.000000  0.006983   0.003218   \n",
       "Popular            NaN            NaN          20.000000  0.044752   0.013311   \n",
       "funkSVD       2.380110       3.346752          20.000000  0.000000   0.000000   \n",
       "\n",
       "             Recall        F1  \n",
       "Algorithm                      \n",
       "ItemItem   0.041008  0.020488  \n",
       "PF         0.004034  0.003406  \n",
       "Popular    0.049819  0.020662  \n",
       "funkSVD    0.000000  0.000000  "
      ]
     },
     "execution_count": 4,
     "metadata": {},
     "output_type": "execute_result"
    }
   ],
   "source": [
    "agg_results = results.drop(['Partition'], axis=1).groupby(['Algorithm']).mean()\n",
    "agg_results"
   ]
  },
  {
   "cell_type": "code",
   "execution_count": 7,
   "metadata": {
    "collapsed": true
   },
   "outputs": [],
   "source": [
    "res_slim = results.loc[results['lambda'].notnull(), :]"
   ]
  },
  {
   "cell_type": "code",
   "execution_count": 8,
   "metadata": {},
   "outputs": [
    {
     "data": {
      "text/plain": [
       "<matplotlib.axes._subplots.AxesSubplot at 0x7fc7355cdc18>"
      ]
     },
     "execution_count": 8,
     "metadata": {},
     "output_type": "execute_result"
    },
    {
     "data": {
      "image/png": "[encoded data removed]",
      "text/plain": [
       "<matplotlib.figure.Figure at 0x7fc7355cd2e8>"
      ]
     },
     "metadata": {},
     "output_type": "display_data"
    }
   ],
   "source": [
    "res_slim.boxplot(['RMSE.ByUser'], ['lambda','Beta','Algorithm'], figsize=(10, 8))"
   ]
  },
  {
   "cell_type": "markdown",
   "metadata": {},
   "source": [
    "## Plotting Results\n",
    "\n",
    "Let's start plotting things. What's the RMSE achieved by each algorithm?"
   ]
  },
  {
   "cell_type": "code",
   "execution_count": 9,
   "metadata": {
    "collapsed": true
   },
   "outputs": [],
   "source": [
    "df = results.loc[results['lambda'].notnull(),['lambda', 'RMSE.ByUser']].groupby('lambda').mean()\n",
    "# df.plot.scatter(x=df['lambda'], y=df['RMSE.ByUser'])"
   ]
  },
  {
   "cell_type": "code",
   "execution_count": 10,
   "metadata": {},
   "outputs": [
    {
     "name": "stderr",
     "output_type": "stream",
     "text": [
      "/home/mtian/anaconda3/lib/python3.6/site-packages/matplotlib/axes/_base.py:2917: UserWarning: Attempting to set identical left==right results\n",
      "in singular transformations; automatically expanding.\n",
      "left=0.5, right=0.5\n",
      "  'left=%s, right=%s') % (left, right))\n"
     ]
    },
    {
     "data": {
      "text/plain": [
       "<matplotlib.axes._subplots.AxesSubplot at 0x7fc731fe70f0>"
      ]
     },
     "execution_count": 10,
     "metadata": {},
     "output_type": "execute_result"
    },
    {
     "data": {
      "image/png": "[encoded data removed]",
      "text/plain": [
       "<matplotlib.figure.Figure at 0x7fc7355cde80>"
      ]
     },
     "metadata": {},
     "output_type": "display_data"
    }
   ],
   "source": [
    "ax = df.reset_index().plot.scatter(y='RMSE.ByUser', x='lambda')\n",
    "df.plot(ax=ax)"
   ]
  },
  {
   "cell_type": "code",
   "execution_count": null,
   "metadata": {
    "collapsed": true
   },
   "outputs": [],
   "source": []
  },
  {
   "cell_type": "markdown",
   "metadata": {},
   "source": [
    "Next up: nDCG"
   ]
  },
  {
   "cell_type": "code",
   "execution_count": 11,
   "metadata": {},
   "outputs": [
    {
     "data": {
      "text/plain": [
       "<matplotlib.axes._subplots.AxesSubplot at 0x7fc7320e06a0>"
      ]
     },
     "execution_count": 11,
     "metadata": {},
     "output_type": "execute_result"
    },
    {
     "data": {
      "image/png": "[encoded data removed]",
      "text/plain": [
       "<matplotlib.figure.Figure at 0x7fc732165b00>"
      ]
     },
     "metadata": {},
     "output_type": "display_data"
    }
   ],
   "source": [
    "results.loc[:,['Algorithm', 'Predict.nDCG']].boxplot(by='Algorithm', figsize=(8,6))"
   ]
  },
  {
   "cell_type": "markdown",
   "metadata": {},
   "source": [
    "Finally, the build and test times."
   ]
  },
  {
   "cell_type": "code",
   "execution_count": 12,
   "metadata": {},
   "outputs": [
    {
     "data": {
      "text/plain": [
       "array([<matplotlib.axes._subplots.AxesSubplot object at 0x7fc7355b0dd8>,\n",
       "       <matplotlib.axes._subplots.AxesSubplot object at 0x7fc731f45e48>], dtype=object)"
      ]
     },
     "execution_count": 12,
     "metadata": {},
     "output_type": "execute_result"
    },
    {
     "data": {
      "image/png": "[encoded data removed]",
      "text/plain": [
       "<matplotlib.figure.Figure at 0x7fc73209ef60>"
      ]
     },
     "metadata": {},
     "output_type": "display_data"
    }
   ],
   "source": [
    "results.loc[:,['Algorithm', 'BuildTime', 'TestTime']].boxplot(by='Algorithm', figsize=(8,6))"
   ]
  },
  {
   "cell_type": "code",
   "execution_count": 13,
   "metadata": {},
   "outputs": [
    {
     "data": {
      "text/plain": [
       "<matplotlib.axes._subplots.AxesSubplot at 0x7fc731f084a8>"
      ]
     },
     "execution_count": 13,
     "metadata": {},
     "output_type": "execute_result"
    },
    {
     "data": {
      "image/png": "[encoded data removed]",
      "text/plain": [
       "<matplotlib.figure.Figure at 0x7fc7320a5748>"
      ]
     },
     "metadata": {},
     "output_type": "display_data"
    }
   ],
   "source": [
    "results.loc[:,['Algorithm', 'MRR']].boxplot(by='Algorithm', figsize=(8,6))"
   ]
  },
  {
   "cell_type": "code",
   "execution_count": 5,
   "metadata": {},
   "outputs": [
    {
     "data": {
      "text/plain": [
       "<matplotlib.axes._subplots.AxesSubplot at 0x7f15f8ec6a90>"
      ]
     },
     "execution_count": 5,
     "metadata": {},
     "output_type": "execute_result"
    },
    {
     "data": {
      "image/png": "[encoded data removed]",
      "text/plain": [
       "<matplotlib.figure.Figure at 0x7f15f917f710>"
      ]
     },
     "metadata": {},
     "output_type": "display_data"
    }
   ],
   "source": [
    "results.loc[:,['Algorithm', 'MAP']].boxplot(by='Algorithm', figsize=(8,6))"
   ]
  },
  {
   "cell_type": "code",
   "execution_count": 6,
   "metadata": {},
   "outputs": [
    {
     "data": {
      "text/plain": [
       "<matplotlib.axes._subplots.AxesSubplot at 0x7f15f5a2e6d8>"
      ]
     },
     "execution_count": 6,
     "metadata": {},
     "output_type": "execute_result"
    },
    {
     "data": {
      "image/png": "[encoded data removed]",
      "text/plain": [
       "<matplotlib.figure.Figure at 0x7f15f5a81908>"
      ]
     },
     "metadata": {},
     "output_type": "display_data"
    }
   ],
   "source": [
    "results.loc[:,['Algorithm', 'Recall']].boxplot(by='Algorithm', figsize=(8,6))"
   ]
  },
  {
   "cell_type": "code",
   "execution_count": 15,
   "metadata": {},
   "outputs": [
    {
     "data": {
      "text/plain": [
       "<matplotlib.axes._subplots.AxesSubplot at 0x7faeffe9fd30>"
      ]
     },
     "execution_count": 15,
     "metadata": {},
     "output_type": "execute_result"
    },
    {
     "data": {
      "image/png": "[encoded data removed]",
      "text/plain": [
       "<matplotlib.figure.Figure at 0x7faf0022dc50>"
      ]
     },
     "metadata": {},
     "output_type": "display_data"
    }
   ],
   "source": [
    "results.loc[:,['Algorithm', 'nDCG']].boxplot(by='Algorithm', figsize=(8,6))"
   ]
  },
  {
   "cell_type": "code",
   "execution_count": null,
   "metadata": {
    "collapsed": true
   },
   "outputs": [],
   "source": []
  }
 ],
 "metadata": {
  "kernelspec": {
   "display_name": "Python 3",
   "language": "python",
   "name": "python3"
  },
  "language_info": {
   "codemirror_mode": {
    "name": "ipython",
    "version": 3
   },
   "file_extension": ".py",
   "mimetype": "text/x-python",
   "name": "python",
   "nbconvert_exporter": "python",
   "pygments_lexer": "ipython3",
   "version": "3.6.1"
  }
 },
 "nbformat": 4,
 "nbformat_minor": 1
}
