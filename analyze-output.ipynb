{
 "cells": [
  {
   "cell_type": "markdown",
   "metadata": {},
   "source": [
    "# Analyze Results from Evaluation Quickstart\n",
    "\n",
    "This notebook analyzes the results of the evaluation quickstart."
   ]
  },
  {
   "cell_type": "markdown",
   "metadata": {},
   "source": [
    "## Setup\n",
    "\n",
    "First, we need to import our libraries:"
   ]
  },
  {
   "cell_type": "code",
   "execution_count": 1,
   "metadata": {
    "collapsed": true
   },
   "outputs": [],
   "source": [
    "import pandas as pd\n",
    "import matplotlib\n",
    "import matplotlib.pyplot as plt"
   ]
  },
  {
   "cell_type": "code",
   "execution_count": 2,
   "metadata": {
    "collapsed": true
   },
   "outputs": [],
   "source": [
    "%matplotlib inline"
   ]
  },
  {
   "cell_type": "markdown",
   "metadata": {},
   "source": [
    "## Data Import and Preparation\n",
    "\n",
    "LensKit puts its output in a `csv` file:"
   ]
  },
  {
   "cell_type": "code",
   "execution_count": 3,
   "metadata": {
    "collapsed": true
   },
   "outputs": [],
   "source": [
    "results = pd.read_csv('./build/eval-results.csv')"
   ]
  },
  {
   "cell_type": "code",
   "execution_count": 4,
   "metadata": {
    "collapsed": true
   },
   "outputs": [],
   "source": [
    "res_part1 = pd.read_csv('./eval-results-en100k-sweep-part1.csv')\n",
    "res_part2 = pd.read_csv('./eval-results-en100k-sweep-part2.csv')\n",
    "results = res_part1.append(res_part2)"
   ]
  },
  {
   "cell_type": "code",
   "execution_count": 7,
   "metadata": {
    "collapsed": true
   },
   "outputs": [],
   "source": [
    "results.to_csv('./eval-results-en100k-sweep.csv',index=False)"
   ]
  },
  {
   "cell_type": "code",
   "execution_count": 4,
   "metadata": {},
   "outputs": [
    {
     "data": {
      "text/html": [
       "<div>\n",
       "<style>\n",
       "    .dataframe thead tr:only-child th {\n",
       "        text-align: right;\n",
       "    }\n",
       "\n",
       "    .dataframe thead th {\n",
       "        text-align: left;\n",
       "    }\n",
       "\n",
       "    .dataframe tbody tr th {\n",
       "        vertical-align: top;\n",
       "    }\n",
       "</style>\n",
       "<table border=\"1\" class=\"dataframe\">\n",
       "  <thead>\n",
       "    <tr style=\"text-align: right;\">\n",
       "      <th></th>\n",
       "      <th>DataSet</th>\n",
       "      <th>Partition</th>\n",
       "      <th>Algorithm</th>\n",
       "      <th>Succeeded</th>\n",
       "      <th>BuildTime</th>\n",
       "      <th>TestTime</th>\n",
       "      <th>RMSE.ByUser</th>\n",
       "      <th>RMSE.ByRating</th>\n",
       "      <th>nDCG</th>\n",
       "      <th>MRR</th>\n",
       "      <th>Precision</th>\n",
       "      <th>Recall</th>\n",
       "      <th>F1</th>\n",
       "    </tr>\n",
       "  </thead>\n",
       "  <tbody>\n",
       "    <tr>\n",
       "      <th>0</th>\n",
       "      <td>crossfold</td>\n",
       "      <td>3</td>\n",
       "      <td>Popular</td>\n",
       "      <td>Y</td>\n",
       "      <td>0.230</td>\n",
       "      <td>0.367</td>\n",
       "      <td>2.891528</td>\n",
       "      <td>2.945462</td>\n",
       "      <td>0.112415</td>\n",
       "      <td>0.197987</td>\n",
       "      <td>0.039418</td>\n",
       "      <td>0.157672</td>\n",
       "      <td>0.063069</td>\n",
       "    </tr>\n",
       "    <tr>\n",
       "      <th>1</th>\n",
       "      <td>crossfold</td>\n",
       "      <td>3</td>\n",
       "      <td>funkSVD</td>\n",
       "      <td>Y</td>\n",
       "      <td>68.467</td>\n",
       "      <td>0.604</td>\n",
       "      <td>0.954780</td>\n",
       "      <td>1.024123</td>\n",
       "      <td>0.025076</td>\n",
       "      <td>0.035604</td>\n",
       "      <td>0.010847</td>\n",
       "      <td>0.043386</td>\n",
       "      <td>0.017354</td>\n",
       "    </tr>\n",
       "    <tr>\n",
       "      <th>2</th>\n",
       "      <td>crossfold</td>\n",
       "      <td>3</td>\n",
       "      <td>PF</td>\n",
       "      <td>Y</td>\n",
       "      <td>570.069</td>\n",
       "      <td>0.436</td>\n",
       "      <td>2.758249</td>\n",
       "      <td>2.840394</td>\n",
       "      <td>0.259946</td>\n",
       "      <td>0.409376</td>\n",
       "      <td>0.091799</td>\n",
       "      <td>0.367196</td>\n",
       "      <td>0.146878</td>\n",
       "    </tr>\n",
       "    <tr>\n",
       "      <th>3</th>\n",
       "      <td>crossfold</td>\n",
       "      <td>5</td>\n",
       "      <td>Popular</td>\n",
       "      <td>Y</td>\n",
       "      <td>0.097</td>\n",
       "      <td>0.179</td>\n",
       "      <td>2.957382</td>\n",
       "      <td>3.007693</td>\n",
       "      <td>0.125657</td>\n",
       "      <td>0.200991</td>\n",
       "      <td>0.046277</td>\n",
       "      <td>0.185106</td>\n",
       "      <td>0.074043</td>\n",
       "    </tr>\n",
       "    <tr>\n",
       "      <th>4</th>\n",
       "      <td>crossfold</td>\n",
       "      <td>5</td>\n",
       "      <td>funkSVD</td>\n",
       "      <td>Y</td>\n",
       "      <td>65.542</td>\n",
       "      <td>0.194</td>\n",
       "      <td>0.943041</td>\n",
       "      <td>1.022488</td>\n",
       "      <td>0.036689</td>\n",
       "      <td>0.058093</td>\n",
       "      <td>0.013298</td>\n",
       "      <td>0.053191</td>\n",
       "      <td>0.021277</td>\n",
       "    </tr>\n",
       "    <tr>\n",
       "      <th>5</th>\n",
       "      <td>crossfold</td>\n",
       "      <td>5</td>\n",
       "      <td>PF</td>\n",
       "      <td>Y</td>\n",
       "      <td>570.708</td>\n",
       "      <td>0.284</td>\n",
       "      <td>2.763889</td>\n",
       "      <td>2.865633</td>\n",
       "      <td>0.274095</td>\n",
       "      <td>0.408275</td>\n",
       "      <td>0.093617</td>\n",
       "      <td>0.374468</td>\n",
       "      <td>0.149787</td>\n",
       "    </tr>\n",
       "    <tr>\n",
       "      <th>6</th>\n",
       "      <td>crossfold</td>\n",
       "      <td>1</td>\n",
       "      <td>Popular</td>\n",
       "      <td>Y</td>\n",
       "      <td>0.044</td>\n",
       "      <td>0.101</td>\n",
       "      <td>2.892584</td>\n",
       "      <td>2.956827</td>\n",
       "      <td>0.116993</td>\n",
       "      <td>0.191662</td>\n",
       "      <td>0.044974</td>\n",
       "      <td>0.179894</td>\n",
       "      <td>0.071958</td>\n",
       "    </tr>\n",
       "    <tr>\n",
       "      <th>7</th>\n",
       "      <td>crossfold</td>\n",
       "      <td>1</td>\n",
       "      <td>funkSVD</td>\n",
       "      <td>Y</td>\n",
       "      <td>67.917</td>\n",
       "      <td>0.497</td>\n",
       "      <td>0.991478</td>\n",
       "      <td>1.066333</td>\n",
       "      <td>0.033193</td>\n",
       "      <td>0.048069</td>\n",
       "      <td>0.012963</td>\n",
       "      <td>0.051852</td>\n",
       "      <td>0.020741</td>\n",
       "    </tr>\n",
       "    <tr>\n",
       "      <th>8</th>\n",
       "      <td>crossfold</td>\n",
       "      <td>1</td>\n",
       "      <td>PF</td>\n",
       "      <td>Y</td>\n",
       "      <td>575.506</td>\n",
       "      <td>0.174</td>\n",
       "      <td>2.764581</td>\n",
       "      <td>2.859769</td>\n",
       "      <td>0.254884</td>\n",
       "      <td>0.392360</td>\n",
       "      <td>0.087831</td>\n",
       "      <td>0.351323</td>\n",
       "      <td>0.140529</td>\n",
       "    </tr>\n",
       "    <tr>\n",
       "      <th>9</th>\n",
       "      <td>crossfold</td>\n",
       "      <td>2</td>\n",
       "      <td>Popular</td>\n",
       "      <td>Y</td>\n",
       "      <td>0.046</td>\n",
       "      <td>0.087</td>\n",
       "      <td>2.837284</td>\n",
       "      <td>2.900980</td>\n",
       "      <td>0.116265</td>\n",
       "      <td>0.184958</td>\n",
       "      <td>0.048148</td>\n",
       "      <td>0.192593</td>\n",
       "      <td>0.077037</td>\n",
       "    </tr>\n",
       "    <tr>\n",
       "      <th>10</th>\n",
       "      <td>crossfold</td>\n",
       "      <td>2</td>\n",
       "      <td>funkSVD</td>\n",
       "      <td>Y</td>\n",
       "      <td>66.363</td>\n",
       "      <td>0.239</td>\n",
       "      <td>0.973030</td>\n",
       "      <td>1.031826</td>\n",
       "      <td>0.018784</td>\n",
       "      <td>0.028753</td>\n",
       "      <td>0.007672</td>\n",
       "      <td>0.030688</td>\n",
       "      <td>0.012275</td>\n",
       "    </tr>\n",
       "    <tr>\n",
       "      <th>11</th>\n",
       "      <td>crossfold</td>\n",
       "      <td>2</td>\n",
       "      <td>PF</td>\n",
       "      <td>Y</td>\n",
       "      <td>566.603</td>\n",
       "      <td>0.164</td>\n",
       "      <td>2.679287</td>\n",
       "      <td>2.775252</td>\n",
       "      <td>0.258105</td>\n",
       "      <td>0.382779</td>\n",
       "      <td>0.092593</td>\n",
       "      <td>0.370370</td>\n",
       "      <td>0.148148</td>\n",
       "    </tr>\n",
       "    <tr>\n",
       "      <th>12</th>\n",
       "      <td>crossfold</td>\n",
       "      <td>4</td>\n",
       "      <td>Popular</td>\n",
       "      <td>Y</td>\n",
       "      <td>0.170</td>\n",
       "      <td>0.093</td>\n",
       "      <td>2.906939</td>\n",
       "      <td>2.955155</td>\n",
       "      <td>0.115939</td>\n",
       "      <td>0.197057</td>\n",
       "      <td>0.043617</td>\n",
       "      <td>0.174468</td>\n",
       "      <td>0.069787</td>\n",
       "    </tr>\n",
       "    <tr>\n",
       "      <th>13</th>\n",
       "      <td>crossfold</td>\n",
       "      <td>4</td>\n",
       "      <td>funkSVD</td>\n",
       "      <td>Y</td>\n",
       "      <td>60.768</td>\n",
       "      <td>0.151</td>\n",
       "      <td>0.944685</td>\n",
       "      <td>1.009815</td>\n",
       "      <td>0.021578</td>\n",
       "      <td>0.037043</td>\n",
       "      <td>0.007713</td>\n",
       "      <td>0.030851</td>\n",
       "      <td>0.012340</td>\n",
       "    </tr>\n",
       "    <tr>\n",
       "      <th>14</th>\n",
       "      <td>crossfold</td>\n",
       "      <td>4</td>\n",
       "      <td>PF</td>\n",
       "      <td>Y</td>\n",
       "      <td>568.413</td>\n",
       "      <td>0.133</td>\n",
       "      <td>2.827134</td>\n",
       "      <td>2.917203</td>\n",
       "      <td>0.236328</td>\n",
       "      <td>0.337875</td>\n",
       "      <td>0.088298</td>\n",
       "      <td>0.353191</td>\n",
       "      <td>0.141277</td>\n",
       "    </tr>\n",
       "  </tbody>\n",
       "</table>\n",
       "</div>"
      ],
      "text/plain": [
       "      DataSet  Partition Algorithm Succeeded  BuildTime  TestTime  \\\n",
       "0   crossfold          3   Popular         Y      0.230     0.367   \n",
       "1   crossfold          3   funkSVD         Y     68.467     0.604   \n",
       "2   crossfold          3        PF         Y    570.069     0.436   \n",
       "3   crossfold          5   Popular         Y      0.097     0.179   \n",
       "4   crossfold          5   funkSVD         Y     65.542     0.194   \n",
       "5   crossfold          5        PF         Y    570.708     0.284   \n",
       "6   crossfold          1   Popular         Y      0.044     0.101   \n",
       "7   crossfold          1   funkSVD         Y     67.917     0.497   \n",
       "8   crossfold          1        PF         Y    575.506     0.174   \n",
       "9   crossfold          2   Popular         Y      0.046     0.087   \n",
       "10  crossfold          2   funkSVD         Y     66.363     0.239   \n",
       "11  crossfold          2        PF         Y    566.603     0.164   \n",
       "12  crossfold          4   Popular         Y      0.170     0.093   \n",
       "13  crossfold          4   funkSVD         Y     60.768     0.151   \n",
       "14  crossfold          4        PF         Y    568.413     0.133   \n",
       "\n",
       "    RMSE.ByUser  RMSE.ByRating      nDCG       MRR  Precision    Recall  \\\n",
       "0      2.891528       2.945462  0.112415  0.197987   0.039418  0.157672   \n",
       "1      0.954780       1.024123  0.025076  0.035604   0.010847  0.043386   \n",
       "2      2.758249       2.840394  0.259946  0.409376   0.091799  0.367196   \n",
       "3      2.957382       3.007693  0.125657  0.200991   0.046277  0.185106   \n",
       "4      0.943041       1.022488  0.036689  0.058093   0.013298  0.053191   \n",
       "5      2.763889       2.865633  0.274095  0.408275   0.093617  0.374468   \n",
       "6      2.892584       2.956827  0.116993  0.191662   0.044974  0.179894   \n",
       "7      0.991478       1.066333  0.033193  0.048069   0.012963  0.051852   \n",
       "8      2.764581       2.859769  0.254884  0.392360   0.087831  0.351323   \n",
       "9      2.837284       2.900980  0.116265  0.184958   0.048148  0.192593   \n",
       "10     0.973030       1.031826  0.018784  0.028753   0.007672  0.030688   \n",
       "11     2.679287       2.775252  0.258105  0.382779   0.092593  0.370370   \n",
       "12     2.906939       2.955155  0.115939  0.197057   0.043617  0.174468   \n",
       "13     0.944685       1.009815  0.021578  0.037043   0.007713  0.030851   \n",
       "14     2.827134       2.917203  0.236328  0.337875   0.088298  0.353191   \n",
       "\n",
       "          F1  \n",
       "0   0.063069  \n",
       "1   0.017354  \n",
       "2   0.146878  \n",
       "3   0.074043  \n",
       "4   0.021277  \n",
       "5   0.149787  \n",
       "6   0.071958  \n",
       "7   0.020741  \n",
       "8   0.140529  \n",
       "9   0.077037  \n",
       "10  0.012275  \n",
       "11  0.148148  \n",
       "12  0.069787  \n",
       "13  0.012340  \n",
       "14  0.141277  "
      ]
     },
     "execution_count": 4,
     "metadata": {},
     "output_type": "execute_result"
    }
   ],
   "source": [
    "results"
   ]
  },
  {
   "cell_type": "markdown",
   "metadata": {},
   "source": [
    "We ran each algorithm 5 times since we used 5-fold cross-validation.  What we want to do next is compute the average value of each metric for each data set."
   ]
  },
  {
   "cell_type": "code",
   "execution_count": 1,
   "metadata": {
    "collapsed": true
   },
   "outputs": [],
   "source": [
    "# agg_results = results.drop(['Partition'], axis=1).groupby(['Algorithm','lambda','Beta']).mean()\n",
    "# agg_results"
   ]
  },
  {
   "cell_type": "code",
   "execution_count": 5,
   "metadata": {},
   "outputs": [
    {
     "data": {
      "text/html": [
       "<div>\n",
       "<style>\n",
       "    .dataframe thead tr:only-child th {\n",
       "        text-align: right;\n",
       "    }\n",
       "\n",
       "    .dataframe thead th {\n",
       "        text-align: left;\n",
       "    }\n",
       "\n",
       "    .dataframe tbody tr th {\n",
       "        vertical-align: top;\n",
       "    }\n",
       "</style>\n",
       "<table border=\"1\" class=\"dataframe\">\n",
       "  <thead>\n",
       "    <tr style=\"text-align: right;\">\n",
       "      <th></th>\n",
       "      <th>BuildTime</th>\n",
       "      <th>TestTime</th>\n",
       "      <th>RMSE.ByUser</th>\n",
       "      <th>RMSE.ByRating</th>\n",
       "      <th>nDCG</th>\n",
       "      <th>MRR</th>\n",
       "      <th>Precision</th>\n",
       "      <th>Recall</th>\n",
       "      <th>F1</th>\n",
       "    </tr>\n",
       "    <tr>\n",
       "      <th>Algorithm</th>\n",
       "      <th></th>\n",
       "      <th></th>\n",
       "      <th></th>\n",
       "      <th></th>\n",
       "      <th></th>\n",
       "      <th></th>\n",
       "      <th></th>\n",
       "      <th></th>\n",
       "      <th></th>\n",
       "    </tr>\n",
       "  </thead>\n",
       "  <tbody>\n",
       "    <tr>\n",
       "      <th>PF</th>\n",
       "      <td>570.2598</td>\n",
       "      <td>0.2382</td>\n",
       "      <td>2.758628</td>\n",
       "      <td>2.851650</td>\n",
       "      <td>0.256671</td>\n",
       "      <td>0.386133</td>\n",
       "      <td>0.090827</td>\n",
       "      <td>0.363310</td>\n",
       "      <td>0.145324</td>\n",
       "    </tr>\n",
       "    <tr>\n",
       "      <th>Popular</th>\n",
       "      <td>0.1174</td>\n",
       "      <td>0.1654</td>\n",
       "      <td>2.897144</td>\n",
       "      <td>2.953223</td>\n",
       "      <td>0.117454</td>\n",
       "      <td>0.194531</td>\n",
       "      <td>0.044487</td>\n",
       "      <td>0.177947</td>\n",
       "      <td>0.071179</td>\n",
       "    </tr>\n",
       "    <tr>\n",
       "      <th>funkSVD</th>\n",
       "      <td>65.8114</td>\n",
       "      <td>0.3370</td>\n",
       "      <td>0.961403</td>\n",
       "      <td>1.030917</td>\n",
       "      <td>0.027064</td>\n",
       "      <td>0.041512</td>\n",
       "      <td>0.010498</td>\n",
       "      <td>0.041994</td>\n",
       "      <td>0.016797</td>\n",
       "    </tr>\n",
       "  </tbody>\n",
       "</table>\n",
       "</div>"
      ],
      "text/plain": [
       "           BuildTime  TestTime  RMSE.ByUser  RMSE.ByRating      nDCG  \\\n",
       "Algorithm                                                              \n",
       "PF          570.2598    0.2382     2.758628       2.851650  0.256671   \n",
       "Popular       0.1174    0.1654     2.897144       2.953223  0.117454   \n",
       "funkSVD      65.8114    0.3370     0.961403       1.030917  0.027064   \n",
       "\n",
       "                MRR  Precision    Recall        F1  \n",
       "Algorithm                                           \n",
       "PF         0.386133   0.090827  0.363310  0.145324  \n",
       "Popular    0.194531   0.044487  0.177947  0.071179  \n",
       "funkSVD    0.041512   0.010498  0.041994  0.016797  "
      ]
     },
     "execution_count": 5,
     "metadata": {},
     "output_type": "execute_result"
    }
   ],
   "source": [
    "agg_results = results.drop(['Partition'], axis=1).groupby(['Algorithm']).mean()\n",
    "agg_results"
   ]
  },
  {
   "cell_type": "code",
   "execution_count": 6,
   "metadata": {},
   "outputs": [
    {
     "data": {
      "text/html": [
       "<div>\n",
       "<style>\n",
       "    .dataframe thead tr:only-child th {\n",
       "        text-align: right;\n",
       "    }\n",
       "\n",
       "    .dataframe thead th {\n",
       "        text-align: left;\n",
       "    }\n",
       "\n",
       "    .dataframe tbody tr th {\n",
       "        vertical-align: top;\n",
       "    }\n",
       "</style>\n",
       "<table border=\"1\" class=\"dataframe\">\n",
       "  <thead>\n",
       "    <tr style=\"text-align: right;\">\n",
       "      <th></th>\n",
       "      <th></th>\n",
       "      <th>BuildTime</th>\n",
       "      <th>TestTime</th>\n",
       "      <th>RMSE.ByUser</th>\n",
       "      <th>RMSE.ByRating</th>\n",
       "      <th>MRR</th>\n",
       "      <th>Precision</th>\n",
       "      <th>Recall</th>\n",
       "      <th>F1</th>\n",
       "    </tr>\n",
       "    <tr>\n",
       "      <th>Algorithm</th>\n",
       "      <th>FeatureCount</th>\n",
       "      <th></th>\n",
       "      <th></th>\n",
       "      <th></th>\n",
       "      <th></th>\n",
       "      <th></th>\n",
       "      <th></th>\n",
       "      <th></th>\n",
       "      <th></th>\n",
       "    </tr>\n",
       "  </thead>\n",
       "  <tbody>\n",
       "    <tr>\n",
       "      <th rowspan=\"18\" valign=\"top\">FunkSVD</th>\n",
       "      <th>25.0</th>\n",
       "      <td>9.6006</td>\n",
       "      <td>9.6910</td>\n",
       "      <td>4.211172</td>\n",
       "      <td>8.515212</td>\n",
       "      <td>0.013970</td>\n",
       "      <td>0.004212</td>\n",
       "      <td>0.004212</td>\n",
       "      <td>0.004212</td>\n",
       "    </tr>\n",
       "    <tr>\n",
       "      <th>30.0</th>\n",
       "      <td>10.4586</td>\n",
       "      <td>9.9360</td>\n",
       "      <td>4.188143</td>\n",
       "      <td>8.503824</td>\n",
       "      <td>0.014285</td>\n",
       "      <td>0.004310</td>\n",
       "      <td>0.004310</td>\n",
       "      <td>0.004310</td>\n",
       "    </tr>\n",
       "    <tr>\n",
       "      <th>35.0</th>\n",
       "      <td>12.2592</td>\n",
       "      <td>10.7742</td>\n",
       "      <td>4.168428</td>\n",
       "      <td>8.493971</td>\n",
       "      <td>0.014261</td>\n",
       "      <td>0.004188</td>\n",
       "      <td>0.004188</td>\n",
       "      <td>0.004188</td>\n",
       "    </tr>\n",
       "    <tr>\n",
       "      <th>40.0</th>\n",
       "      <td>13.8638</td>\n",
       "      <td>11.1812</td>\n",
       "      <td>4.151211</td>\n",
       "      <td>8.485276</td>\n",
       "      <td>0.013707</td>\n",
       "      <td>0.004065</td>\n",
       "      <td>0.004065</td>\n",
       "      <td>0.004065</td>\n",
       "    </tr>\n",
       "    <tr>\n",
       "      <th>45.0</th>\n",
       "      <td>15.7364</td>\n",
       "      <td>10.0792</td>\n",
       "      <td>4.135948</td>\n",
       "      <td>8.477486</td>\n",
       "      <td>0.013582</td>\n",
       "      <td>0.003894</td>\n",
       "      <td>0.003894</td>\n",
       "      <td>0.003894</td>\n",
       "    </tr>\n",
       "    <tr>\n",
       "      <th>50.0</th>\n",
       "      <td>17.3240</td>\n",
       "      <td>10.7718</td>\n",
       "      <td>4.122263</td>\n",
       "      <td>8.470425</td>\n",
       "      <td>0.013901</td>\n",
       "      <td>0.003820</td>\n",
       "      <td>0.003820</td>\n",
       "      <td>0.003820</td>\n",
       "    </tr>\n",
       "    <tr>\n",
       "      <th>60.0</th>\n",
       "      <td>20.9616</td>\n",
       "      <td>10.8554</td>\n",
       "      <td>4.098651</td>\n",
       "      <td>8.458021</td>\n",
       "      <td>0.013748</td>\n",
       "      <td>0.003869</td>\n",
       "      <td>0.003869</td>\n",
       "      <td>0.003869</td>\n",
       "    </tr>\n",
       "    <tr>\n",
       "      <th>70.0</th>\n",
       "      <td>24.6948</td>\n",
       "      <td>11.6610</td>\n",
       "      <td>4.079037</td>\n",
       "      <td>8.447431</td>\n",
       "      <td>0.012719</td>\n",
       "      <td>0.003869</td>\n",
       "      <td>0.003869</td>\n",
       "      <td>0.003869</td>\n",
       "    </tr>\n",
       "    <tr>\n",
       "      <th>80.0</th>\n",
       "      <td>28.6920</td>\n",
       "      <td>10.8278</td>\n",
       "      <td>4.062748</td>\n",
       "      <td>8.438361</td>\n",
       "      <td>0.011942</td>\n",
       "      <td>0.003551</td>\n",
       "      <td>0.003551</td>\n",
       "      <td>0.003551</td>\n",
       "    </tr>\n",
       "    <tr>\n",
       "      <th>90.0</th>\n",
       "      <td>33.5218</td>\n",
       "      <td>14.2000</td>\n",
       "      <td>4.049473</td>\n",
       "      <td>8.430742</td>\n",
       "      <td>0.011915</td>\n",
       "      <td>0.003355</td>\n",
       "      <td>0.003355</td>\n",
       "      <td>0.003355</td>\n",
       "    </tr>\n",
       "    <tr>\n",
       "      <th>100.0</th>\n",
       "      <td>41.4064</td>\n",
       "      <td>8.0214</td>\n",
       "      <td>4.039014</td>\n",
       "      <td>8.424614</td>\n",
       "      <td>0.000000</td>\n",
       "      <td>0.000000</td>\n",
       "      <td>0.000000</td>\n",
       "      <td>0.000000</td>\n",
       "    </tr>\n",
       "    <tr>\n",
       "      <th>120.0</th>\n",
       "      <td>34.7760</td>\n",
       "      <td>9.3678</td>\n",
       "      <td>4.027308</td>\n",
       "      <td>8.416193</td>\n",
       "      <td>0.012835</td>\n",
       "      <td>0.003502</td>\n",
       "      <td>0.003502</td>\n",
       "      <td>0.003502</td>\n",
       "    </tr>\n",
       "    <tr>\n",
       "      <th>140.0</th>\n",
       "      <td>41.0596</td>\n",
       "      <td>9.2686</td>\n",
       "      <td>4.017982</td>\n",
       "      <td>8.408577</td>\n",
       "      <td>0.020960</td>\n",
       "      <td>0.005019</td>\n",
       "      <td>0.005019</td>\n",
       "      <td>0.005019</td>\n",
       "    </tr>\n",
       "    <tr>\n",
       "      <th>160.0</th>\n",
       "      <td>48.1486</td>\n",
       "      <td>6.2532</td>\n",
       "      <td>4.009833</td>\n",
       "      <td>8.400156</td>\n",
       "      <td>0.022356</td>\n",
       "      <td>0.005803</td>\n",
       "      <td>0.005803</td>\n",
       "      <td>0.005803</td>\n",
       "    </tr>\n",
       "    <tr>\n",
       "      <th>180.0</th>\n",
       "      <td>52.7890</td>\n",
       "      <td>4.7516</td>\n",
       "      <td>4.005757</td>\n",
       "      <td>8.393747</td>\n",
       "      <td>0.025471</td>\n",
       "      <td>0.006145</td>\n",
       "      <td>0.006145</td>\n",
       "      <td>0.006145</td>\n",
       "    </tr>\n",
       "    <tr>\n",
       "      <th>200.0</th>\n",
       "      <td>58.8348</td>\n",
       "      <td>4.0552</td>\n",
       "      <td>4.005568</td>\n",
       "      <td>8.389982</td>\n",
       "      <td>0.021722</td>\n",
       "      <td>0.004799</td>\n",
       "      <td>0.004799</td>\n",
       "      <td>0.004799</td>\n",
       "    </tr>\n",
       "    <tr>\n",
       "      <th>225.0</th>\n",
       "      <td>65.6662</td>\n",
       "      <td>4.6406</td>\n",
       "      <td>4.008874</td>\n",
       "      <td>8.387656</td>\n",
       "      <td>0.014200</td>\n",
       "      <td>0.002767</td>\n",
       "      <td>0.002767</td>\n",
       "      <td>0.002767</td>\n",
       "    </tr>\n",
       "    <tr>\n",
       "      <th>250.0</th>\n",
       "      <td>72.8638</td>\n",
       "      <td>4.3824</td>\n",
       "      <td>4.014608</td>\n",
       "      <td>8.386948</td>\n",
       "      <td>0.007781</td>\n",
       "      <td>0.001591</td>\n",
       "      <td>0.001591</td>\n",
       "      <td>0.001591</td>\n",
       "    </tr>\n",
       "    <tr>\n",
       "      <th rowspan=\"18\" valign=\"top\">PF</th>\n",
       "      <th>25.0</th>\n",
       "      <td>7598.9234</td>\n",
       "      <td>2.4774</td>\n",
       "      <td>4.304767</td>\n",
       "      <td>8.554781</td>\n",
       "      <td>0.001376</td>\n",
       "      <td>0.000539</td>\n",
       "      <td>0.000539</td>\n",
       "      <td>0.000539</td>\n",
       "    </tr>\n",
       "    <tr>\n",
       "      <th>30.0</th>\n",
       "      <td>8647.0492</td>\n",
       "      <td>2.4178</td>\n",
       "      <td>4.302437</td>\n",
       "      <td>8.552506</td>\n",
       "      <td>0.002368</td>\n",
       "      <td>0.000955</td>\n",
       "      <td>0.000955</td>\n",
       "      <td>0.000955</td>\n",
       "    </tr>\n",
       "    <tr>\n",
       "      <th>35.0</th>\n",
       "      <td>9507.7540</td>\n",
       "      <td>1.8908</td>\n",
       "      <td>4.302173</td>\n",
       "      <td>8.552861</td>\n",
       "      <td>0.002265</td>\n",
       "      <td>0.000832</td>\n",
       "      <td>0.000832</td>\n",
       "      <td>0.000832</td>\n",
       "    </tr>\n",
       "    <tr>\n",
       "      <th>40.0</th>\n",
       "      <td>10253.0632</td>\n",
       "      <td>1.7728</td>\n",
       "      <td>4.299990</td>\n",
       "      <td>8.551074</td>\n",
       "      <td>0.003168</td>\n",
       "      <td>0.000637</td>\n",
       "      <td>0.000637</td>\n",
       "      <td>0.000637</td>\n",
       "    </tr>\n",
       "    <tr>\n",
       "      <th>45.0</th>\n",
       "      <td>10890.8606</td>\n",
       "      <td>1.0542</td>\n",
       "      <td>4.297978</td>\n",
       "      <td>8.549954</td>\n",
       "      <td>0.003999</td>\n",
       "      <td>0.000930</td>\n",
       "      <td>0.000930</td>\n",
       "      <td>0.000930</td>\n",
       "    </tr>\n",
       "    <tr>\n",
       "      <th>50.0</th>\n",
       "      <td>11493.9376</td>\n",
       "      <td>0.8938</td>\n",
       "      <td>4.296900</td>\n",
       "      <td>8.549926</td>\n",
       "      <td>0.003403</td>\n",
       "      <td>0.001420</td>\n",
       "      <td>0.001420</td>\n",
       "      <td>0.001420</td>\n",
       "    </tr>\n",
       "    <tr>\n",
       "      <th>60.0</th>\n",
       "      <td>12598.6302</td>\n",
       "      <td>0.9002</td>\n",
       "      <td>4.291562</td>\n",
       "      <td>8.547361</td>\n",
       "      <td>0.001881</td>\n",
       "      <td>0.000906</td>\n",
       "      <td>0.000906</td>\n",
       "      <td>0.000906</td>\n",
       "    </tr>\n",
       "    <tr>\n",
       "      <th>70.0</th>\n",
       "      <td>13645.2784</td>\n",
       "      <td>0.8942</td>\n",
       "      <td>4.288177</td>\n",
       "      <td>8.544655</td>\n",
       "      <td>0.002090</td>\n",
       "      <td>0.000784</td>\n",
       "      <td>0.000784</td>\n",
       "      <td>0.000784</td>\n",
       "    </tr>\n",
       "    <tr>\n",
       "      <th>80.0</th>\n",
       "      <td>14628.8216</td>\n",
       "      <td>1.0258</td>\n",
       "      <td>4.280950</td>\n",
       "      <td>8.540201</td>\n",
       "      <td>0.003375</td>\n",
       "      <td>0.000955</td>\n",
       "      <td>0.000955</td>\n",
       "      <td>0.000955</td>\n",
       "    </tr>\n",
       "    <tr>\n",
       "      <th>90.0</th>\n",
       "      <td>15590.5504</td>\n",
       "      <td>0.8568</td>\n",
       "      <td>4.276935</td>\n",
       "      <td>8.539234</td>\n",
       "      <td>0.002564</td>\n",
       "      <td>0.000686</td>\n",
       "      <td>0.000686</td>\n",
       "      <td>0.000686</td>\n",
       "    </tr>\n",
       "    <tr>\n",
       "      <th>100.0</th>\n",
       "      <td>16537.2088</td>\n",
       "      <td>0.8764</td>\n",
       "      <td>4.263339</td>\n",
       "      <td>8.530466</td>\n",
       "      <td>0.002983</td>\n",
       "      <td>0.000955</td>\n",
       "      <td>0.000955</td>\n",
       "      <td>0.000955</td>\n",
       "    </tr>\n",
       "    <tr>\n",
       "      <th>120.0</th>\n",
       "      <td>14738.5306</td>\n",
       "      <td>1.9648</td>\n",
       "      <td>4.250332</td>\n",
       "      <td>8.524116</td>\n",
       "      <td>0.002466</td>\n",
       "      <td>0.000612</td>\n",
       "      <td>0.000612</td>\n",
       "      <td>0.000612</td>\n",
       "    </tr>\n",
       "    <tr>\n",
       "      <th>140.0</th>\n",
       "      <td>16934.0178</td>\n",
       "      <td>1.5802</td>\n",
       "      <td>4.234516</td>\n",
       "      <td>8.517541</td>\n",
       "      <td>0.003041</td>\n",
       "      <td>0.000514</td>\n",
       "      <td>0.000514</td>\n",
       "      <td>0.000514</td>\n",
       "    </tr>\n",
       "    <tr>\n",
       "      <th>160.0</th>\n",
       "      <td>19013.7902</td>\n",
       "      <td>1.5086</td>\n",
       "      <td>4.234262</td>\n",
       "      <td>8.519204</td>\n",
       "      <td>0.001523</td>\n",
       "      <td>0.000465</td>\n",
       "      <td>0.000465</td>\n",
       "      <td>0.000465</td>\n",
       "    </tr>\n",
       "    <tr>\n",
       "      <th>180.0</th>\n",
       "      <td>21035.2552</td>\n",
       "      <td>1.7242</td>\n",
       "      <td>4.237683</td>\n",
       "      <td>8.520423</td>\n",
       "      <td>0.000474</td>\n",
       "      <td>0.000269</td>\n",
       "      <td>0.000269</td>\n",
       "      <td>0.000269</td>\n",
       "    </tr>\n",
       "    <tr>\n",
       "      <th>200.0</th>\n",
       "      <td>23013.6504</td>\n",
       "      <td>1.6410</td>\n",
       "      <td>4.222804</td>\n",
       "      <td>8.513786</td>\n",
       "      <td>0.001297</td>\n",
       "      <td>0.000367</td>\n",
       "      <td>0.000367</td>\n",
       "      <td>0.000367</td>\n",
       "    </tr>\n",
       "    <tr>\n",
       "      <th>225.0</th>\n",
       "      <td>25371.6778</td>\n",
       "      <td>1.7542</td>\n",
       "      <td>4.215825</td>\n",
       "      <td>8.510247</td>\n",
       "      <td>0.001574</td>\n",
       "      <td>0.000343</td>\n",
       "      <td>0.000343</td>\n",
       "      <td>0.000343</td>\n",
       "    </tr>\n",
       "    <tr>\n",
       "      <th>250.0</th>\n",
       "      <td>27725.4728</td>\n",
       "      <td>1.7478</td>\n",
       "      <td>4.214566</td>\n",
       "      <td>8.510569</td>\n",
       "      <td>0.001511</td>\n",
       "      <td>0.000343</td>\n",
       "      <td>0.000343</td>\n",
       "      <td>0.000343</td>\n",
       "    </tr>\n",
       "  </tbody>\n",
       "</table>\n",
       "</div>"
      ],
      "text/plain": [
       "                         BuildTime  TestTime  RMSE.ByUser  RMSE.ByRating  \\\n",
       "Algorithm FeatureCount                                                     \n",
       "FunkSVD   25.0              9.6006    9.6910     4.211172       8.515212   \n",
       "          30.0             10.4586    9.9360     4.188143       8.503824   \n",
       "          35.0             12.2592   10.7742     4.168428       8.493971   \n",
       "          40.0             13.8638   11.1812     4.151211       8.485276   \n",
       "          45.0             15.7364   10.0792     4.135948       8.477486   \n",
       "          50.0             17.3240   10.7718     4.122263       8.470425   \n",
       "          60.0             20.9616   10.8554     4.098651       8.458021   \n",
       "          70.0             24.6948   11.6610     4.079037       8.447431   \n",
       "          80.0             28.6920   10.8278     4.062748       8.438361   \n",
       "          90.0             33.5218   14.2000     4.049473       8.430742   \n",
       "          100.0            41.4064    8.0214     4.039014       8.424614   \n",
       "          120.0            34.7760    9.3678     4.027308       8.416193   \n",
       "          140.0            41.0596    9.2686     4.017982       8.408577   \n",
       "          160.0            48.1486    6.2532     4.009833       8.400156   \n",
       "          180.0            52.7890    4.7516     4.005757       8.393747   \n",
       "          200.0            58.8348    4.0552     4.005568       8.389982   \n",
       "          225.0            65.6662    4.6406     4.008874       8.387656   \n",
       "          250.0            72.8638    4.3824     4.014608       8.386948   \n",
       "PF        25.0           7598.9234    2.4774     4.304767       8.554781   \n",
       "          30.0           8647.0492    2.4178     4.302437       8.552506   \n",
       "          35.0           9507.7540    1.8908     4.302173       8.552861   \n",
       "          40.0          10253.0632    1.7728     4.299990       8.551074   \n",
       "          45.0          10890.8606    1.0542     4.297978       8.549954   \n",
       "          50.0          11493.9376    0.8938     4.296900       8.549926   \n",
       "          60.0          12598.6302    0.9002     4.291562       8.547361   \n",
       "          70.0          13645.2784    0.8942     4.288177       8.544655   \n",
       "          80.0          14628.8216    1.0258     4.280950       8.540201   \n",
       "          90.0          15590.5504    0.8568     4.276935       8.539234   \n",
       "          100.0         16537.2088    0.8764     4.263339       8.530466   \n",
       "          120.0         14738.5306    1.9648     4.250332       8.524116   \n",
       "          140.0         16934.0178    1.5802     4.234516       8.517541   \n",
       "          160.0         19013.7902    1.5086     4.234262       8.519204   \n",
       "          180.0         21035.2552    1.7242     4.237683       8.520423   \n",
       "          200.0         23013.6504    1.6410     4.222804       8.513786   \n",
       "          225.0         25371.6778    1.7542     4.215825       8.510247   \n",
       "          250.0         27725.4728    1.7478     4.214566       8.510569   \n",
       "\n",
       "                             MRR  Precision    Recall        F1  \n",
       "Algorithm FeatureCount                                           \n",
       "FunkSVD   25.0          0.013970   0.004212  0.004212  0.004212  \n",
       "          30.0          0.014285   0.004310  0.004310  0.004310  \n",
       "          35.0          0.014261   0.004188  0.004188  0.004188  \n",
       "          40.0          0.013707   0.004065  0.004065  0.004065  \n",
       "          45.0          0.013582   0.003894  0.003894  0.003894  \n",
       "          50.0          0.013901   0.003820  0.003820  0.003820  \n",
       "          60.0          0.013748   0.003869  0.003869  0.003869  \n",
       "          70.0          0.012719   0.003869  0.003869  0.003869  \n",
       "          80.0          0.011942   0.003551  0.003551  0.003551  \n",
       "          90.0          0.011915   0.003355  0.003355  0.003355  \n",
       "          100.0         0.000000   0.000000  0.000000  0.000000  \n",
       "          120.0         0.012835   0.003502  0.003502  0.003502  \n",
       "          140.0         0.020960   0.005019  0.005019  0.005019  \n",
       "          160.0         0.022356   0.005803  0.005803  0.005803  \n",
       "          180.0         0.025471   0.006145  0.006145  0.006145  \n",
       "          200.0         0.021722   0.004799  0.004799  0.004799  \n",
       "          225.0         0.014200   0.002767  0.002767  0.002767  \n",
       "          250.0         0.007781   0.001591  0.001591  0.001591  \n",
       "PF        25.0          0.001376   0.000539  0.000539  0.000539  \n",
       "          30.0          0.002368   0.000955  0.000955  0.000955  \n",
       "          35.0          0.002265   0.000832  0.000832  0.000832  \n",
       "          40.0          0.003168   0.000637  0.000637  0.000637  \n",
       "          45.0          0.003999   0.000930  0.000930  0.000930  \n",
       "          50.0          0.003403   0.001420  0.001420  0.001420  \n",
       "          60.0          0.001881   0.000906  0.000906  0.000906  \n",
       "          70.0          0.002090   0.000784  0.000784  0.000784  \n",
       "          80.0          0.003375   0.000955  0.000955  0.000955  \n",
       "          90.0          0.002564   0.000686  0.000686  0.000686  \n",
       "          100.0         0.002983   0.000955  0.000955  0.000955  \n",
       "          120.0         0.002466   0.000612  0.000612  0.000612  \n",
       "          140.0         0.003041   0.000514  0.000514  0.000514  \n",
       "          160.0         0.001523   0.000465  0.000465  0.000465  \n",
       "          180.0         0.000474   0.000269  0.000269  0.000269  \n",
       "          200.0         0.001297   0.000367  0.000367  0.000367  \n",
       "          225.0         0.001574   0.000343  0.000343  0.000343  \n",
       "          250.0         0.001511   0.000343  0.000343  0.000343  "
      ]
     },
     "execution_count": 6,
     "metadata": {},
     "output_type": "execute_result"
    }
   ],
   "source": [
    "agg_results = results.drop(['Partition'], axis=1).groupby(['Algorithm','FeatureCount']).mean()\n",
    "agg_results"
   ]
  },
  {
   "cell_type": "code",
   "execution_count": 3,
   "metadata": {
    "collapsed": true
   },
   "outputs": [],
   "source": [
    "# res_slim = results.loc[results['lambda'].notnull(), :]"
   ]
  },
  {
   "cell_type": "code",
   "execution_count": 2,
   "metadata": {
    "collapsed": true
   },
   "outputs": [],
   "source": [
    "# res_slim.boxplot(['RMSE.ByUser'], ['lambda','Beta','Algorithm'], figsize=(10, 8))"
   ]
  },
  {
   "cell_type": "markdown",
   "metadata": {},
   "source": [
    "## Plotting Results\n",
    "\n",
    "Let's start plotting things. What's the RMSE achieved by each algorithm?"
   ]
  },
  {
   "cell_type": "code",
   "execution_count": 4,
   "metadata": {
    "collapsed": true
   },
   "outputs": [],
   "source": [
    "# df = results.loc[results['lambda'].notnull(),['lambda', 'RMSE.ByUser']].groupby('lambda').mean()\n",
    "# df.plot.scatter(x=df['lambda'], y=df['RMSE.ByUser'])"
   ]
  },
  {
   "cell_type": "code",
   "execution_count": 5,
   "metadata": {
    "collapsed": true
   },
   "outputs": [],
   "source": [
    "# ax = df.reset_index().plot.scatter(y='RMSE.ByUser', x='lambda')\n",
    "# df.plot(ax=ax)"
   ]
  },
  {
   "cell_type": "markdown",
   "metadata": {},
   "source": [
    "## RMSE.ByUser"
   ]
  },
  {
   "cell_type": "code",
   "execution_count": 6,
   "metadata": {},
   "outputs": [
    {
     "data": {
      "text/plain": [
       "<matplotlib.axes._subplots.AxesSubplot at 0x7f4c7d87cd30>"
      ]
     },
     "execution_count": 6,
     "metadata": {},
     "output_type": "execute_result"
    },
    {
     "data": {
      "image/png": "[encoded data removed]",
      "text/plain": [
       "<matplotlib.figure.Figure at 0x7f4c7d87c550>"
      ]
     },
     "metadata": {},
     "output_type": "display_data"
    }
   ],
   "source": [
    "results.loc[:,['Algorithm', 'RMSE.ByUser']].boxplot(by='Algorithm', figsize=(8,6))"
   ]
  },
  {
   "cell_type": "markdown",
   "metadata": {},
   "source": [
    "## Next up: nDCG"
   ]
  },
  {
   "cell_type": "code",
   "execution_count": 11,
   "metadata": {},
   "outputs": [
    {
     "data": {
      "text/plain": [
       "<matplotlib.axes._subplots.AxesSubplot at 0x7fc7320e06a0>"
      ]
     },
     "execution_count": 11,
     "metadata": {},
     "output_type": "execute_result"
    },
    {
     "data": {
      "image/png": "[encoded data removed]",
      "text/plain": [
       "<matplotlib.figure.Figure at 0x7fc732165b00>"
      ]
     },
     "metadata": {},
     "output_type": "display_data"
    }
   ],
   "source": [
    "results.loc[:,['Algorithm', 'Predict.nDCG']].boxplot(by='Algorithm', figsize=(8,6))"
   ]
  },
  {
   "cell_type": "markdown",
   "metadata": {},
   "source": [
    "## the build and test times."
   ]
  },
  {
   "cell_type": "code",
   "execution_count": 7,
   "metadata": {},
   "outputs": [
    {
     "data": {
      "text/plain": [
       "array([<matplotlib.axes._subplots.AxesSubplot object at 0x7fcfd605ca58>,\n",
       "       <matplotlib.axes._subplots.AxesSubplot object at 0x7fcfd5fca748>], dtype=object)"
      ]
     },
     "execution_count": 7,
     "metadata": {},
     "output_type": "execute_result"
    },
    {
     "data": {
      "image/png": "[encoded data removed]",
      "text/plain": [
       "<matplotlib.figure.Figure at 0x7fcfd60a3ba8>"
      ]
     },
     "metadata": {},
     "output_type": "display_data"
    }
   ],
   "source": [
    "results.loc[:,['Algorithm', 'BuildTime', 'TestTime']].boxplot(by='Algorithm', figsize=(8,6))"
   ]
  },
  {
   "cell_type": "markdown",
   "metadata": {},
   "source": [
    "## MRR"
   ]
  },
  {
   "cell_type": "code",
   "execution_count": 7,
   "metadata": {},
   "outputs": [
    {
     "data": {
      "text/plain": [
       "<matplotlib.axes._subplots.AxesSubplot at 0x7f4c7a433f98>"
      ]
     },
     "execution_count": 7,
     "metadata": {},
     "output_type": "execute_result"
    },
    {
     "data": {
      "image/png": "[encoded data removed]",
      "text/plain": [
       "<matplotlib.figure.Figure at 0x7f4c7a4cc748>"
      ]
     },
     "metadata": {},
     "output_type": "display_data"
    }
   ],
   "source": [
    "results.loc[:,['Algorithm', 'MRR']].boxplot(by='Algorithm', figsize=(8,6))"
   ]
  },
  {
   "cell_type": "code",
   "execution_count": 5,
   "metadata": {},
   "outputs": [
    {
     "data": {
      "text/plain": [
       "<matplotlib.axes._subplots.AxesSubplot at 0x7f15f8ec6a90>"
      ]
     },
     "execution_count": 5,
     "metadata": {},
     "output_type": "execute_result"
    },
    {
     "data": {
      "image/png": "[encoded data removed]",
      "text/plain": [
       "<matplotlib.figure.Figure at 0x7f15f917f710>"
      ]
     },
     "metadata": {},
     "output_type": "display_data"
    }
   ],
   "source": [
    "results.loc[:,['Algorithm', 'MAP']].boxplot(by='Algorithm', figsize=(8,6))"
   ]
  },
  {
   "cell_type": "markdown",
   "metadata": {},
   "source": [
    "## Precison"
   ]
  },
  {
   "cell_type": "code",
   "execution_count": 8,
   "metadata": {},
   "outputs": [
    {
     "data": {
      "text/plain": [
       "<matplotlib.axes._subplots.AxesSubplot at 0x7f4c7a2b9898>"
      ]
     },
     "execution_count": 8,
     "metadata": {},
     "output_type": "execute_result"
    },
    {
     "data": {
      "image/png": "[encoded data removed]",
      "text/plain": [
       "<matplotlib.figure.Figure at 0x7f4c7d84f4e0>"
      ]
     },
     "metadata": {},
     "output_type": "display_data"
    }
   ],
   "source": [
    "results.loc[:,['Algorithm', 'Precision']].boxplot(by='Algorithm', figsize=(8,6))"
   ]
  },
  {
   "cell_type": "markdown",
   "metadata": {},
   "source": [
    "## Recall"
   ]
  },
  {
   "cell_type": "code",
   "execution_count": 9,
   "metadata": {},
   "outputs": [
    {
     "data": {
      "text/plain": [
       "<matplotlib.axes._subplots.AxesSubplot at 0x7fcfd5caeda0>"
      ]
     },
     "execution_count": 9,
     "metadata": {},
     "output_type": "execute_result"
    },
    {
     "data": {
      "image/png": "[encoded data removed]",
      "text/plain": [
       "<matplotlib.figure.Figure at 0x7fcfd5d0f518>"
      ]
     },
     "metadata": {},
     "output_type": "display_data"
    }
   ],
   "source": [
    "results.loc[:,['Algorithm', 'Recall']].boxplot(by='Algorithm', figsize=(8,6))"
   ]
  },
  {
   "cell_type": "code",
   "execution_count": 15,
   "metadata": {},
   "outputs": [
    {
     "data": {
      "text/plain": [
       "<matplotlib.axes._subplots.AxesSubplot at 0x7faeffe9fd30>"
      ]
     },
     "execution_count": 15,
     "metadata": {},
     "output_type": "execute_result"
    },
    {
     "data": {
      "image/png": "[encoded data removed]",
      "text/plain": [
       "<matplotlib.figure.Figure at 0x7faf0022dc50>"
      ]
     },
     "metadata": {},
     "output_type": "display_data"
    }
   ],
   "source": [
    "results.loc[:,['Algorithm', 'nDCG']].boxplot(by='Algorithm', figsize=(8,6))"
   ]
  },
  {
   "cell_type": "code",
   "execution_count": null,
   "metadata": {
    "collapsed": true
   },
   "outputs": [],
   "source": []
  }
 ],
 "metadata": {
  "kernelspec": {
   "display_name": "Python 3",
   "language": "python",
   "name": "python3"
  },
  "language_info": {
   "codemirror_mode": {
    "name": "ipython",
    "version": 3
   },
   "file_extension": ".py",
   "mimetype": "text/x-python",
   "name": "python",
   "nbconvert_exporter": "python",
   "pygments_lexer": "ipython3",
   "version": "3.6.3"
  }
 },
 "nbformat": 4,
 "nbformat_minor": 1
}
