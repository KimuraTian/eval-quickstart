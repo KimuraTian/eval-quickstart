{
 "cells": [
  {
   "cell_type": "markdown",
   "metadata": {},
   "source": [
    "# Analyze Results from Evaluation Quickstart\n",
    "\n",
    "This notebook analyzes the results of the evaluation quickstart."
   ]
  },
  {
   "cell_type": "markdown",
   "metadata": {},
   "source": [
    "## Setup\n",
    "\n",
    "First, we need to import our libraries:"
   ]
  },
  {
   "cell_type": "code",
   "execution_count": 1,
   "metadata": {
    "collapsed": true
   },
   "outputs": [],
   "source": [
    "import pandas as pd\n",
    "import matplotlib\n",
    "import matplotlib.pyplot as plt"
   ]
  },
  {
   "cell_type": "code",
   "execution_count": 2,
   "metadata": {
    "collapsed": true
   },
   "outputs": [],
   "source": [
    "%matplotlib inline"
   ]
  },
  {
   "cell_type": "markdown",
   "metadata": {},
   "source": [
    "## Data Import and Preparation\n",
    "\n",
    "LensKit puts its output in a `csv` file:"
   ]
  },
  {
   "cell_type": "code",
   "execution_count": 4,
   "metadata": {},
   "outputs": [
    {
     "data": {
      "text/html": [
       "<div>\n",
       "<style>\n",
       "    .dataframe thead tr:only-child th {\n",
       "        text-align: right;\n",
       "    }\n",
       "\n",
       "    .dataframe thead th {\n",
       "        text-align: left;\n",
       "    }\n",
       "\n",
       "    .dataframe tbody tr th {\n",
       "        vertical-align: top;\n",
       "    }\n",
       "</style>\n",
       "<table border=\"1\" class=\"dataframe\">\n",
       "  <thead>\n",
       "    <tr style=\"text-align: right;\">\n",
       "      <th></th>\n",
       "      <th>DataSet</th>\n",
       "      <th>Partition</th>\n",
       "      <th>Algorithm</th>\n",
       "      <th>Succeeded</th>\n",
       "      <th>BuildTime</th>\n",
       "      <th>TestTime</th>\n",
       "      <th>NUsers</th>\n",
       "      <th>NAttempted</th>\n",
       "      <th>NGood</th>\n",
       "      <th>Coverage</th>\n",
       "      <th>RMSE.ByUser</th>\n",
       "      <th>RMSE.ByRating</th>\n",
       "      <th>TopN.ActualLength</th>\n",
       "      <th>MRR</th>\n",
       "      <th>Precision</th>\n",
       "      <th>Recall</th>\n",
       "      <th>F1</th>\n",
       "    </tr>\n",
       "  </thead>\n",
       "  <tbody>\n",
       "    <tr>\n",
       "      <th>0</th>\n",
       "      <td>crossfold</td>\n",
       "      <td>1</td>\n",
       "      <td>Popular</td>\n",
       "      <td>Y</td>\n",
       "      <td>0.342</td>\n",
       "      <td>0.672</td>\n",
       "      <td>0</td>\n",
       "      <td>0</td>\n",
       "      <td>0</td>\n",
       "      <td>NaN</td>\n",
       "      <td>NaN</td>\n",
       "      <td>NaN</td>\n",
       "      <td>20.0</td>\n",
       "      <td>0.400469</td>\n",
       "      <td>0.146032</td>\n",
       "      <td>0.178751</td>\n",
       "      <td>0.160743</td>\n",
       "    </tr>\n",
       "    <tr>\n",
       "      <th>1</th>\n",
       "      <td>crossfold</td>\n",
       "      <td>5</td>\n",
       "      <td>ItemItem-Implicit</td>\n",
       "      <td>Y</td>\n",
       "      <td>4.253</td>\n",
       "      <td>4.548</td>\n",
       "      <td>188</td>\n",
       "      <td>4030</td>\n",
       "      <td>4023</td>\n",
       "      <td>0.998263</td>\n",
       "      <td>7.151787</td>\n",
       "      <td>9.361474</td>\n",
       "      <td>20.0</td>\n",
       "      <td>0.586337</td>\n",
       "      <td>0.213564</td>\n",
       "      <td>0.284087</td>\n",
       "      <td>0.243828</td>\n",
       "    </tr>\n",
       "    <tr>\n",
       "      <th>2</th>\n",
       "      <td>crossfold</td>\n",
       "      <td>5</td>\n",
       "      <td>Popular</td>\n",
       "      <td>Y</td>\n",
       "      <td>0.029</td>\n",
       "      <td>0.135</td>\n",
       "      <td>0</td>\n",
       "      <td>0</td>\n",
       "      <td>0</td>\n",
       "      <td>NaN</td>\n",
       "      <td>NaN</td>\n",
       "      <td>NaN</td>\n",
       "      <td>20.0</td>\n",
       "      <td>0.386474</td>\n",
       "      <td>0.153989</td>\n",
       "      <td>0.161811</td>\n",
       "      <td>0.157803</td>\n",
       "    </tr>\n",
       "    <tr>\n",
       "      <th>3</th>\n",
       "      <td>crossfold</td>\n",
       "      <td>1</td>\n",
       "      <td>ItemItem-Implicit</td>\n",
       "      <td>Y</td>\n",
       "      <td>3.647</td>\n",
       "      <td>4.571</td>\n",
       "      <td>189</td>\n",
       "      <td>3658</td>\n",
       "      <td>3654</td>\n",
       "      <td>0.998907</td>\n",
       "      <td>7.362704</td>\n",
       "      <td>9.545303</td>\n",
       "      <td>20.0</td>\n",
       "      <td>0.640739</td>\n",
       "      <td>0.216138</td>\n",
       "      <td>0.289987</td>\n",
       "      <td>0.247675</td>\n",
       "    </tr>\n",
       "    <tr>\n",
       "      <th>4</th>\n",
       "      <td>crossfold</td>\n",
       "      <td>5</td>\n",
       "      <td>funkSVD-Implicit</td>\n",
       "      <td>Y</td>\n",
       "      <td>67.681</td>\n",
       "      <td>0.527</td>\n",
       "      <td>188</td>\n",
       "      <td>4030</td>\n",
       "      <td>4023</td>\n",
       "      <td>0.998263</td>\n",
       "      <td>2.784315</td>\n",
       "      <td>2.796435</td>\n",
       "      <td>20.0</td>\n",
       "      <td>0.000484</td>\n",
       "      <td>0.000266</td>\n",
       "      <td>0.000036</td>\n",
       "      <td>0.000064</td>\n",
       "    </tr>\n",
       "  </tbody>\n",
       "</table>\n",
       "</div>"
      ],
      "text/plain": [
       "     DataSet  Partition          Algorithm Succeeded  BuildTime  TestTime  \\\n",
       "0  crossfold          1            Popular         Y      0.342     0.672   \n",
       "1  crossfold          5  ItemItem-Implicit         Y      4.253     4.548   \n",
       "2  crossfold          5            Popular         Y      0.029     0.135   \n",
       "3  crossfold          1  ItemItem-Implicit         Y      3.647     4.571   \n",
       "4  crossfold          5   funkSVD-Implicit         Y     67.681     0.527   \n",
       "\n",
       "   NUsers  NAttempted  NGood  Coverage  RMSE.ByUser  RMSE.ByRating  \\\n",
       "0       0           0      0       NaN          NaN            NaN   \n",
       "1     188        4030   4023  0.998263     7.151787       9.361474   \n",
       "2       0           0      0       NaN          NaN            NaN   \n",
       "3     189        3658   3654  0.998907     7.362704       9.545303   \n",
       "4     188        4030   4023  0.998263     2.784315       2.796435   \n",
       "\n",
       "   TopN.ActualLength       MRR  Precision    Recall        F1  \n",
       "0               20.0  0.400469   0.146032  0.178751  0.160743  \n",
       "1               20.0  0.586337   0.213564  0.284087  0.243828  \n",
       "2               20.0  0.386474   0.153989  0.161811  0.157803  \n",
       "3               20.0  0.640739   0.216138  0.289987  0.247675  \n",
       "4               20.0  0.000484   0.000266  0.000036  0.000064  "
      ]
     },
     "execution_count": 4,
     "metadata": {},
     "output_type": "execute_result"
    }
   ],
   "source": [
    "results = pd.read_csv('build/eval-results-implicit.csv')\n",
    "results.head()"
   ]
  },
  {
   "cell_type": "code",
   "execution_count": 5,
   "metadata": {},
   "outputs": [
    {
     "data": {
      "text/html": [
       "<div>\n",
       "<style>\n",
       "    .dataframe thead tr:only-child th {\n",
       "        text-align: right;\n",
       "    }\n",
       "\n",
       "    .dataframe thead th {\n",
       "        text-align: left;\n",
       "    }\n",
       "\n",
       "    .dataframe tbody tr th {\n",
       "        vertical-align: top;\n",
       "    }\n",
       "</style>\n",
       "<table border=\"1\" class=\"dataframe\">\n",
       "  <thead>\n",
       "    <tr style=\"text-align: right;\">\n",
       "      <th></th>\n",
       "      <th>DataSet</th>\n",
       "      <th>Partition</th>\n",
       "      <th>Algorithm</th>\n",
       "      <th>Succeeded</th>\n",
       "      <th>BuildTime</th>\n",
       "      <th>TestTime</th>\n",
       "      <th>NUsers</th>\n",
       "      <th>NAttempted</th>\n",
       "      <th>NGood</th>\n",
       "      <th>Coverage</th>\n",
       "      <th>RMSE.ByUser</th>\n",
       "      <th>RMSE.ByRating</th>\n",
       "      <th>TopN.ActualLength</th>\n",
       "      <th>MRR</th>\n",
       "      <th>Precision</th>\n",
       "      <th>Recall</th>\n",
       "      <th>F1</th>\n",
       "    </tr>\n",
       "  </thead>\n",
       "  <tbody>\n",
       "    <tr>\n",
       "      <th>0</th>\n",
       "      <td>crossfold</td>\n",
       "      <td>1</td>\n",
       "      <td>Popular</td>\n",
       "      <td>Y</td>\n",
       "      <td>0.342</td>\n",
       "      <td>0.672</td>\n",
       "      <td>0</td>\n",
       "      <td>0</td>\n",
       "      <td>0</td>\n",
       "      <td>NaN</td>\n",
       "      <td>NaN</td>\n",
       "      <td>NaN</td>\n",
       "      <td>20.0</td>\n",
       "      <td>0.400469</td>\n",
       "      <td>0.146032</td>\n",
       "      <td>0.178751</td>\n",
       "      <td>0.160743</td>\n",
       "    </tr>\n",
       "    <tr>\n",
       "      <th>1</th>\n",
       "      <td>crossfold</td>\n",
       "      <td>5</td>\n",
       "      <td>ItemItem-Implicit</td>\n",
       "      <td>Y</td>\n",
       "      <td>4.253</td>\n",
       "      <td>4.548</td>\n",
       "      <td>188</td>\n",
       "      <td>4030</td>\n",
       "      <td>4023</td>\n",
       "      <td>0.998263</td>\n",
       "      <td>7.151787</td>\n",
       "      <td>9.361474</td>\n",
       "      <td>20.0</td>\n",
       "      <td>0.586337</td>\n",
       "      <td>0.213564</td>\n",
       "      <td>0.284087</td>\n",
       "      <td>0.243828</td>\n",
       "    </tr>\n",
       "    <tr>\n",
       "      <th>2</th>\n",
       "      <td>crossfold</td>\n",
       "      <td>5</td>\n",
       "      <td>Popular</td>\n",
       "      <td>Y</td>\n",
       "      <td>0.029</td>\n",
       "      <td>0.135</td>\n",
       "      <td>0</td>\n",
       "      <td>0</td>\n",
       "      <td>0</td>\n",
       "      <td>NaN</td>\n",
       "      <td>NaN</td>\n",
       "      <td>NaN</td>\n",
       "      <td>20.0</td>\n",
       "      <td>0.386474</td>\n",
       "      <td>0.153989</td>\n",
       "      <td>0.161811</td>\n",
       "      <td>0.157803</td>\n",
       "    </tr>\n",
       "    <tr>\n",
       "      <th>3</th>\n",
       "      <td>crossfold</td>\n",
       "      <td>1</td>\n",
       "      <td>ItemItem-Implicit</td>\n",
       "      <td>Y</td>\n",
       "      <td>3.647</td>\n",
       "      <td>4.571</td>\n",
       "      <td>189</td>\n",
       "      <td>3658</td>\n",
       "      <td>3654</td>\n",
       "      <td>0.998907</td>\n",
       "      <td>7.362704</td>\n",
       "      <td>9.545303</td>\n",
       "      <td>20.0</td>\n",
       "      <td>0.640739</td>\n",
       "      <td>0.216138</td>\n",
       "      <td>0.289987</td>\n",
       "      <td>0.247675</td>\n",
       "    </tr>\n",
       "    <tr>\n",
       "      <th>4</th>\n",
       "      <td>crossfold</td>\n",
       "      <td>5</td>\n",
       "      <td>funkSVD-Implicit</td>\n",
       "      <td>Y</td>\n",
       "      <td>67.681</td>\n",
       "      <td>0.527</td>\n",
       "      <td>188</td>\n",
       "      <td>4030</td>\n",
       "      <td>4023</td>\n",
       "      <td>0.998263</td>\n",
       "      <td>2.784315</td>\n",
       "      <td>2.796435</td>\n",
       "      <td>20.0</td>\n",
       "      <td>0.000484</td>\n",
       "      <td>0.000266</td>\n",
       "      <td>0.000036</td>\n",
       "      <td>0.000064</td>\n",
       "    </tr>\n",
       "    <tr>\n",
       "      <th>5</th>\n",
       "      <td>crossfold</td>\n",
       "      <td>1</td>\n",
       "      <td>funkSVD-Implicit</td>\n",
       "      <td>Y</td>\n",
       "      <td>66.152</td>\n",
       "      <td>0.454</td>\n",
       "      <td>189</td>\n",
       "      <td>3658</td>\n",
       "      <td>3654</td>\n",
       "      <td>0.998907</td>\n",
       "      <td>2.776143</td>\n",
       "      <td>2.723304</td>\n",
       "      <td>20.0</td>\n",
       "      <td>0.000000</td>\n",
       "      <td>0.000000</td>\n",
       "      <td>0.000000</td>\n",
       "      <td>0.000000</td>\n",
       "    </tr>\n",
       "    <tr>\n",
       "      <th>6</th>\n",
       "      <td>crossfold</td>\n",
       "      <td>4</td>\n",
       "      <td>funkSVD-Implicit</td>\n",
       "      <td>Y</td>\n",
       "      <td>63.813</td>\n",
       "      <td>0.576</td>\n",
       "      <td>188</td>\n",
       "      <td>3808</td>\n",
       "      <td>3804</td>\n",
       "      <td>0.998950</td>\n",
       "      <td>2.790371</td>\n",
       "      <td>2.768499</td>\n",
       "      <td>20.0</td>\n",
       "      <td>0.000693</td>\n",
       "      <td>0.000798</td>\n",
       "      <td>0.000821</td>\n",
       "      <td>0.000809</td>\n",
       "    </tr>\n",
       "    <tr>\n",
       "      <th>7</th>\n",
       "      <td>crossfold</td>\n",
       "      <td>4</td>\n",
       "      <td>ItemItem-Implicit</td>\n",
       "      <td>Y</td>\n",
       "      <td>3.175</td>\n",
       "      <td>3.328</td>\n",
       "      <td>188</td>\n",
       "      <td>3808</td>\n",
       "      <td>3804</td>\n",
       "      <td>0.998950</td>\n",
       "      <td>7.525110</td>\n",
       "      <td>9.482841</td>\n",
       "      <td>20.0</td>\n",
       "      <td>0.575760</td>\n",
       "      <td>0.210106</td>\n",
       "      <td>0.271761</td>\n",
       "      <td>0.236989</td>\n",
       "    </tr>\n",
       "    <tr>\n",
       "      <th>8</th>\n",
       "      <td>crossfold</td>\n",
       "      <td>4</td>\n",
       "      <td>Popular</td>\n",
       "      <td>Y</td>\n",
       "      <td>0.043</td>\n",
       "      <td>0.106</td>\n",
       "      <td>0</td>\n",
       "      <td>0</td>\n",
       "      <td>0</td>\n",
       "      <td>NaN</td>\n",
       "      <td>NaN</td>\n",
       "      <td>NaN</td>\n",
       "      <td>20.0</td>\n",
       "      <td>0.421084</td>\n",
       "      <td>0.154255</td>\n",
       "      <td>0.185217</td>\n",
       "      <td>0.168324</td>\n",
       "    </tr>\n",
       "    <tr>\n",
       "      <th>9</th>\n",
       "      <td>crossfold</td>\n",
       "      <td>5</td>\n",
       "      <td>PF-Implicit</td>\n",
       "      <td>Y</td>\n",
       "      <td>3947.441</td>\n",
       "      <td>0.436</td>\n",
       "      <td>188</td>\n",
       "      <td>4030</td>\n",
       "      <td>4023</td>\n",
       "      <td>0.998263</td>\n",
       "      <td>3.105920</td>\n",
       "      <td>3.115971</td>\n",
       "      <td>20.0</td>\n",
       "      <td>0.007979</td>\n",
       "      <td>0.004521</td>\n",
       "      <td>0.000689</td>\n",
       "      <td>0.001196</td>\n",
       "    </tr>\n",
       "    <tr>\n",
       "      <th>10</th>\n",
       "      <td>crossfold</td>\n",
       "      <td>4</td>\n",
       "      <td>PF-Implicit</td>\n",
       "      <td>Y</td>\n",
       "      <td>3967.076</td>\n",
       "      <td>0.442</td>\n",
       "      <td>188</td>\n",
       "      <td>3808</td>\n",
       "      <td>3804</td>\n",
       "      <td>0.998950</td>\n",
       "      <td>3.112555</td>\n",
       "      <td>3.089193</td>\n",
       "      <td>20.0</td>\n",
       "      <td>0.005319</td>\n",
       "      <td>0.002128</td>\n",
       "      <td>0.000489</td>\n",
       "      <td>0.000795</td>\n",
       "    </tr>\n",
       "    <tr>\n",
       "      <th>11</th>\n",
       "      <td>crossfold</td>\n",
       "      <td>3</td>\n",
       "      <td>ItemItem-Implicit</td>\n",
       "      <td>Y</td>\n",
       "      <td>2.967</td>\n",
       "      <td>3.554</td>\n",
       "      <td>189</td>\n",
       "      <td>4615</td>\n",
       "      <td>4613</td>\n",
       "      <td>0.999567</td>\n",
       "      <td>7.839008</td>\n",
       "      <td>9.518700</td>\n",
       "      <td>20.0</td>\n",
       "      <td>0.607742</td>\n",
       "      <td>0.234921</td>\n",
       "      <td>0.260263</td>\n",
       "      <td>0.246943</td>\n",
       "    </tr>\n",
       "    <tr>\n",
       "      <th>12</th>\n",
       "      <td>crossfold</td>\n",
       "      <td>3</td>\n",
       "      <td>Popular</td>\n",
       "      <td>Y</td>\n",
       "      <td>0.027</td>\n",
       "      <td>0.084</td>\n",
       "      <td>0</td>\n",
       "      <td>0</td>\n",
       "      <td>0</td>\n",
       "      <td>NaN</td>\n",
       "      <td>NaN</td>\n",
       "      <td>NaN</td>\n",
       "      <td>20.0</td>\n",
       "      <td>0.445658</td>\n",
       "      <td>0.164286</td>\n",
       "      <td>0.157374</td>\n",
       "      <td>0.160756</td>\n",
       "    </tr>\n",
       "    <tr>\n",
       "      <th>13</th>\n",
       "      <td>crossfold</td>\n",
       "      <td>3</td>\n",
       "      <td>funkSVD-Implicit</td>\n",
       "      <td>Y</td>\n",
       "      <td>62.198</td>\n",
       "      <td>0.339</td>\n",
       "      <td>189</td>\n",
       "      <td>4615</td>\n",
       "      <td>4613</td>\n",
       "      <td>0.999567</td>\n",
       "      <td>2.784859</td>\n",
       "      <td>2.772542</td>\n",
       "      <td>20.0</td>\n",
       "      <td>0.000000</td>\n",
       "      <td>0.000000</td>\n",
       "      <td>0.000000</td>\n",
       "      <td>0.000000</td>\n",
       "    </tr>\n",
       "    <tr>\n",
       "      <th>14</th>\n",
       "      <td>crossfold</td>\n",
       "      <td>1</td>\n",
       "      <td>PF-Implicit</td>\n",
       "      <td>Y</td>\n",
       "      <td>3965.636</td>\n",
       "      <td>0.380</td>\n",
       "      <td>189</td>\n",
       "      <td>3658</td>\n",
       "      <td>3654</td>\n",
       "      <td>0.998907</td>\n",
       "      <td>3.096858</td>\n",
       "      <td>3.042179</td>\n",
       "      <td>20.0</td>\n",
       "      <td>0.000000</td>\n",
       "      <td>0.000000</td>\n",
       "      <td>0.000000</td>\n",
       "      <td>0.000000</td>\n",
       "    </tr>\n",
       "    <tr>\n",
       "      <th>15</th>\n",
       "      <td>crossfold</td>\n",
       "      <td>2</td>\n",
       "      <td>Popular</td>\n",
       "      <td>Y</td>\n",
       "      <td>0.024</td>\n",
       "      <td>0.070</td>\n",
       "      <td>0</td>\n",
       "      <td>0</td>\n",
       "      <td>0</td>\n",
       "      <td>NaN</td>\n",
       "      <td>NaN</td>\n",
       "      <td>NaN</td>\n",
       "      <td>20.0</td>\n",
       "      <td>0.427282</td>\n",
       "      <td>0.159259</td>\n",
       "      <td>0.171415</td>\n",
       "      <td>0.165114</td>\n",
       "    </tr>\n",
       "    <tr>\n",
       "      <th>16</th>\n",
       "      <td>crossfold</td>\n",
       "      <td>2</td>\n",
       "      <td>ItemItem-Implicit</td>\n",
       "      <td>Y</td>\n",
       "      <td>3.048</td>\n",
       "      <td>3.332</td>\n",
       "      <td>189</td>\n",
       "      <td>3889</td>\n",
       "      <td>3888</td>\n",
       "      <td>0.999743</td>\n",
       "      <td>7.393185</td>\n",
       "      <td>9.343267</td>\n",
       "      <td>20.0</td>\n",
       "      <td>0.592868</td>\n",
       "      <td>0.214021</td>\n",
       "      <td>0.278265</td>\n",
       "      <td>0.241951</td>\n",
       "    </tr>\n",
       "    <tr>\n",
       "      <th>17</th>\n",
       "      <td>crossfold</td>\n",
       "      <td>3</td>\n",
       "      <td>PF-Implicit</td>\n",
       "      <td>Y</td>\n",
       "      <td>3912.774</td>\n",
       "      <td>0.394</td>\n",
       "      <td>189</td>\n",
       "      <td>4615</td>\n",
       "      <td>4613</td>\n",
       "      <td>0.999567</td>\n",
       "      <td>3.113854</td>\n",
       "      <td>3.097242</td>\n",
       "      <td>20.0</td>\n",
       "      <td>0.005291</td>\n",
       "      <td>0.003704</td>\n",
       "      <td>0.000541</td>\n",
       "      <td>0.000944</td>\n",
       "    </tr>\n",
       "    <tr>\n",
       "      <th>18</th>\n",
       "      <td>crossfold</td>\n",
       "      <td>2</td>\n",
       "      <td>funkSVD-Implicit</td>\n",
       "      <td>Y</td>\n",
       "      <td>62.333</td>\n",
       "      <td>0.157</td>\n",
       "      <td>189</td>\n",
       "      <td>3889</td>\n",
       "      <td>3888</td>\n",
       "      <td>0.999743</td>\n",
       "      <td>2.832560</td>\n",
       "      <td>2.864073</td>\n",
       "      <td>20.0</td>\n",
       "      <td>0.000000</td>\n",
       "      <td>0.000000</td>\n",
       "      <td>0.000000</td>\n",
       "      <td>0.000000</td>\n",
       "    </tr>\n",
       "    <tr>\n",
       "      <th>19</th>\n",
       "      <td>crossfold</td>\n",
       "      <td>2</td>\n",
       "      <td>PF-Implicit</td>\n",
       "      <td>Y</td>\n",
       "      <td>3513.580</td>\n",
       "      <td>0.131</td>\n",
       "      <td>189</td>\n",
       "      <td>3889</td>\n",
       "      <td>3888</td>\n",
       "      <td>0.999743</td>\n",
       "      <td>3.156177</td>\n",
       "      <td>3.186971</td>\n",
       "      <td>20.0</td>\n",
       "      <td>0.000000</td>\n",
       "      <td>0.000000</td>\n",
       "      <td>0.000000</td>\n",
       "      <td>0.000000</td>\n",
       "    </tr>\n",
       "  </tbody>\n",
       "</table>\n",
       "</div>"
      ],
      "text/plain": [
       "      DataSet  Partition          Algorithm Succeeded  BuildTime  TestTime  \\\n",
       "0   crossfold          1            Popular         Y      0.342     0.672   \n",
       "1   crossfold          5  ItemItem-Implicit         Y      4.253     4.548   \n",
       "2   crossfold          5            Popular         Y      0.029     0.135   \n",
       "3   crossfold          1  ItemItem-Implicit         Y      3.647     4.571   \n",
       "4   crossfold          5   funkSVD-Implicit         Y     67.681     0.527   \n",
       "5   crossfold          1   funkSVD-Implicit         Y     66.152     0.454   \n",
       "6   crossfold          4   funkSVD-Implicit         Y     63.813     0.576   \n",
       "7   crossfold          4  ItemItem-Implicit         Y      3.175     3.328   \n",
       "8   crossfold          4            Popular         Y      0.043     0.106   \n",
       "9   crossfold          5        PF-Implicit         Y   3947.441     0.436   \n",
       "10  crossfold          4        PF-Implicit         Y   3967.076     0.442   \n",
       "11  crossfold          3  ItemItem-Implicit         Y      2.967     3.554   \n",
       "12  crossfold          3            Popular         Y      0.027     0.084   \n",
       "13  crossfold          3   funkSVD-Implicit         Y     62.198     0.339   \n",
       "14  crossfold          1        PF-Implicit         Y   3965.636     0.380   \n",
       "15  crossfold          2            Popular         Y      0.024     0.070   \n",
       "16  crossfold          2  ItemItem-Implicit         Y      3.048     3.332   \n",
       "17  crossfold          3        PF-Implicit         Y   3912.774     0.394   \n",
       "18  crossfold          2   funkSVD-Implicit         Y     62.333     0.157   \n",
       "19  crossfold          2        PF-Implicit         Y   3513.580     0.131   \n",
       "\n",
       "    NUsers  NAttempted  NGood  Coverage  RMSE.ByUser  RMSE.ByRating  \\\n",
       "0        0           0      0       NaN          NaN            NaN   \n",
       "1      188        4030   4023  0.998263     7.151787       9.361474   \n",
       "2        0           0      0       NaN          NaN            NaN   \n",
       "3      189        3658   3654  0.998907     7.362704       9.545303   \n",
       "4      188        4030   4023  0.998263     2.784315       2.796435   \n",
       "5      189        3658   3654  0.998907     2.776143       2.723304   \n",
       "6      188        3808   3804  0.998950     2.790371       2.768499   \n",
       "7      188        3808   3804  0.998950     7.525110       9.482841   \n",
       "8        0           0      0       NaN          NaN            NaN   \n",
       "9      188        4030   4023  0.998263     3.105920       3.115971   \n",
       "10     188        3808   3804  0.998950     3.112555       3.089193   \n",
       "11     189        4615   4613  0.999567     7.839008       9.518700   \n",
       "12       0           0      0       NaN          NaN            NaN   \n",
       "13     189        4615   4613  0.999567     2.784859       2.772542   \n",
       "14     189        3658   3654  0.998907     3.096858       3.042179   \n",
       "15       0           0      0       NaN          NaN            NaN   \n",
       "16     189        3889   3888  0.999743     7.393185       9.343267   \n",
       "17     189        4615   4613  0.999567     3.113854       3.097242   \n",
       "18     189        3889   3888  0.999743     2.832560       2.864073   \n",
       "19     189        3889   3888  0.999743     3.156177       3.186971   \n",
       "\n",
       "    TopN.ActualLength       MRR  Precision    Recall        F1  \n",
       "0                20.0  0.400469   0.146032  0.178751  0.160743  \n",
       "1                20.0  0.586337   0.213564  0.284087  0.243828  \n",
       "2                20.0  0.386474   0.153989  0.161811  0.157803  \n",
       "3                20.0  0.640739   0.216138  0.289987  0.247675  \n",
       "4                20.0  0.000484   0.000266  0.000036  0.000064  \n",
       "5                20.0  0.000000   0.000000  0.000000  0.000000  \n",
       "6                20.0  0.000693   0.000798  0.000821  0.000809  \n",
       "7                20.0  0.575760   0.210106  0.271761  0.236989  \n",
       "8                20.0  0.421084   0.154255  0.185217  0.168324  \n",
       "9                20.0  0.007979   0.004521  0.000689  0.001196  \n",
       "10               20.0  0.005319   0.002128  0.000489  0.000795  \n",
       "11               20.0  0.607742   0.234921  0.260263  0.246943  \n",
       "12               20.0  0.445658   0.164286  0.157374  0.160756  \n",
       "13               20.0  0.000000   0.000000  0.000000  0.000000  \n",
       "14               20.0  0.000000   0.000000  0.000000  0.000000  \n",
       "15               20.0  0.427282   0.159259  0.171415  0.165114  \n",
       "16               20.0  0.592868   0.214021  0.278265  0.241951  \n",
       "17               20.0  0.005291   0.003704  0.000541  0.000944  \n",
       "18               20.0  0.000000   0.000000  0.000000  0.000000  \n",
       "19               20.0  0.000000   0.000000  0.000000  0.000000  "
      ]
     },
     "execution_count": 5,
     "metadata": {},
     "output_type": "execute_result"
    }
   ],
   "source": [
    "results"
   ]
  },
  {
   "cell_type": "markdown",
   "metadata": {},
   "source": [
    "We ran each algorithm 5 times since we used 5-fold cross-validation.  What we want to do next is compute the average value of each metric for each data set."
   ]
  },
  {
   "cell_type": "code",
   "execution_count": 5,
   "metadata": {},
   "outputs": [
    {
     "ename": "KeyError",
     "evalue": "'lambda'",
     "output_type": "error",
     "traceback": [
      "\u001b[0;31m---------------------------------------------------------------------------\u001b[0m",
      "\u001b[0;31mKeyError\u001b[0m                                  Traceback (most recent call last)",
      "\u001b[0;32m<ipython-input-5-0928cab44be9>\u001b[0m in \u001b[0;36m<module>\u001b[0;34m()\u001b[0m\n\u001b[0;32m----> 1\u001b[0;31m \u001b[0magg_results\u001b[0m \u001b[0;34m=\u001b[0m \u001b[0mresults\u001b[0m\u001b[0;34m.\u001b[0m\u001b[0mdrop\u001b[0m\u001b[0;34m(\u001b[0m\u001b[0;34m[\u001b[0m\u001b[0;34m'Partition'\u001b[0m\u001b[0;34m]\u001b[0m\u001b[0;34m,\u001b[0m \u001b[0maxis\u001b[0m\u001b[0;34m=\u001b[0m\u001b[0;36m1\u001b[0m\u001b[0;34m)\u001b[0m\u001b[0;34m.\u001b[0m\u001b[0mgroupby\u001b[0m\u001b[0;34m(\u001b[0m\u001b[0;34m[\u001b[0m\u001b[0;34m'Algorithm'\u001b[0m\u001b[0;34m,\u001b[0m\u001b[0;34m'lambda'\u001b[0m\u001b[0;34m,\u001b[0m\u001b[0;34m'Beta'\u001b[0m\u001b[0;34m]\u001b[0m\u001b[0;34m)\u001b[0m\u001b[0;34m.\u001b[0m\u001b[0mmean\u001b[0m\u001b[0;34m(\u001b[0m\u001b[0;34m)\u001b[0m\u001b[0;34m\u001b[0m\u001b[0m\n\u001b[0m\u001b[1;32m      2\u001b[0m \u001b[0magg_results\u001b[0m\u001b[0;34m\u001b[0m\u001b[0m\n",
      "\u001b[0;32m/home/mtian/anaconda3/lib/python3.6/site-packages/pandas/core/generic.py\u001b[0m in \u001b[0;36mgroupby\u001b[0;34m(self, by, axis, level, as_index, sort, group_keys, squeeze, **kwargs)\u001b[0m\n\u001b[1;32m   4269\u001b[0m         return groupby(self, by=by, axis=axis, level=level, as_index=as_index,\n\u001b[1;32m   4270\u001b[0m                        \u001b[0msort\u001b[0m\u001b[0;34m=\u001b[0m\u001b[0msort\u001b[0m\u001b[0;34m,\u001b[0m \u001b[0mgroup_keys\u001b[0m\u001b[0;34m=\u001b[0m\u001b[0mgroup_keys\u001b[0m\u001b[0;34m,\u001b[0m \u001b[0msqueeze\u001b[0m\u001b[0;34m=\u001b[0m\u001b[0msqueeze\u001b[0m\u001b[0;34m,\u001b[0m\u001b[0;34m\u001b[0m\u001b[0m\n\u001b[0;32m-> 4271\u001b[0;31m                        **kwargs)\n\u001b[0m\u001b[1;32m   4272\u001b[0m \u001b[0;34m\u001b[0m\u001b[0m\n\u001b[1;32m   4273\u001b[0m     def asfreq(self, freq, method=None, how=None, normalize=False,\n",
      "\u001b[0;32m/home/mtian/anaconda3/lib/python3.6/site-packages/pandas/core/groupby.py\u001b[0m in \u001b[0;36mgroupby\u001b[0;34m(obj, by, **kwds)\u001b[0m\n\u001b[1;32m   1624\u001b[0m         \u001b[0;32mraise\u001b[0m \u001b[0mTypeError\u001b[0m\u001b[0;34m(\u001b[0m\u001b[0;34m'invalid type: %s'\u001b[0m \u001b[0;34m%\u001b[0m \u001b[0mtype\u001b[0m\u001b[0;34m(\u001b[0m\u001b[0mobj\u001b[0m\u001b[0;34m)\u001b[0m\u001b[0;34m)\u001b[0m\u001b[0;34m\u001b[0m\u001b[0m\n\u001b[1;32m   1625\u001b[0m \u001b[0;34m\u001b[0m\u001b[0m\n\u001b[0;32m-> 1626\u001b[0;31m     \u001b[0;32mreturn\u001b[0m \u001b[0mklass\u001b[0m\u001b[0;34m(\u001b[0m\u001b[0mobj\u001b[0m\u001b[0;34m,\u001b[0m \u001b[0mby\u001b[0m\u001b[0;34m,\u001b[0m \u001b[0;34m**\u001b[0m\u001b[0mkwds\u001b[0m\u001b[0;34m)\u001b[0m\u001b[0;34m\u001b[0m\u001b[0m\n\u001b[0m\u001b[1;32m   1627\u001b[0m \u001b[0;34m\u001b[0m\u001b[0m\n\u001b[1;32m   1628\u001b[0m \u001b[0;34m\u001b[0m\u001b[0m\n",
      "\u001b[0;32m/home/mtian/anaconda3/lib/python3.6/site-packages/pandas/core/groupby.py\u001b[0m in \u001b[0;36m__init__\u001b[0;34m(self, obj, keys, axis, level, grouper, exclusions, selection, as_index, sort, group_keys, squeeze, **kwargs)\u001b[0m\n\u001b[1;32m    390\u001b[0m                                                     \u001b[0mlevel\u001b[0m\u001b[0;34m=\u001b[0m\u001b[0mlevel\u001b[0m\u001b[0;34m,\u001b[0m\u001b[0;34m\u001b[0m\u001b[0m\n\u001b[1;32m    391\u001b[0m                                                     \u001b[0msort\u001b[0m\u001b[0;34m=\u001b[0m\u001b[0msort\u001b[0m\u001b[0;34m,\u001b[0m\u001b[0;34m\u001b[0m\u001b[0m\n\u001b[0;32m--> 392\u001b[0;31m                                                     mutated=self.mutated)\n\u001b[0m\u001b[1;32m    393\u001b[0m \u001b[0;34m\u001b[0m\u001b[0m\n\u001b[1;32m    394\u001b[0m         \u001b[0mself\u001b[0m\u001b[0;34m.\u001b[0m\u001b[0mobj\u001b[0m \u001b[0;34m=\u001b[0m \u001b[0mobj\u001b[0m\u001b[0;34m\u001b[0m\u001b[0m\n",
      "\u001b[0;32m/home/mtian/anaconda3/lib/python3.6/site-packages/pandas/core/groupby.py\u001b[0m in \u001b[0;36m_get_grouper\u001b[0;34m(obj, key, axis, level, sort, mutated)\u001b[0m\n\u001b[1;32m   2615\u001b[0m                 \u001b[0min_axis\u001b[0m\u001b[0;34m,\u001b[0m \u001b[0mname\u001b[0m\u001b[0;34m,\u001b[0m \u001b[0mlevel\u001b[0m\u001b[0;34m,\u001b[0m \u001b[0mgpr\u001b[0m \u001b[0;34m=\u001b[0m \u001b[0;32mFalse\u001b[0m\u001b[0;34m,\u001b[0m \u001b[0;32mNone\u001b[0m\u001b[0;34m,\u001b[0m \u001b[0mgpr\u001b[0m\u001b[0;34m,\u001b[0m \u001b[0;32mNone\u001b[0m\u001b[0;34m\u001b[0m\u001b[0m\n\u001b[1;32m   2616\u001b[0m             \u001b[0;32melse\u001b[0m\u001b[0;34m:\u001b[0m\u001b[0;34m\u001b[0m\u001b[0m\n\u001b[0;32m-> 2617\u001b[0;31m                 \u001b[0;32mraise\u001b[0m \u001b[0mKeyError\u001b[0m\u001b[0;34m(\u001b[0m\u001b[0mgpr\u001b[0m\u001b[0;34m)\u001b[0m\u001b[0;34m\u001b[0m\u001b[0m\n\u001b[0m\u001b[1;32m   2618\u001b[0m         \u001b[0;32melif\u001b[0m \u001b[0misinstance\u001b[0m\u001b[0;34m(\u001b[0m\u001b[0mgpr\u001b[0m\u001b[0;34m,\u001b[0m \u001b[0mGrouper\u001b[0m\u001b[0;34m)\u001b[0m \u001b[0;32mand\u001b[0m \u001b[0mgpr\u001b[0m\u001b[0;34m.\u001b[0m\u001b[0mkey\u001b[0m \u001b[0;32mis\u001b[0m \u001b[0;32mnot\u001b[0m \u001b[0;32mNone\u001b[0m\u001b[0;34m:\u001b[0m\u001b[0;34m\u001b[0m\u001b[0m\n\u001b[1;32m   2619\u001b[0m             \u001b[0;31m# Add key to exclusions\u001b[0m\u001b[0;34m\u001b[0m\u001b[0;34m\u001b[0m\u001b[0m\n",
      "\u001b[0;31mKeyError\u001b[0m: 'lambda'"
     ]
    }
   ],
   "source": [
    "agg_results = results.drop(['Partition'], axis=1).groupby(['Algorithm','lambda','Beta']).mean()\n",
    "agg_results"
   ]
  },
  {
   "cell_type": "code",
   "execution_count": 6,
   "metadata": {},
   "outputs": [
    {
     "data": {
      "text/html": [
       "<div>\n",
       "<style>\n",
       "    .dataframe thead tr:only-child th {\n",
       "        text-align: right;\n",
       "    }\n",
       "\n",
       "    .dataframe thead th {\n",
       "        text-align: left;\n",
       "    }\n",
       "\n",
       "    .dataframe tbody tr th {\n",
       "        vertical-align: top;\n",
       "    }\n",
       "</style>\n",
       "<table border=\"1\" class=\"dataframe\">\n",
       "  <thead>\n",
       "    <tr style=\"text-align: right;\">\n",
       "      <th></th>\n",
       "      <th>BuildTime</th>\n",
       "      <th>TestTime</th>\n",
       "      <th>NUsers</th>\n",
       "      <th>NAttempted</th>\n",
       "      <th>NGood</th>\n",
       "      <th>Coverage</th>\n",
       "      <th>RMSE.ByUser</th>\n",
       "      <th>RMSE.ByRating</th>\n",
       "      <th>TopN.ActualLength</th>\n",
       "      <th>MRR</th>\n",
       "      <th>Precision</th>\n",
       "      <th>Recall</th>\n",
       "      <th>F1</th>\n",
       "    </tr>\n",
       "    <tr>\n",
       "      <th>Algorithm</th>\n",
       "      <th></th>\n",
       "      <th></th>\n",
       "      <th></th>\n",
       "      <th></th>\n",
       "      <th></th>\n",
       "      <th></th>\n",
       "      <th></th>\n",
       "      <th></th>\n",
       "      <th></th>\n",
       "      <th></th>\n",
       "      <th></th>\n",
       "      <th></th>\n",
       "      <th></th>\n",
       "    </tr>\n",
       "  </thead>\n",
       "  <tbody>\n",
       "    <tr>\n",
       "      <th>ItemItem-Implicit</th>\n",
       "      <td>3.4180</td>\n",
       "      <td>3.8666</td>\n",
       "      <td>188.6</td>\n",
       "      <td>4000.0</td>\n",
       "      <td>3996.4</td>\n",
       "      <td>0.999086</td>\n",
       "      <td>7.454359</td>\n",
       "      <td>9.450317</td>\n",
       "      <td>20.0</td>\n",
       "      <td>0.600689</td>\n",
       "      <td>0.217750</td>\n",
       "      <td>0.276872</td>\n",
       "      <td>0.243477</td>\n",
       "    </tr>\n",
       "    <tr>\n",
       "      <th>PF-Implicit</th>\n",
       "      <td>3861.3014</td>\n",
       "      <td>0.3566</td>\n",
       "      <td>188.6</td>\n",
       "      <td>4000.0</td>\n",
       "      <td>3996.4</td>\n",
       "      <td>0.999086</td>\n",
       "      <td>3.117073</td>\n",
       "      <td>3.106311</td>\n",
       "      <td>20.0</td>\n",
       "      <td>0.003718</td>\n",
       "      <td>0.002071</td>\n",
       "      <td>0.000344</td>\n",
       "      <td>0.000587</td>\n",
       "    </tr>\n",
       "    <tr>\n",
       "      <th>Popular</th>\n",
       "      <td>0.0930</td>\n",
       "      <td>0.2134</td>\n",
       "      <td>0.0</td>\n",
       "      <td>0.0</td>\n",
       "      <td>0.0</td>\n",
       "      <td>NaN</td>\n",
       "      <td>NaN</td>\n",
       "      <td>NaN</td>\n",
       "      <td>20.0</td>\n",
       "      <td>0.416193</td>\n",
       "      <td>0.155564</td>\n",
       "      <td>0.170914</td>\n",
       "      <td>0.162548</td>\n",
       "    </tr>\n",
       "    <tr>\n",
       "      <th>funkSVD-Implicit</th>\n",
       "      <td>64.4354</td>\n",
       "      <td>0.4106</td>\n",
       "      <td>188.6</td>\n",
       "      <td>4000.0</td>\n",
       "      <td>3996.4</td>\n",
       "      <td>0.999086</td>\n",
       "      <td>2.793650</td>\n",
       "      <td>2.784971</td>\n",
       "      <td>20.0</td>\n",
       "      <td>0.000235</td>\n",
       "      <td>0.000213</td>\n",
       "      <td>0.000171</td>\n",
       "      <td>0.000175</td>\n",
       "    </tr>\n",
       "  </tbody>\n",
       "</table>\n",
       "</div>"
      ],
      "text/plain": [
       "                   BuildTime  TestTime  NUsers  NAttempted   NGood  Coverage  \\\n",
       "Algorithm                                                                      \n",
       "ItemItem-Implicit     3.4180    3.8666   188.6      4000.0  3996.4  0.999086   \n",
       "PF-Implicit        3861.3014    0.3566   188.6      4000.0  3996.4  0.999086   \n",
       "Popular               0.0930    0.2134     0.0         0.0     0.0       NaN   \n",
       "funkSVD-Implicit     64.4354    0.4106   188.6      4000.0  3996.4  0.999086   \n",
       "\n",
       "                   RMSE.ByUser  RMSE.ByRating  TopN.ActualLength       MRR  \\\n",
       "Algorithm                                                                    \n",
       "ItemItem-Implicit     7.454359       9.450317               20.0  0.600689   \n",
       "PF-Implicit           3.117073       3.106311               20.0  0.003718   \n",
       "Popular                    NaN            NaN               20.0  0.416193   \n",
       "funkSVD-Implicit      2.793650       2.784971               20.0  0.000235   \n",
       "\n",
       "                   Precision    Recall        F1  \n",
       "Algorithm                                         \n",
       "ItemItem-Implicit   0.217750  0.276872  0.243477  \n",
       "PF-Implicit         0.002071  0.000344  0.000587  \n",
       "Popular             0.155564  0.170914  0.162548  \n",
       "funkSVD-Implicit    0.000213  0.000171  0.000175  "
      ]
     },
     "execution_count": 6,
     "metadata": {},
     "output_type": "execute_result"
    }
   ],
   "source": [
    "agg_results = results.drop(['Partition'], axis=1).groupby(['Algorithm']).mean()\n",
    "agg_results"
   ]
  },
  {
   "cell_type": "code",
   "execution_count": 7,
   "metadata": {
    "collapsed": true
   },
   "outputs": [],
   "source": [
    "res_slim = results.loc[results['lambda'].notnull(), :]"
   ]
  },
  {
   "cell_type": "code",
   "execution_count": 8,
   "metadata": {},
   "outputs": [
    {
     "data": {
      "text/plain": [
       "<matplotlib.axes._subplots.AxesSubplot at 0x7fc7355cdc18>"
      ]
     },
     "execution_count": 8,
     "metadata": {},
     "output_type": "execute_result"
    },
    {
     "data": {
      "image/png": "[encoded data removed]",
      "text/plain": [
       "<matplotlib.figure.Figure at 0x7fc7355cd2e8>"
      ]
     },
     "metadata": {},
     "output_type": "display_data"
    }
   ],
   "source": [
    "res_slim.boxplot(['RMSE.ByUser'], ['lambda','Beta','Algorithm'], figsize=(10, 8))"
   ]
  },
  {
   "cell_type": "markdown",
   "metadata": {},
   "source": [
    "## Plotting Results\n",
    "\n",
    "Let's start plotting things. What's the RMSE achieved by each algorithm?"
   ]
  },
  {
   "cell_type": "code",
   "execution_count": 9,
   "metadata": {
    "collapsed": true
   },
   "outputs": [],
   "source": [
    "df = results.loc[results['lambda'].notnull(),['lambda', 'RMSE.ByUser']].groupby('lambda').mean()\n",
    "# df.plot.scatter(x=df['lambda'], y=df['RMSE.ByUser'])"
   ]
  },
  {
   "cell_type": "code",
   "execution_count": 10,
   "metadata": {},
   "outputs": [
    {
     "name": "stderr",
     "output_type": "stream",
     "text": [
      "/home/mtian/anaconda3/lib/python3.6/site-packages/matplotlib/axes/_base.py:2917: UserWarning: Attempting to set identical left==right results\n",
      "in singular transformations; automatically expanding.\n",
      "left=0.5, right=0.5\n",
      "  'left=%s, right=%s') % (left, right))\n"
     ]
    },
    {
     "data": {
      "text/plain": [
       "<matplotlib.axes._subplots.AxesSubplot at 0x7fc731fe70f0>"
      ]
     },
     "execution_count": 10,
     "metadata": {},
     "output_type": "execute_result"
    },
    {
     "data": {
      "image/png": "[encoded data removed]",
      "text/plain": [
       "<matplotlib.figure.Figure at 0x7fc7355cde80>"
      ]
     },
     "metadata": {},
     "output_type": "display_data"
    }
   ],
   "source": [
    "ax = df.reset_index().plot.scatter(y='RMSE.ByUser', x='lambda')\n",
    "df.plot(ax=ax)"
   ]
  },
  {
   "cell_type": "code",
   "execution_count": null,
   "metadata": {
    "collapsed": true
   },
   "outputs": [],
   "source": []
  },
  {
   "cell_type": "markdown",
   "metadata": {},
   "source": [
    "Next up: nDCG"
   ]
  },
  {
   "cell_type": "code",
   "execution_count": 11,
   "metadata": {},
   "outputs": [
    {
     "data": {
      "text/plain": [
       "<matplotlib.axes._subplots.AxesSubplot at 0x7fc7320e06a0>"
      ]
     },
     "execution_count": 11,
     "metadata": {},
     "output_type": "execute_result"
    },
    {
     "data": {
      "image/png": "[encoded data removed]",
      "text/plain": [
       "<matplotlib.figure.Figure at 0x7fc732165b00>"
      ]
     },
     "metadata": {},
     "output_type": "display_data"
    }
   ],
   "source": [
    "results.loc[:,['Algorithm', 'Predict.nDCG']].boxplot(by='Algorithm', figsize=(8,6))"
   ]
  },
  {
   "cell_type": "markdown",
   "metadata": {},
   "source": [
    "Finally, the build and test times."
   ]
  },
  {
   "cell_type": "code",
   "execution_count": 6,
   "metadata": {},
   "outputs": [
    {
     "data": {
      "text/plain": [
       "array([<matplotlib.axes._subplots.AxesSubplot object at 0x0000021A6C29E710>,\n",
       "       <matplotlib.axes._subplots.AxesSubplot object at 0x0000021A6C6A3BE0>], dtype=object)"
      ]
     },
     "execution_count": 6,
     "metadata": {},
     "output_type": "execute_result"
    },
    {
     "data": {
      "image/png": "[encoded data removed]",
      "text/plain": [
       "<matplotlib.figure.Figure at 0x21a6c25af98>"
      ]
     },
     "metadata": {},
     "output_type": "display_data"
    }
   ],
   "source": [
    "results.loc[:,['Algorithm', 'BuildTime', 'TestTime']].boxplot(by='Algorithm', figsize=(8,6))"
   ]
  },
  {
   "cell_type": "code",
   "execution_count": 7,
   "metadata": {},
   "outputs": [
    {
     "data": {
      "text/plain": [
       "<matplotlib.axes._subplots.AxesSubplot at 0x21a6c8cf780>"
      ]
     },
     "execution_count": 7,
     "metadata": {},
     "output_type": "execute_result"
    },
    {
     "data": {
      "image/png": "[encoded data removed]",
      "text/plain": [
       "<matplotlib.figure.Figure at 0x21a6c6bc978>"
      ]
     },
     "metadata": {},
     "output_type": "display_data"
    }
   ],
   "source": [
    "results.loc[:,['Algorithm', 'MRR']].boxplot(by='Algorithm', figsize=(8,6))"
   ]
  },
  {
   "cell_type": "code",
   "execution_count": 5,
   "metadata": {},
   "outputs": [
    {
     "data": {
      "text/plain": [
       "<matplotlib.axes._subplots.AxesSubplot at 0x7f15f8ec6a90>"
      ]
     },
     "execution_count": 5,
     "metadata": {},
     "output_type": "execute_result"
    },
    {
     "data": {
      "image/png": "[encoded data removed]",
      "text/plain": [
       "<matplotlib.figure.Figure at 0x7f15f917f710>"
      ]
     },
     "metadata": {},
     "output_type": "display_data"
    }
   ],
   "source": [
    "results.loc[:,['Algorithm', 'MAP']].boxplot(by='Algorithm', figsize=(8,6))"
   ]
  },
  {
   "cell_type": "code",
   "execution_count": 8,
   "metadata": {},
   "outputs": [
    {
     "data": {
      "text/plain": [
       "<matplotlib.axes._subplots.AxesSubplot at 0x21a6c9eacc0>"
      ]
     },
     "execution_count": 8,
     "metadata": {},
     "output_type": "execute_result"
    },
    {
     "data": {
      "image/png": "[encoded data removed]",
      "text/plain": [
       "<matplotlib.figure.Figure at 0x21a6c93df60>"
      ]
     },
     "metadata": {},
     "output_type": "display_data"
    }
   ],
   "source": [
    "results.loc[:,['Algorithm', 'Recall']].boxplot(by='Algorithm', figsize=(8,6))"
   ]
  },
  {
   "cell_type": "code",
   "execution_count": 15,
   "metadata": {},
   "outputs": [
    {
     "data": {
      "text/plain": [
       "<matplotlib.axes._subplots.AxesSubplot at 0x7faeffe9fd30>"
      ]
     },
     "execution_count": 15,
     "metadata": {},
     "output_type": "execute_result"
    },
    {
     "data": {
      "image/png": "[encoded data removed]",
      "text/plain": [
       "<matplotlib.figure.Figure at 0x7faf0022dc50>"
      ]
     },
     "metadata": {},
     "output_type": "display_data"
    }
   ],
   "source": [
    "results.loc[:,['Algorithm', 'nDCG']].boxplot(by='Algorithm', figsize=(8,6))"
   ]
  },
  {
   "cell_type": "code",
   "execution_count": null,
   "metadata": {
    "collapsed": true
   },
   "outputs": [],
   "source": []
  }
 ],
 "metadata": {
  "kernelspec": {
   "display_name": "Python 3",
   "language": "python",
   "name": "python3"
  },
  "language_info": {
   "codemirror_mode": {
    "name": "ipython",
    "version": 3
   },
   "file_extension": ".py",
   "mimetype": "text/x-python",
   "name": "python",
   "nbconvert_exporter": "python",
   "pygments_lexer": "ipython3",
   "version": "3.6.1"
  }
 },
 "nbformat": 4,
 "nbformat_minor": 1
}
