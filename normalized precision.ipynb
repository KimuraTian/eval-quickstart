{
 "cells": [
  {
   "cell_type": "code",
   "execution_count": 1,
   "metadata": {},
   "outputs": [
    {
     "name": "stderr",
     "output_type": "stream",
     "text": [
      "Loading tidyverse: ggplot2\n",
      "Loading tidyverse: tibble\n",
      "Loading tidyverse: tidyr\n",
      "Loading tidyverse: readr\n",
      "Loading tidyverse: purrr\n",
      "Loading tidyverse: dplyr\n",
      "Conflicts with tidy packages ---------------------------------------------------\n",
      "filter(): dplyr, stats\n",
      "lag():    dplyr, stats\n"
     ]
    }
   ],
   "source": [
    "library(tidyverse)"
   ]
  },
  {
   "cell_type": "code",
   "execution_count": 2,
   "metadata": {
    "collapsed": true
   },
   "outputs": [],
   "source": [
    "options(repr.matrix.max.rows=10)"
   ]
  },
  {
   "cell_type": "markdown",
   "metadata": {},
   "source": [
    "### Load Data"
   ]
  },
  {
   "cell_type": "code",
   "execution_count": 3,
   "metadata": {},
   "outputs": [
    {
     "name": "stderr",
     "output_type": "stream",
     "text": [
      "Parsed with column specification:\n",
      "cols(\n",
      "  DataSet = col_character(),\n",
      "  Partition = col_integer(),\n",
      "  Algorithm = col_character(),\n",
      "  Succeeded = col_character(),\n",
      "  BuildTime = col_double(),\n",
      "  TestTime = col_double(),\n",
      "  RMSE.ByUser = col_double(),\n",
      "  RMSE.ByRating = col_double(),\n",
      "  MRR = col_double(),\n",
      "  Precision = col_double(),\n",
      "  Recall = col_double(),\n",
      "  F1 = col_double()\n",
      ")\n",
      "Parsed with column specification:\n",
      "cols(\n",
      "  DataSet = col_character(),\n",
      "  Partition = col_integer(),\n",
      "  Algorithm = col_character(),\n",
      "  User = col_integer(),\n",
      "  TestTime = col_double(),\n",
      "  TestItems = col_integer(),\n",
      "  RMSE = col_double(),\n",
      "  Rank = col_integer(),\n",
      "  RecipRank = col_double(),\n",
      "  Precision = col_double(),\n",
      "  Recall = col_double(),\n",
      "  F1 = col_double()\n",
      ")\n"
     ]
    },
    {
     "data": {
      "text/html": [
       "<table>\n",
       "<thead><tr><th scope=col>DataSet</th><th scope=col>Partition</th><th scope=col>Algorithm</th><th scope=col>Succeeded</th><th scope=col>BuildTime</th><th scope=col>TestTime</th><th scope=col>RMSE.ByUser</th><th scope=col>RMSE.ByRating</th><th scope=col>MRR</th><th scope=col>Precision</th><th scope=col>Recall</th><th scope=col>F1</th></tr></thead>\n",
       "<tbody>\n",
       "\t<tr><td>crossfold  </td><td>1          </td><td>Popular    </td><td>Y          </td><td>    23.492 </td><td> 1569.459  </td><td>3.347262   </td><td>7.361003   </td><td>0.05482688 </td><td>0.01337847 </td><td>0.03905692 </td><td>0.01993012 </td></tr>\n",
       "\t<tr><td>crossfold  </td><td>1          </td><td>PF-Implicit</td><td>Y          </td><td>114259.284 </td><td>32815.254  </td><td>4.073284   </td><td>7.650870   </td><td>0.11474263 </td><td>0.02767972 </td><td>0.07781151 </td><td>0.04083374 </td></tr>\n",
       "\t<tr><td>crossfold  </td><td>3          </td><td>Popular    </td><td>Y          </td><td>    19.363 </td><td> 1431.378  </td><td>3.350605   </td><td>6.509694   </td><td>0.05484751 </td><td>0.01341631 </td><td>0.03905462 </td><td>0.01997178 </td></tr>\n",
       "\t<tr><td>crossfold  </td><td>3          </td><td>PF-Implicit</td><td>Y          </td><td>134254.735 </td><td>33527.639  </td><td>4.076266   </td><td>6.835506   </td><td>0.11557490 </td><td>0.02795062 </td><td>0.07642106 </td><td>0.04093095 </td></tr>\n",
       "\t<tr><td>crossfold  </td><td>4          </td><td>Popular    </td><td>Y          </td><td>    18.496 </td><td> 1582.754  </td><td>3.356726   </td><td>6.596970   </td><td>0.05472843 </td><td>0.01335821 </td><td>0.03895122 </td><td>0.01989387 </td></tr>\n",
       "</tbody>\n",
       "</table>\n"
      ],
      "text/latex": [
       "\\begin{tabular}{r|llllllllllll}\n",
       " DataSet & Partition & Algorithm & Succeeded & BuildTime & TestTime & RMSE.ByUser & RMSE.ByRating & MRR & Precision & Recall & F1\\\\\n",
       "\\hline\n",
       "\t crossfold   & 1           & Popular     & Y           &     23.492  &  1569.459   & 3.347262    & 7.361003    & 0.05482688  & 0.01337847  & 0.03905692  & 0.01993012 \\\\\n",
       "\t crossfold   & 1           & PF-Implicit & Y           & 114259.284  & 32815.254   & 4.073284    & 7.650870    & 0.11474263  & 0.02767972  & 0.07781151  & 0.04083374 \\\\\n",
       "\t crossfold   & 3           & Popular     & Y           &     19.363  &  1431.378   & 3.350605    & 6.509694    & 0.05484751  & 0.01341631  & 0.03905462  & 0.01997178 \\\\\n",
       "\t crossfold   & 3           & PF-Implicit & Y           & 134254.735  & 33527.639   & 4.076266    & 6.835506    & 0.11557490  & 0.02795062  & 0.07642106  & 0.04093095 \\\\\n",
       "\t crossfold   & 4           & Popular     & Y           &     18.496  &  1582.754   & 3.356726    & 6.596970    & 0.05472843  & 0.01335821  & 0.03895122  & 0.01989387 \\\\\n",
       "\\end{tabular}\n"
      ],
      "text/markdown": [
       "\n",
       "DataSet | Partition | Algorithm | Succeeded | BuildTime | TestTime | RMSE.ByUser | RMSE.ByRating | MRR | Precision | Recall | F1 | \n",
       "|---|---|---|---|---|\n",
       "| crossfold   | 1           | Popular     | Y           |     23.492  |  1569.459   | 3.347262    | 7.361003    | 0.05482688  | 0.01337847  | 0.03905692  | 0.01993012  | \n",
       "| crossfold   | 1           | PF-Implicit | Y           | 114259.284  | 32815.254   | 4.073284    | 7.650870    | 0.11474263  | 0.02767972  | 0.07781151  | 0.04083374  | \n",
       "| crossfold   | 3           | Popular     | Y           |     19.363  |  1431.378   | 3.350605    | 6.509694    | 0.05484751  | 0.01341631  | 0.03905462  | 0.01997178  | \n",
       "| crossfold   | 3           | PF-Implicit | Y           | 134254.735  | 33527.639   | 4.076266    | 6.835506    | 0.11557490  | 0.02795062  | 0.07642106  | 0.04093095  | \n",
       "| crossfold   | 4           | Popular     | Y           |     18.496  |  1582.754   | 3.356726    | 6.596970    | 0.05472843  | 0.01335821  | 0.03895122  | 0.01989387  | \n",
       "\n",
       "\n"
      ],
      "text/plain": [
       "  DataSet   Partition Algorithm   Succeeded BuildTime  TestTime  RMSE.ByUser\n",
       "1 crossfold 1         Popular     Y             23.492  1569.459 3.347262   \n",
       "2 crossfold 1         PF-Implicit Y         114259.284 32815.254 4.073284   \n",
       "3 crossfold 3         Popular     Y             19.363  1431.378 3.350605   \n",
       "4 crossfold 3         PF-Implicit Y         134254.735 33527.639 4.076266   \n",
       "5 crossfold 4         Popular     Y             18.496  1582.754 3.356726   \n",
       "  RMSE.ByRating MRR        Precision  Recall     F1        \n",
       "1 7.361003      0.05482688 0.01337847 0.03905692 0.01993012\n",
       "2 7.650870      0.11474263 0.02767972 0.07781151 0.04083374\n",
       "3 6.509694      0.05484751 0.01341631 0.03905462 0.01997178\n",
       "4 6.835506      0.11557490 0.02795062 0.07642106 0.04093095\n",
       "5 6.596970      0.05472843 0.01335821 0.03895122 0.01989387"
      ]
     },
     "metadata": {},
     "output_type": "display_data"
    },
    {
     "data": {
      "text/html": [
       "<table>\n",
       "<thead><tr><th scope=col>DataSet</th><th scope=col>Partition</th><th scope=col>Algorithm</th><th scope=col>User</th><th scope=col>TestTime</th><th scope=col>TestItems</th><th scope=col>RMSE</th><th scope=col>Rank</th><th scope=col>RecipRank</th><th scope=col>Precision</th><th scope=col>Recall</th><th scope=col>F1</th></tr></thead>\n",
       "<tbody>\n",
       "\t<tr><td>crossfold  </td><td>1          </td><td>Popular    </td><td>844099     </td><td>2.477      </td><td>3          </td><td>18.47807181</td><td>NA         </td><td>0          </td><td>0          </td><td>0          </td><td>0          </td></tr>\n",
       "\t<tr><td>crossfold  </td><td>1          </td><td>Popular    </td><td>923802     </td><td>2.475      </td><td>1          </td><td> 7.00008633</td><td>NA         </td><td>0          </td><td>0          </td><td>0          </td><td>0          </td></tr>\n",
       "\t<tr><td>crossfold  </td><td>1          </td><td>Popular    </td><td> 79532     </td><td>2.481      </td><td>3          </td><td> 0.02633701</td><td>NA         </td><td>0          </td><td>0          </td><td>0          </td><td>0          </td></tr>\n",
       "\t<tr><td>crossfold  </td><td>1          </td><td>Popular    </td><td>589189     </td><td>2.489      </td><td>3          </td><td> 0.15222460</td><td>NA         </td><td>0          </td><td>0          </td><td>0          </td><td>0          </td></tr>\n",
       "\t<tr><td>crossfold  </td><td>1          </td><td>Popular    </td><td>286515     </td><td>2.475      </td><td>4          </td><td> 0.70742766</td><td>NA         </td><td>0          </td><td>0          </td><td>0          </td><td>0          </td></tr>\n",
       "\t<tr><td>⋮</td><td>⋮</td><td>⋮</td><td>⋮</td><td>⋮</td><td>⋮</td><td>⋮</td><td>⋮</td><td>⋮</td><td>⋮</td><td>⋮</td><td>⋮</td></tr>\n",
       "\t<tr><td>crossfold </td><td>4         </td><td>Popular   </td><td>207084    </td><td>0.019     </td><td>5         </td><td>2.84743673</td><td>NA        </td><td>0         </td><td>0         </td><td>0         </td><td>0         </td></tr>\n",
       "\t<tr><td>crossfold </td><td>4         </td><td>Popular   </td><td>207085    </td><td>0.015     </td><td>2         </td><td>0.01083446</td><td>NA        </td><td>0         </td><td>0         </td><td>0         </td><td>0         </td></tr>\n",
       "\t<tr><td>crossfold </td><td>4         </td><td>Popular   </td><td>207086    </td><td>0.013     </td><td>4         </td><td>2.13278396</td><td>NA        </td><td>0         </td><td>0         </td><td>0         </td><td>0         </td></tr>\n",
       "\t<tr><td>crossfold </td><td>4         </td><td>Popular   </td><td>207087    </td><td>0.016     </td><td>4         </td><td>1.25656664</td><td>NA        </td><td>0         </td><td>0         </td><td>0         </td><td>0         </td></tr>\n",
       "\t<tr><td>crossfold </td><td>4         </td><td>Popular   </td><td>207088    </td><td>0.018     </td><td>3         </td><td>0.09185877</td><td>NA        </td><td>0         </td><td>0         </td><td>0         </td><td>0         </td></tr>\n",
       "</tbody>\n",
       "</table>\n"
      ],
      "text/latex": [
       "\\begin{tabular}{r|llllllllllll}\n",
       " DataSet & Partition & Algorithm & User & TestTime & TestItems & RMSE & Rank & RecipRank & Precision & Recall & F1\\\\\n",
       "\\hline\n",
       "\t crossfold   & 1           & Popular     & 844099      & 2.477       & 3           & 18.47807181 & NA          & 0           & 0           & 0           & 0          \\\\\n",
       "\t crossfold   & 1           & Popular     & 923802      & 2.475       & 1           &  7.00008633 & NA          & 0           & 0           & 0           & 0          \\\\\n",
       "\t crossfold   & 1           & Popular     &  79532      & 2.481       & 3           &  0.02633701 & NA          & 0           & 0           & 0           & 0          \\\\\n",
       "\t crossfold   & 1           & Popular     & 589189      & 2.489       & 3           &  0.15222460 & NA          & 0           & 0           & 0           & 0          \\\\\n",
       "\t crossfold   & 1           & Popular     & 286515      & 2.475       & 4           &  0.70742766 & NA          & 0           & 0           & 0           & 0          \\\\\n",
       "\t ⋮ & ⋮ & ⋮ & ⋮ & ⋮ & ⋮ & ⋮ & ⋮ & ⋮ & ⋮ & ⋮ & ⋮\\\\\n",
       "\t crossfold  & 4          & Popular    & 207084     & 0.019      & 5          & 2.84743673 & NA         & 0          & 0          & 0          & 0         \\\\\n",
       "\t crossfold  & 4          & Popular    & 207085     & 0.015      & 2          & 0.01083446 & NA         & 0          & 0          & 0          & 0         \\\\\n",
       "\t crossfold  & 4          & Popular    & 207086     & 0.013      & 4          & 2.13278396 & NA         & 0          & 0          & 0          & 0         \\\\\n",
       "\t crossfold  & 4          & Popular    & 207087     & 0.016      & 4          & 1.25656664 & NA         & 0          & 0          & 0          & 0         \\\\\n",
       "\t crossfold  & 4          & Popular    & 207088     & 0.018      & 3          & 0.09185877 & NA         & 0          & 0          & 0          & 0         \\\\\n",
       "\\end{tabular}\n"
      ],
      "text/markdown": [
       "\n",
       "DataSet | Partition | Algorithm | User | TestTime | TestItems | RMSE | Rank | RecipRank | Precision | Recall | F1 | \n",
       "|---|---|---|---|---|---|---|---|---|---|---|\n",
       "| crossfold   | 1           | Popular     | 844099      | 2.477       | 3           | 18.47807181 | NA          | 0           | 0           | 0           | 0           | \n",
       "| crossfold   | 1           | Popular     | 923802      | 2.475       | 1           |  7.00008633 | NA          | 0           | 0           | 0           | 0           | \n",
       "| crossfold   | 1           | Popular     |  79532      | 2.481       | 3           |  0.02633701 | NA          | 0           | 0           | 0           | 0           | \n",
       "| crossfold   | 1           | Popular     | 589189      | 2.489       | 3           |  0.15222460 | NA          | 0           | 0           | 0           | 0           | \n",
       "| crossfold   | 1           | Popular     | 286515      | 2.475       | 4           |  0.70742766 | NA          | 0           | 0           | 0           | 0           | \n",
       "| ⋮ | ⋮ | ⋮ | ⋮ | ⋮ | ⋮ | ⋮ | ⋮ | ⋮ | ⋮ | ⋮ | ⋮ | \n",
       "| crossfold  | 4          | Popular    | 207084     | 0.019      | 5          | 2.84743673 | NA         | 0          | 0          | 0          | 0          | \n",
       "| crossfold  | 4          | Popular    | 207085     | 0.015      | 2          | 0.01083446 | NA         | 0          | 0          | 0          | 0          | \n",
       "| crossfold  | 4          | Popular    | 207086     | 0.013      | 4          | 2.13278396 | NA         | 0          | 0          | 0          | 0          | \n",
       "| crossfold  | 4          | Popular    | 207087     | 0.016      | 4          | 1.25656664 | NA         | 0          | 0          | 0          | 0          | \n",
       "| crossfold  | 4          | Popular    | 207088     | 0.018      | 3          | 0.09185877 | NA         | 0          | 0          | 0          | 0          | \n",
       "\n",
       "\n"
      ],
      "text/plain": [
       "        DataSet   Partition Algorithm User   TestTime TestItems RMSE       \n",
       "1       crossfold 1         Popular   844099 2.477    3         18.47807181\n",
       "2       crossfold 1         Popular   923802 2.475    1          7.00008633\n",
       "3       crossfold 1         Popular    79532 2.481    3          0.02633701\n",
       "4       crossfold 1         Popular   589189 2.489    3          0.15222460\n",
       "5       crossfold 1         Popular   286515 2.475    4          0.70742766\n",
       "⋮       ⋮         ⋮         ⋮         ⋮      ⋮        ⋮         ⋮          \n",
       "4972017 crossfold 4         Popular   207084 0.019    5         2.84743673 \n",
       "4972018 crossfold 4         Popular   207085 0.015    2         0.01083446 \n",
       "4972019 crossfold 4         Popular   207086 0.013    4         2.13278396 \n",
       "4972020 crossfold 4         Popular   207087 0.016    4         1.25656664 \n",
       "4972021 crossfold 4         Popular   207088 0.018    3         0.09185877 \n",
       "        Rank RecipRank Precision Recall F1\n",
       "1       NA   0         0         0      0 \n",
       "2       NA   0         0         0      0 \n",
       "3       NA   0         0         0      0 \n",
       "4       NA   0         0         0      0 \n",
       "5       NA   0         0         0      0 \n",
       "⋮       ⋮    ⋮         ⋮         ⋮      ⋮ \n",
       "4972017 NA   0         0         0      0 \n",
       "4972018 NA   0         0         0      0 \n",
       "4972019 NA   0         0         0      0 \n",
       "4972020 NA   0         0         0      0 \n",
       "4972021 NA   0         0         0      0 "
      ]
     },
     "metadata": {},
     "output_type": "display_data"
    }
   ],
   "source": [
    "results = read_csv(\"build/eval-results.csv\")\n",
    "user.results = read_csv(\"build/eval-users-results.csv\")\n",
    "results\n",
    "user.results"
   ]
  },
  {
   "cell_type": "code",
   "execution_count": 4,
   "metadata": {},
   "outputs": [
    {
     "name": "stderr",
     "output_type": "stream",
     "text": [
      "Parsed with column specification:\n",
      "cols(\n",
      "  user = col_integer(),\n",
      "  item = col_integer(),\n",
      "  rating = col_double(),\n",
      "  timestamp = col_integer()\n",
      ")\n"
     ]
    },
    {
     "data": {
      "text/html": [
       "<table>\n",
       "<thead><tr><th scope=col>user</th><th scope=col>item</th><th scope=col>rating</th><th scope=col>timestamp</th></tr></thead>\n",
       "<tbody>\n",
       "\t<tr><td> 73250</td><td> 3459 </td><td>2     </td><td>-1    </td></tr>\n",
       "\t<tr><td>629014</td><td>33717 </td><td>2     </td><td>-1    </td></tr>\n",
       "\t<tr><td>544771</td><td> 7093 </td><td>1     </td><td>-1    </td></tr>\n",
       "\t<tr><td>215215</td><td> 5901 </td><td>1     </td><td>-1    </td></tr>\n",
       "\t<tr><td>192687</td><td> 6357 </td><td>4     </td><td>-1    </td></tr>\n",
       "\t<tr><td>⋮</td><td>⋮</td><td>⋮</td><td>⋮</td></tr>\n",
       "\t<tr><td> 66179</td><td>147948</td><td> 1    </td><td>-1    </td></tr>\n",
       "\t<tr><td>329331</td><td>106737</td><td> 4    </td><td>-1    </td></tr>\n",
       "\t<tr><td>763431</td><td>144466</td><td> 1    </td><td>-1    </td></tr>\n",
       "\t<tr><td>567968</td><td> 37166</td><td> 1    </td><td>-1    </td></tr>\n",
       "\t<tr><td>546511</td><td>229834</td><td>13    </td><td>-1    </td></tr>\n",
       "</tbody>\n",
       "</table>\n"
      ],
      "text/latex": [
       "\\begin{tabular}{r|llll}\n",
       " user & item & rating & timestamp\\\\\n",
       "\\hline\n",
       "\t  73250 &  3459  & 2      & -1    \\\\\n",
       "\t 629014 & 33717  & 2      & -1    \\\\\n",
       "\t 544771 &  7093  & 1      & -1    \\\\\n",
       "\t 215215 &  5901  & 1      & -1    \\\\\n",
       "\t 192687 &  6357  & 4      & -1    \\\\\n",
       "\t ⋮ & ⋮ & ⋮ & ⋮\\\\\n",
       "\t  66179 & 147948 &  1     & -1    \\\\\n",
       "\t 329331 & 106737 &  4     & -1    \\\\\n",
       "\t 763431 & 144466 &  1     & -1    \\\\\n",
       "\t 567968 &  37166 &  1     & -1    \\\\\n",
       "\t 546511 & 229834 & 13     & -1    \\\\\n",
       "\\end{tabular}\n"
      ],
      "text/markdown": [
       "\n",
       "user | item | rating | timestamp | \n",
       "|---|---|---|---|---|---|---|---|---|---|---|\n",
       "|  73250 |  3459  | 2      | -1     | \n",
       "| 629014 | 33717  | 2      | -1     | \n",
       "| 544771 |  7093  | 1      | -1     | \n",
       "| 215215 |  5901  | 1      | -1     | \n",
       "| 192687 |  6357  | 4      | -1     | \n",
       "| ⋮ | ⋮ | ⋮ | ⋮ | \n",
       "|  66179 | 147948 |  1     | -1     | \n",
       "| 329331 | 106737 |  4     | -1     | \n",
       "| 763431 | 144466 |  1     | -1     | \n",
       "| 567968 |  37166 |  1     | -1     | \n",
       "| 546511 | 229834 | 13     | -1     | \n",
       "\n",
       "\n"
      ],
      "text/plain": [
       "        user   item   rating timestamp\n",
       "1        73250  3459  2      -1       \n",
       "2       629014 33717  2      -1       \n",
       "3       544771  7093  1      -1       \n",
       "4       215215  5901  1      -1       \n",
       "5       192687  6357  4      -1       \n",
       "⋮       ⋮      ⋮      ⋮      ⋮        \n",
       "9159016  66179 147948  1     -1       \n",
       "9159017 329331 106737  4     -1       \n",
       "9159018 763431 144466  1     -1       \n",
       "9159019 567968  37166  1     -1       \n",
       "9159020 546511 229834 13     -1       "
      ]
     },
     "metadata": {},
     "output_type": "display_data"
    }
   ],
   "source": [
    "test.ratings = read_csv(\"build/crossfold.out/part03.test.csv\",\n",
    "                col_names=c(\"user\", \"item\", \"rating\", \"timestamp\"))\n",
    "test.ratings"
   ]
  },
  {
   "cell_type": "code",
   "execution_count": 5,
   "metadata": {},
   "outputs": [],
   "source": [
    "user.test.item = test.ratings %>%\n",
    "    group_by(user) %>%\n",
    "    summarize(itemCount=n()) %>%\n",
    "    ungroup %>%\n",
    "    mutate(total=sum(itemCount))"
   ]
  },
  {
   "cell_type": "code",
   "execution_count": 6,
   "metadata": {},
   "outputs": [
    {
     "data": {
      "text/html": [
       "<table>\n",
       "<thead><tr><th scope=col>User</th><th scope=col>itemCount</th><th scope=col>total</th></tr></thead>\n",
       "<tbody>\n",
       "\t<tr><td>1      </td><td>19     </td><td>9159020</td></tr>\n",
       "\t<tr><td>2      </td><td> 4     </td><td>9159020</td></tr>\n",
       "\t<tr><td>3      </td><td> 1     </td><td>9159020</td></tr>\n",
       "\t<tr><td>4      </td><td> 2     </td><td>9159020</td></tr>\n",
       "\t<tr><td>5      </td><td> 7     </td><td>9159020</td></tr>\n",
       "\t<tr><td>⋮</td><td>⋮</td><td>⋮</td></tr>\n",
       "\t<tr><td>1019314</td><td> 2     </td><td>9159020</td></tr>\n",
       "\t<tr><td>1019315</td><td>54     </td><td>9159020</td></tr>\n",
       "\t<tr><td>1019316</td><td> 5     </td><td>9159020</td></tr>\n",
       "\t<tr><td>1019317</td><td>12     </td><td>9159020</td></tr>\n",
       "\t<tr><td>1019318</td><td> 5     </td><td>9159020</td></tr>\n",
       "</tbody>\n",
       "</table>\n"
      ],
      "text/latex": [
       "\\begin{tabular}{r|lll}\n",
       " User & itemCount & total\\\\\n",
       "\\hline\n",
       "\t 1       & 19      & 9159020\\\\\n",
       "\t 2       &  4      & 9159020\\\\\n",
       "\t 3       &  1      & 9159020\\\\\n",
       "\t 4       &  2      & 9159020\\\\\n",
       "\t 5       &  7      & 9159020\\\\\n",
       "\t ⋮ & ⋮ & ⋮\\\\\n",
       "\t 1019314 &  2      & 9159020\\\\\n",
       "\t 1019315 & 54      & 9159020\\\\\n",
       "\t 1019316 &  5      & 9159020\\\\\n",
       "\t 1019317 & 12      & 9159020\\\\\n",
       "\t 1019318 &  5      & 9159020\\\\\n",
       "\\end{tabular}\n"
      ],
      "text/markdown": [
       "\n",
       "User | itemCount | total | \n",
       "|---|---|---|---|---|---|---|---|---|---|---|\n",
       "| 1       | 19      | 9159020 | \n",
       "| 2       |  4      | 9159020 | \n",
       "| 3       |  1      | 9159020 | \n",
       "| 4       |  2      | 9159020 | \n",
       "| 5       |  7      | 9159020 | \n",
       "| ⋮ | ⋮ | ⋮ | \n",
       "| 1019314 |  2      | 9159020 | \n",
       "| 1019315 | 54      | 9159020 | \n",
       "| 1019316 |  5      | 9159020 | \n",
       "| 1019317 | 12      | 9159020 | \n",
       "| 1019318 |  5      | 9159020 | \n",
       "\n",
       "\n"
      ],
      "text/plain": [
       "       User    itemCount total  \n",
       "1      1       19        9159020\n",
       "2      2        4        9159020\n",
       "3      3        1        9159020\n",
       "4      4        2        9159020\n",
       "5      5        7        9159020\n",
       "⋮      ⋮       ⋮         ⋮      \n",
       "994457 1019314  2        9159020\n",
       "994458 1019315 54        9159020\n",
       "994459 1019316  5        9159020\n",
       "994460 1019317 12        9159020\n",
       "994461 1019318  5        9159020"
      ]
     },
     "metadata": {},
     "output_type": "display_data"
    }
   ],
   "source": [
    "user.test.item = user.test.item %>%\n",
    "    rename(User=user)\n",
    "user.test.item"
   ]
  },
  {
   "cell_type": "code",
   "execution_count": 12,
   "metadata": {},
   "outputs": [
    {
     "name": "stderr",
     "output_type": "stream",
     "text": [
      "Joining, by = \"User\"\n"
     ]
    },
    {
     "data": {
      "text/html": [
       "<table>\n",
       "<thead><tr><th scope=col>DataSet</th><th scope=col>Partition</th><th scope=col>Algorithm</th><th scope=col>User</th><th scope=col>TestTime</th><th scope=col>TestItems</th><th scope=col>RMSE</th><th scope=col>Rank</th><th scope=col>RecipRank</th><th scope=col>Precision</th><th scope=col>Recall</th><th scope=col>F1</th><th scope=col>itemCount</th><th scope=col>total</th></tr></thead>\n",
       "<tbody>\n",
       "\t<tr><td>crossfold  </td><td>3          </td><td>PF-Implicit</td><td>366292     </td><td>0.417      </td><td>25         </td><td>2.808400   </td><td>NA         </td><td>0.0000000  </td><td>0.00       </td><td>0.00       </td><td>0.00000000 </td><td>25         </td><td>9159020    </td></tr>\n",
       "\t<tr><td>crossfold  </td><td>3          </td><td>PF-Implicit</td><td>398147     </td><td>0.424      </td><td> 4         </td><td>3.704680   </td><td> 3         </td><td>0.3333333  </td><td>0.05       </td><td>0.25       </td><td>0.08333333 </td><td> 4         </td><td>9159020    </td></tr>\n",
       "\t<tr><td>crossfold  </td><td>3          </td><td>PF-Implicit</td><td>159178     </td><td>0.446      </td><td> 5         </td><td>2.827107   </td><td> 1         </td><td>1.0000000  </td><td>0.10       </td><td>0.40       </td><td>0.16000000 </td><td> 5         </td><td>9159020    </td></tr>\n",
       "\t<tr><td>crossfold  </td><td>3          </td><td>PF-Implicit</td><td> 79604     </td><td>0.428      </td><td>10         </td><td>4.217140   </td><td>NA         </td><td>0.0000000  </td><td>0.00       </td><td>0.00       </td><td>0.00000000 </td><td>10         </td><td>9159020    </td></tr>\n",
       "\t<tr><td>crossfold  </td><td>3          </td><td>PF-Implicit</td><td>589329     </td><td>0.428      </td><td> 4         </td><td>2.645585   </td><td>NA         </td><td>0.0000000  </td><td>0.00       </td><td>0.00       </td><td>0.00000000 </td><td> 4         </td><td>9159020    </td></tr>\n",
       "\t<tr><td>⋮</td><td>⋮</td><td>⋮</td><td>⋮</td><td>⋮</td><td>⋮</td><td>⋮</td><td>⋮</td><td>⋮</td><td>⋮</td><td>⋮</td><td>⋮</td><td>⋮</td><td>⋮</td></tr>\n",
       "\t<tr><td>crossfold  </td><td>3          </td><td>PF-Implicit</td><td>796315     </td><td>0.423      </td><td> 5         </td><td>7.8849990  </td><td>NA         </td><td>0          </td><td>0          </td><td>0          </td><td>0          </td><td> 5         </td><td>9159020    </td></tr>\n",
       "\t<tr><td>crossfold  </td><td>3          </td><td>PF-Implicit</td><td>796316     </td><td>0.425      </td><td> 2         </td><td>7.5134683  </td><td>NA         </td><td>0          </td><td>0          </td><td>0          </td><td>0          </td><td> 2         </td><td>9159020    </td></tr>\n",
       "\t<tr><td>crossfold  </td><td>3          </td><td>PF-Implicit</td><td>796317     </td><td>0.423      </td><td> 2         </td><td>0.9984006  </td><td>NA         </td><td>0          </td><td>0          </td><td>0          </td><td>0          </td><td> 2         </td><td>9159020    </td></tr>\n",
       "\t<tr><td>crossfold  </td><td>3          </td><td>PF-Implicit</td><td>796318     </td><td>0.428      </td><td> 5         </td><td>1.6705680  </td><td>NA         </td><td>0          </td><td>0          </td><td>0          </td><td>0          </td><td> 5         </td><td>9159020    </td></tr>\n",
       "\t<tr><td>crossfold  </td><td>3          </td><td>PF-Implicit</td><td>796319     </td><td>0.430      </td><td>11         </td><td>3.2358613  </td><td>NA         </td><td>0          </td><td>0          </td><td>0          </td><td>0          </td><td>11         </td><td>9159020    </td></tr>\n",
       "</tbody>\n",
       "</table>\n"
      ],
      "text/latex": [
       "\\begin{tabular}{r|llllllllllllll}\n",
       " DataSet & Partition & Algorithm & User & TestTime & TestItems & RMSE & Rank & RecipRank & Precision & Recall & F1 & itemCount & total\\\\\n",
       "\\hline\n",
       "\t crossfold   & 3           & PF-Implicit & 366292      & 0.417       & 25          & 2.808400    & NA          & 0.0000000   & 0.00        & 0.00        & 0.00000000  & 25          & 9159020    \\\\\n",
       "\t crossfold   & 3           & PF-Implicit & 398147      & 0.424       &  4          & 3.704680    &  3          & 0.3333333   & 0.05        & 0.25        & 0.08333333  &  4          & 9159020    \\\\\n",
       "\t crossfold   & 3           & PF-Implicit & 159178      & 0.446       &  5          & 2.827107    &  1          & 1.0000000   & 0.10        & 0.40        & 0.16000000  &  5          & 9159020    \\\\\n",
       "\t crossfold   & 3           & PF-Implicit &  79604      & 0.428       & 10          & 4.217140    & NA          & 0.0000000   & 0.00        & 0.00        & 0.00000000  & 10          & 9159020    \\\\\n",
       "\t crossfold   & 3           & PF-Implicit & 589329      & 0.428       &  4          & 2.645585    & NA          & 0.0000000   & 0.00        & 0.00        & 0.00000000  &  4          & 9159020    \\\\\n",
       "\t ⋮ & ⋮ & ⋮ & ⋮ & ⋮ & ⋮ & ⋮ & ⋮ & ⋮ & ⋮ & ⋮ & ⋮ & ⋮ & ⋮\\\\\n",
       "\t crossfold   & 3           & PF-Implicit & 796315      & 0.423       &  5          & 7.8849990   & NA          & 0           & 0           & 0           & 0           &  5          & 9159020    \\\\\n",
       "\t crossfold   & 3           & PF-Implicit & 796316      & 0.425       &  2          & 7.5134683   & NA          & 0           & 0           & 0           & 0           &  2          & 9159020    \\\\\n",
       "\t crossfold   & 3           & PF-Implicit & 796317      & 0.423       &  2          & 0.9984006   & NA          & 0           & 0           & 0           & 0           &  2          & 9159020    \\\\\n",
       "\t crossfold   & 3           & PF-Implicit & 796318      & 0.428       &  5          & 1.6705680   & NA          & 0           & 0           & 0           & 0           &  5          & 9159020    \\\\\n",
       "\t crossfold   & 3           & PF-Implicit & 796319      & 0.430       & 11          & 3.2358613   & NA          & 0           & 0           & 0           & 0           & 11          & 9159020    \\\\\n",
       "\\end{tabular}\n"
      ],
      "text/markdown": [
       "\n",
       "DataSet | Partition | Algorithm | User | TestTime | TestItems | RMSE | Rank | RecipRank | Precision | Recall | F1 | itemCount | total | \n",
       "|---|---|---|---|---|---|---|---|---|---|---|\n",
       "| crossfold   | 3           | PF-Implicit | 366292      | 0.417       | 25          | 2.808400    | NA          | 0.0000000   | 0.00        | 0.00        | 0.00000000  | 25          | 9159020     | \n",
       "| crossfold   | 3           | PF-Implicit | 398147      | 0.424       |  4          | 3.704680    |  3          | 0.3333333   | 0.05        | 0.25        | 0.08333333  |  4          | 9159020     | \n",
       "| crossfold   | 3           | PF-Implicit | 159178      | 0.446       |  5          | 2.827107    |  1          | 1.0000000   | 0.10        | 0.40        | 0.16000000  |  5          | 9159020     | \n",
       "| crossfold   | 3           | PF-Implicit |  79604      | 0.428       | 10          | 4.217140    | NA          | 0.0000000   | 0.00        | 0.00        | 0.00000000  | 10          | 9159020     | \n",
       "| crossfold   | 3           | PF-Implicit | 589329      | 0.428       |  4          | 2.645585    | NA          | 0.0000000   | 0.00        | 0.00        | 0.00000000  |  4          | 9159020     | \n",
       "| ⋮ | ⋮ | ⋮ | ⋮ | ⋮ | ⋮ | ⋮ | ⋮ | ⋮ | ⋮ | ⋮ | ⋮ | ⋮ | ⋮ | \n",
       "| crossfold   | 3           | PF-Implicit | 796315      | 0.423       |  5          | 7.8849990   | NA          | 0           | 0           | 0           | 0           |  5          | 9159020     | \n",
       "| crossfold   | 3           | PF-Implicit | 796316      | 0.425       |  2          | 7.5134683   | NA          | 0           | 0           | 0           | 0           |  2          | 9159020     | \n",
       "| crossfold   | 3           | PF-Implicit | 796317      | 0.423       |  2          | 0.9984006   | NA          | 0           | 0           | 0           | 0           |  2          | 9159020     | \n",
       "| crossfold   | 3           | PF-Implicit | 796318      | 0.428       |  5          | 1.6705680   | NA          | 0           | 0           | 0           | 0           |  5          | 9159020     | \n",
       "| crossfold   | 3           | PF-Implicit | 796319      | 0.430       | 11          | 3.2358613   | NA          | 0           | 0           | 0           | 0           | 11          | 9159020     | \n",
       "\n",
       "\n"
      ],
      "text/plain": [
       "       DataSet   Partition Algorithm   User   TestTime TestItems RMSE      Rank\n",
       "1      crossfold 3         PF-Implicit 366292 0.417    25        2.808400  NA  \n",
       "2      crossfold 3         PF-Implicit 398147 0.424     4        3.704680   3  \n",
       "3      crossfold 3         PF-Implicit 159178 0.446     5        2.827107   1  \n",
       "4      crossfold 3         PF-Implicit  79604 0.428    10        4.217140  NA  \n",
       "5      crossfold 3         PF-Implicit 589329 0.428     4        2.645585  NA  \n",
       "⋮      ⋮         ⋮         ⋮           ⋮      ⋮        ⋮         ⋮         ⋮   \n",
       "994457 crossfold 3         PF-Implicit 796315 0.423     5        7.8849990 NA  \n",
       "994458 crossfold 3         PF-Implicit 796316 0.425     2        7.5134683 NA  \n",
       "994459 crossfold 3         PF-Implicit 796317 0.423     2        0.9984006 NA  \n",
       "994460 crossfold 3         PF-Implicit 796318 0.428     5        1.6705680 NA  \n",
       "994461 crossfold 3         PF-Implicit 796319 0.430    11        3.2358613 NA  \n",
       "       RecipRank Precision Recall F1         itemCount total  \n",
       "1      0.0000000 0.00      0.00   0.00000000 25        9159020\n",
       "2      0.3333333 0.05      0.25   0.08333333  4        9159020\n",
       "3      1.0000000 0.10      0.40   0.16000000  5        9159020\n",
       "4      0.0000000 0.00      0.00   0.00000000 10        9159020\n",
       "5      0.0000000 0.00      0.00   0.00000000  4        9159020\n",
       "⋮      ⋮         ⋮         ⋮      ⋮          ⋮         ⋮      \n",
       "994457 0         0         0      0           5        9159020\n",
       "994458 0         0         0      0           2        9159020\n",
       "994459 0         0         0      0           2        9159020\n",
       "994460 0         0         0      0           5        9159020\n",
       "994461 0         0         0      0          11        9159020"
      ]
     },
     "metadata": {},
     "output_type": "display_data"
    }
   ],
   "source": [
    "user.results.stats = user.results %>%\n",
    "    filter(Algorithm==\"PF-Implicit\" & Partition==3) %>%\n",
    "    inner_join(user.test.item)\n",
    "user.results.stats"
   ]
  },
  {
   "cell_type": "code",
   "execution_count": 13,
   "metadata": {},
   "outputs": [
    {
     "data": {
      "text/html": [
       "<table>\n",
       "<thead><tr><th scope=col>DataSet</th><th scope=col>Partition</th><th scope=col>Algorithm</th><th scope=col>User</th><th scope=col>TestTime</th><th scope=col>TestItems</th><th scope=col>RMSE</th><th scope=col>Rank</th><th scope=col>RecipRank</th><th scope=col>Precision</th><th scope=col>Recall</th><th scope=col>F1</th><th scope=col>itemCount</th><th scope=col>total</th><th scope=col>nPrecision</th></tr></thead>\n",
       "<tbody>\n",
       "\t<tr><td>crossfold  </td><td>3          </td><td>PF-Implicit</td><td>398147     </td><td>0.424      </td><td> 4         </td><td>3.704680   </td><td> 3         </td><td>0.3333333  </td><td>0.05       </td><td>0.25       </td><td>0.08333333 </td><td> 4         </td><td>9159020    </td><td>0.25       </td></tr>\n",
       "\t<tr><td>crossfold  </td><td>3          </td><td>PF-Implicit</td><td>159178     </td><td>0.446      </td><td> 5         </td><td>2.827107   </td><td> 1         </td><td>1.0000000  </td><td>0.10       </td><td>0.40       </td><td>0.16000000 </td><td> 5         </td><td>9159020    </td><td>0.40       </td></tr>\n",
       "\t<tr><td>crossfold  </td><td>3          </td><td>PF-Implicit</td><td> 79604     </td><td>0.428      </td><td>10         </td><td>4.217140   </td><td>NA         </td><td>0.0000000  </td><td>0.00       </td><td>0.00       </td><td>0.00000000 </td><td>10         </td><td>9159020    </td><td>0.00       </td></tr>\n",
       "\t<tr><td>crossfold  </td><td>3          </td><td>PF-Implicit</td><td>589329     </td><td>0.428      </td><td> 4         </td><td>2.645585   </td><td>NA         </td><td>0.0000000  </td><td>0.00       </td><td>0.00       </td><td>0.00000000 </td><td> 4         </td><td>9159020    </td><td>0.00       </td></tr>\n",
       "\t<tr><td>crossfold  </td><td>3          </td><td>PF-Implicit</td><td>493765     </td><td>0.407      </td><td> 3         </td><td>3.107671   </td><td>NA         </td><td>0.0000000  </td><td>0.00       </td><td>0.00       </td><td>0.00000000 </td><td> 3         </td><td>9159020    </td><td>0.00       </td></tr>\n",
       "\t<tr><td>⋮</td><td>⋮</td><td>⋮</td><td>⋮</td><td>⋮</td><td>⋮</td><td>⋮</td><td>⋮</td><td>⋮</td><td>⋮</td><td>⋮</td><td>⋮</td><td>⋮</td><td>⋮</td><td>⋮</td></tr>\n",
       "\t<tr><td>crossfold  </td><td>3          </td><td>PF-Implicit</td><td>796315     </td><td>0.423      </td><td> 5         </td><td>7.8849990  </td><td>NA         </td><td>0          </td><td>0          </td><td>0          </td><td>0          </td><td> 5         </td><td>9159020    </td><td>0          </td></tr>\n",
       "\t<tr><td>crossfold  </td><td>3          </td><td>PF-Implicit</td><td>796316     </td><td>0.425      </td><td> 2         </td><td>7.5134683  </td><td>NA         </td><td>0          </td><td>0          </td><td>0          </td><td>0          </td><td> 2         </td><td>9159020    </td><td>0          </td></tr>\n",
       "\t<tr><td>crossfold  </td><td>3          </td><td>PF-Implicit</td><td>796317     </td><td>0.423      </td><td> 2         </td><td>0.9984006  </td><td>NA         </td><td>0          </td><td>0          </td><td>0          </td><td>0          </td><td> 2         </td><td>9159020    </td><td>0          </td></tr>\n",
       "\t<tr><td>crossfold  </td><td>3          </td><td>PF-Implicit</td><td>796318     </td><td>0.428      </td><td> 5         </td><td>1.6705680  </td><td>NA         </td><td>0          </td><td>0          </td><td>0          </td><td>0          </td><td> 5         </td><td>9159020    </td><td>0          </td></tr>\n",
       "\t<tr><td>crossfold  </td><td>3          </td><td>PF-Implicit</td><td>796319     </td><td>0.430      </td><td>11         </td><td>3.2358613  </td><td>NA         </td><td>0          </td><td>0          </td><td>0          </td><td>0          </td><td>11         </td><td>9159020    </td><td>0          </td></tr>\n",
       "</tbody>\n",
       "</table>\n"
      ],
      "text/latex": [
       "\\begin{tabular}{r|lllllllllllllll}\n",
       " DataSet & Partition & Algorithm & User & TestTime & TestItems & RMSE & Rank & RecipRank & Precision & Recall & F1 & itemCount & total & nPrecision\\\\\n",
       "\\hline\n",
       "\t crossfold   & 3           & PF-Implicit & 398147      & 0.424       &  4          & 3.704680    &  3          & 0.3333333   & 0.05        & 0.25        & 0.08333333  &  4          & 9159020     & 0.25       \\\\\n",
       "\t crossfold   & 3           & PF-Implicit & 159178      & 0.446       &  5          & 2.827107    &  1          & 1.0000000   & 0.10        & 0.40        & 0.16000000  &  5          & 9159020     & 0.40       \\\\\n",
       "\t crossfold   & 3           & PF-Implicit &  79604      & 0.428       & 10          & 4.217140    & NA          & 0.0000000   & 0.00        & 0.00        & 0.00000000  & 10          & 9159020     & 0.00       \\\\\n",
       "\t crossfold   & 3           & PF-Implicit & 589329      & 0.428       &  4          & 2.645585    & NA          & 0.0000000   & 0.00        & 0.00        & 0.00000000  &  4          & 9159020     & 0.00       \\\\\n",
       "\t crossfold   & 3           & PF-Implicit & 493765      & 0.407       &  3          & 3.107671    & NA          & 0.0000000   & 0.00        & 0.00        & 0.00000000  &  3          & 9159020     & 0.00       \\\\\n",
       "\t ⋮ & ⋮ & ⋮ & ⋮ & ⋮ & ⋮ & ⋮ & ⋮ & ⋮ & ⋮ & ⋮ & ⋮ & ⋮ & ⋮ & ⋮\\\\\n",
       "\t crossfold   & 3           & PF-Implicit & 796315      & 0.423       &  5          & 7.8849990   & NA          & 0           & 0           & 0           & 0           &  5          & 9159020     & 0          \\\\\n",
       "\t crossfold   & 3           & PF-Implicit & 796316      & 0.425       &  2          & 7.5134683   & NA          & 0           & 0           & 0           & 0           &  2          & 9159020     & 0          \\\\\n",
       "\t crossfold   & 3           & PF-Implicit & 796317      & 0.423       &  2          & 0.9984006   & NA          & 0           & 0           & 0           & 0           &  2          & 9159020     & 0          \\\\\n",
       "\t crossfold   & 3           & PF-Implicit & 796318      & 0.428       &  5          & 1.6705680   & NA          & 0           & 0           & 0           & 0           &  5          & 9159020     & 0          \\\\\n",
       "\t crossfold   & 3           & PF-Implicit & 796319      & 0.430       & 11          & 3.2358613   & NA          & 0           & 0           & 0           & 0           & 11          & 9159020     & 0          \\\\\n",
       "\\end{tabular}\n"
      ],
      "text/markdown": [
       "\n",
       "DataSet | Partition | Algorithm | User | TestTime | TestItems | RMSE | Rank | RecipRank | Precision | Recall | F1 | itemCount | total | nPrecision | \n",
       "|---|---|---|---|---|---|---|---|---|---|---|\n",
       "| crossfold   | 3           | PF-Implicit | 398147      | 0.424       |  4          | 3.704680    |  3          | 0.3333333   | 0.05        | 0.25        | 0.08333333  |  4          | 9159020     | 0.25        | \n",
       "| crossfold   | 3           | PF-Implicit | 159178      | 0.446       |  5          | 2.827107    |  1          | 1.0000000   | 0.10        | 0.40        | 0.16000000  |  5          | 9159020     | 0.40        | \n",
       "| crossfold   | 3           | PF-Implicit |  79604      | 0.428       | 10          | 4.217140    | NA          | 0.0000000   | 0.00        | 0.00        | 0.00000000  | 10          | 9159020     | 0.00        | \n",
       "| crossfold   | 3           | PF-Implicit | 589329      | 0.428       |  4          | 2.645585    | NA          | 0.0000000   | 0.00        | 0.00        | 0.00000000  |  4          | 9159020     | 0.00        | \n",
       "| crossfold   | 3           | PF-Implicit | 493765      | 0.407       |  3          | 3.107671    | NA          | 0.0000000   | 0.00        | 0.00        | 0.00000000  |  3          | 9159020     | 0.00        | \n",
       "| ⋮ | ⋮ | ⋮ | ⋮ | ⋮ | ⋮ | ⋮ | ⋮ | ⋮ | ⋮ | ⋮ | ⋮ | ⋮ | ⋮ | ⋮ | \n",
       "| crossfold   | 3           | PF-Implicit | 796315      | 0.423       |  5          | 7.8849990   | NA          | 0           | 0           | 0           | 0           |  5          | 9159020     | 0           | \n",
       "| crossfold   | 3           | PF-Implicit | 796316      | 0.425       |  2          | 7.5134683   | NA          | 0           | 0           | 0           | 0           |  2          | 9159020     | 0           | \n",
       "| crossfold   | 3           | PF-Implicit | 796317      | 0.423       |  2          | 0.9984006   | NA          | 0           | 0           | 0           | 0           |  2          | 9159020     | 0           | \n",
       "| crossfold   | 3           | PF-Implicit | 796318      | 0.428       |  5          | 1.6705680   | NA          | 0           | 0           | 0           | 0           |  5          | 9159020     | 0           | \n",
       "| crossfold   | 3           | PF-Implicit | 796319      | 0.430       | 11          | 3.2358613   | NA          | 0           | 0           | 0           | 0           | 11          | 9159020     | 0           | \n",
       "\n",
       "\n"
      ],
      "text/plain": [
       "       DataSet   Partition Algorithm   User   TestTime TestItems RMSE      Rank\n",
       "1      crossfold 3         PF-Implicit 398147 0.424     4        3.704680   3  \n",
       "2      crossfold 3         PF-Implicit 159178 0.446     5        2.827107   1  \n",
       "3      crossfold 3         PF-Implicit  79604 0.428    10        4.217140  NA  \n",
       "4      crossfold 3         PF-Implicit 589329 0.428     4        2.645585  NA  \n",
       "5      crossfold 3         PF-Implicit 493765 0.407     3        3.107671  NA  \n",
       "⋮      ⋮         ⋮         ⋮           ⋮      ⋮        ⋮         ⋮         ⋮   \n",
       "884599 crossfold 3         PF-Implicit 796315 0.423     5        7.8849990 NA  \n",
       "884600 crossfold 3         PF-Implicit 796316 0.425     2        7.5134683 NA  \n",
       "884601 crossfold 3         PF-Implicit 796317 0.423     2        0.9984006 NA  \n",
       "884602 crossfold 3         PF-Implicit 796318 0.428     5        1.6705680 NA  \n",
       "884603 crossfold 3         PF-Implicit 796319 0.430    11        3.2358613 NA  \n",
       "       RecipRank Precision Recall F1         itemCount total   nPrecision\n",
       "1      0.3333333 0.05      0.25   0.08333333  4        9159020 0.25      \n",
       "2      1.0000000 0.10      0.40   0.16000000  5        9159020 0.40      \n",
       "3      0.0000000 0.00      0.00   0.00000000 10        9159020 0.00      \n",
       "4      0.0000000 0.00      0.00   0.00000000  4        9159020 0.00      \n",
       "5      0.0000000 0.00      0.00   0.00000000  3        9159020 0.00      \n",
       "⋮      ⋮         ⋮         ⋮      ⋮          ⋮         ⋮       ⋮         \n",
       "884599 0         0         0      0           5        9159020 0         \n",
       "884600 0         0         0      0           2        9159020 0         \n",
       "884601 0         0         0      0           2        9159020 0         \n",
       "884602 0         0         0      0           5        9159020 0         \n",
       "884603 0         0         0      0          11        9159020 0         "
      ]
     },
     "metadata": {},
     "output_type": "display_data"
    }
   ],
   "source": [
    "user.results.normed = user.results.stats %>%\n",
    "    filter(TestItems < 20) %>%\n",
    "    mutate(nPrecision = Precision * 20 / TestItems)\n",
    "user.results.normed"
   ]
  },
  {
   "cell_type": "code",
   "execution_count": 14,
   "metadata": {},
   "outputs": [
    {
     "data": {
      "text/html": [
       "<table>\n",
       "<thead><tr><th scope=col>DataSet</th><th scope=col>Partition</th><th scope=col>Algorithm</th><th scope=col>User</th><th scope=col>TestTime</th><th scope=col>TestItems</th><th scope=col>RMSE</th><th scope=col>Rank</th><th scope=col>RecipRank</th><th scope=col>Precision</th><th scope=col>Recall</th><th scope=col>F1</th><th scope=col>itemCount</th><th scope=col>total</th><th scope=col>nPrecision</th></tr></thead>\n",
       "<tbody>\n",
       "\t<tr><td>crossfold  </td><td>3          </td><td>PF-Implicit</td><td>366292     </td><td>0.417      </td><td>25         </td><td> 2.808400  </td><td>NA         </td><td>0          </td><td>0.0        </td><td>0.0000000  </td><td>0.0000000  </td><td>25         </td><td>9159020    </td><td>0.0        </td></tr>\n",
       "\t<tr><td>crossfold  </td><td>3          </td><td>PF-Implicit</td><td>222882     </td><td>0.420      </td><td>38         </td><td> 4.713369  </td><td> 1         </td><td>1          </td><td>0.5        </td><td>0.2631579  </td><td>0.3448276  </td><td>38         </td><td>9159020    </td><td>0.5        </td></tr>\n",
       "\t<tr><td>crossfold  </td><td>3          </td><td>PF-Implicit</td><td>923735     </td><td>0.417      </td><td>32         </td><td> 3.332727  </td><td>NA         </td><td>0          </td><td>0.0        </td><td>0.0000000  </td><td>0.0000000  </td><td>32         </td><td>9159020    </td><td>0.0        </td></tr>\n",
       "\t<tr><td>crossfold  </td><td>3          </td><td>PF-Implicit</td><td>159179     </td><td>0.433      </td><td>22         </td><td>13.399468  </td><td>NA         </td><td>0          </td><td>0.0        </td><td>0.0000000  </td><td>0.0000000  </td><td>22         </td><td>9159020    </td><td>0.0        </td></tr>\n",
       "\t<tr><td>crossfold  </td><td>3          </td><td>PF-Implicit</td><td>334405     </td><td>0.417      </td><td>23         </td><td> 2.356757  </td><td>NA         </td><td>0          </td><td>0.0        </td><td>0.0000000  </td><td>0.0000000  </td><td>23         </td><td>9159020    </td><td>0.0        </td></tr>\n",
       "\t<tr><td>⋮</td><td>⋮</td><td>⋮</td><td>⋮</td><td>⋮</td><td>⋮</td><td>⋮</td><td>⋮</td><td>⋮</td><td>⋮</td><td>⋮</td><td>⋮</td><td>⋮</td><td>⋮</td><td>⋮</td></tr>\n",
       "\t<tr><td>crossfold  </td><td>3          </td><td>PF-Implicit</td><td>796253     </td><td>0.429      </td><td>36         </td><td>2.146912   </td><td>NA         </td><td>0.0000000  </td><td>0.00       </td><td>0.00000000 </td><td>0.00000000 </td><td>36         </td><td>9159020    </td><td>0.00       </td></tr>\n",
       "\t<tr><td>crossfold  </td><td>3          </td><td>PF-Implicit</td><td>796272     </td><td>0.428      </td><td>27         </td><td>3.661860   </td><td> 7         </td><td>0.1428571  </td><td>0.05       </td><td>0.03703704 </td><td>0.04255319 </td><td>27         </td><td>9159020    </td><td>0.05       </td></tr>\n",
       "\t<tr><td>crossfold  </td><td>3          </td><td>PF-Implicit</td><td>796292     </td><td>0.429      </td><td>20         </td><td>2.628067   </td><td> 1         </td><td>1.0000000  </td><td>0.05       </td><td>0.05000000 </td><td>0.05000000 </td><td>20         </td><td>9159020    </td><td>0.05       </td></tr>\n",
       "\t<tr><td>crossfold  </td><td>3          </td><td>PF-Implicit</td><td>796301     </td><td>0.432      </td><td>35         </td><td>2.647278   </td><td> 5         </td><td>0.2000000  </td><td>0.15       </td><td>0.08571429 </td><td>0.10909091 </td><td>35         </td><td>9159020    </td><td>0.15       </td></tr>\n",
       "\t<tr><td>crossfold  </td><td>3          </td><td>PF-Implicit</td><td>796303     </td><td>0.430      </td><td>25         </td><td>5.831793   </td><td> 6         </td><td>0.1666667  </td><td>0.05       </td><td>0.04000000 </td><td>0.04444444 </td><td>25         </td><td>9159020    </td><td>0.05       </td></tr>\n",
       "</tbody>\n",
       "</table>\n"
      ],
      "text/latex": [
       "\\begin{tabular}{r|lllllllllllllll}\n",
       " DataSet & Partition & Algorithm & User & TestTime & TestItems & RMSE & Rank & RecipRank & Precision & Recall & F1 & itemCount & total & nPrecision\\\\\n",
       "\\hline\n",
       "\t crossfold   & 3           & PF-Implicit & 366292      & 0.417       & 25          &  2.808400   & NA          & 0           & 0.0         & 0.0000000   & 0.0000000   & 25          & 9159020     & 0.0        \\\\\n",
       "\t crossfold   & 3           & PF-Implicit & 222882      & 0.420       & 38          &  4.713369   &  1          & 1           & 0.5         & 0.2631579   & 0.3448276   & 38          & 9159020     & 0.5        \\\\\n",
       "\t crossfold   & 3           & PF-Implicit & 923735      & 0.417       & 32          &  3.332727   & NA          & 0           & 0.0         & 0.0000000   & 0.0000000   & 32          & 9159020     & 0.0        \\\\\n",
       "\t crossfold   & 3           & PF-Implicit & 159179      & 0.433       & 22          & 13.399468   & NA          & 0           & 0.0         & 0.0000000   & 0.0000000   & 22          & 9159020     & 0.0        \\\\\n",
       "\t crossfold   & 3           & PF-Implicit & 334405      & 0.417       & 23          &  2.356757   & NA          & 0           & 0.0         & 0.0000000   & 0.0000000   & 23          & 9159020     & 0.0        \\\\\n",
       "\t ⋮ & ⋮ & ⋮ & ⋮ & ⋮ & ⋮ & ⋮ & ⋮ & ⋮ & ⋮ & ⋮ & ⋮ & ⋮ & ⋮ & ⋮\\\\\n",
       "\t crossfold   & 3           & PF-Implicit & 796253      & 0.429       & 36          & 2.146912    & NA          & 0.0000000   & 0.00        & 0.00000000  & 0.00000000  & 36          & 9159020     & 0.00       \\\\\n",
       "\t crossfold   & 3           & PF-Implicit & 796272      & 0.428       & 27          & 3.661860    &  7          & 0.1428571   & 0.05        & 0.03703704  & 0.04255319  & 27          & 9159020     & 0.05       \\\\\n",
       "\t crossfold   & 3           & PF-Implicit & 796292      & 0.429       & 20          & 2.628067    &  1          & 1.0000000   & 0.05        & 0.05000000  & 0.05000000  & 20          & 9159020     & 0.05       \\\\\n",
       "\t crossfold   & 3           & PF-Implicit & 796301      & 0.432       & 35          & 2.647278    &  5          & 0.2000000   & 0.15        & 0.08571429  & 0.10909091  & 35          & 9159020     & 0.15       \\\\\n",
       "\t crossfold   & 3           & PF-Implicit & 796303      & 0.430       & 25          & 5.831793    &  6          & 0.1666667   & 0.05        & 0.04000000  & 0.04444444  & 25          & 9159020     & 0.05       \\\\\n",
       "\\end{tabular}\n"
      ],
      "text/markdown": [
       "\n",
       "DataSet | Partition | Algorithm | User | TestTime | TestItems | RMSE | Rank | RecipRank | Precision | Recall | F1 | itemCount | total | nPrecision | \n",
       "|---|---|---|---|---|---|---|---|---|---|---|\n",
       "| crossfold   | 3           | PF-Implicit | 366292      | 0.417       | 25          |  2.808400   | NA          | 0           | 0.0         | 0.0000000   | 0.0000000   | 25          | 9159020     | 0.0         | \n",
       "| crossfold   | 3           | PF-Implicit | 222882      | 0.420       | 38          |  4.713369   |  1          | 1           | 0.5         | 0.2631579   | 0.3448276   | 38          | 9159020     | 0.5         | \n",
       "| crossfold   | 3           | PF-Implicit | 923735      | 0.417       | 32          |  3.332727   | NA          | 0           | 0.0         | 0.0000000   | 0.0000000   | 32          | 9159020     | 0.0         | \n",
       "| crossfold   | 3           | PF-Implicit | 159179      | 0.433       | 22          | 13.399468   | NA          | 0           | 0.0         | 0.0000000   | 0.0000000   | 22          | 9159020     | 0.0         | \n",
       "| crossfold   | 3           | PF-Implicit | 334405      | 0.417       | 23          |  2.356757   | NA          | 0           | 0.0         | 0.0000000   | 0.0000000   | 23          | 9159020     | 0.0         | \n",
       "| ⋮ | ⋮ | ⋮ | ⋮ | ⋮ | ⋮ | ⋮ | ⋮ | ⋮ | ⋮ | ⋮ | ⋮ | ⋮ | ⋮ | ⋮ | \n",
       "| crossfold   | 3           | PF-Implicit | 796253      | 0.429       | 36          | 2.146912    | NA          | 0.0000000   | 0.00        | 0.00000000  | 0.00000000  | 36          | 9159020     | 0.00        | \n",
       "| crossfold   | 3           | PF-Implicit | 796272      | 0.428       | 27          | 3.661860    |  7          | 0.1428571   | 0.05        | 0.03703704  | 0.04255319  | 27          | 9159020     | 0.05        | \n",
       "| crossfold   | 3           | PF-Implicit | 796292      | 0.429       | 20          | 2.628067    |  1          | 1.0000000   | 0.05        | 0.05000000  | 0.05000000  | 20          | 9159020     | 0.05        | \n",
       "| crossfold   | 3           | PF-Implicit | 796301      | 0.432       | 35          | 2.647278    |  5          | 0.2000000   | 0.15        | 0.08571429  | 0.10909091  | 35          | 9159020     | 0.15        | \n",
       "| crossfold   | 3           | PF-Implicit | 796303      | 0.430       | 25          | 5.831793    |  6          | 0.1666667   | 0.05        | 0.04000000  | 0.04444444  | 25          | 9159020     | 0.05        | \n",
       "\n",
       "\n"
      ],
      "text/plain": [
       "       DataSet   Partition Algorithm   User   TestTime TestItems RMSE      Rank\n",
       "1      crossfold 3         PF-Implicit 366292 0.417    25         2.808400 NA  \n",
       "2      crossfold 3         PF-Implicit 222882 0.420    38         4.713369  1  \n",
       "3      crossfold 3         PF-Implicit 923735 0.417    32         3.332727 NA  \n",
       "4      crossfold 3         PF-Implicit 159179 0.433    22        13.399468 NA  \n",
       "5      crossfold 3         PF-Implicit 334405 0.417    23         2.356757 NA  \n",
       "⋮      ⋮         ⋮         ⋮           ⋮      ⋮        ⋮         ⋮         ⋮   \n",
       "109854 crossfold 3         PF-Implicit 796253 0.429    36        2.146912  NA  \n",
       "109855 crossfold 3         PF-Implicit 796272 0.428    27        3.661860   7  \n",
       "109856 crossfold 3         PF-Implicit 796292 0.429    20        2.628067   1  \n",
       "109857 crossfold 3         PF-Implicit 796301 0.432    35        2.647278   5  \n",
       "109858 crossfold 3         PF-Implicit 796303 0.430    25        5.831793   6  \n",
       "       RecipRank Precision Recall     F1         itemCount total   nPrecision\n",
       "1      0         0.0       0.0000000  0.0000000  25        9159020 0.0       \n",
       "2      1         0.5       0.2631579  0.3448276  38        9159020 0.5       \n",
       "3      0         0.0       0.0000000  0.0000000  32        9159020 0.0       \n",
       "4      0         0.0       0.0000000  0.0000000  22        9159020 0.0       \n",
       "5      0         0.0       0.0000000  0.0000000  23        9159020 0.0       \n",
       "⋮      ⋮         ⋮         ⋮          ⋮          ⋮         ⋮       ⋮         \n",
       "109854 0.0000000 0.00      0.00000000 0.00000000 36        9159020 0.00      \n",
       "109855 0.1428571 0.05      0.03703704 0.04255319 27        9159020 0.05      \n",
       "109856 1.0000000 0.05      0.05000000 0.05000000 20        9159020 0.05      \n",
       "109857 0.2000000 0.15      0.08571429 0.10909091 35        9159020 0.15      \n",
       "109858 0.1666667 0.05      0.04000000 0.04444444 25        9159020 0.05      "
      ]
     },
     "metadata": {},
     "output_type": "display_data"
    }
   ],
   "source": [
    "user.results.normed2 = user.results.stats %>%\n",
    "    filter(TestItems >= 20) %>%\n",
    "    mutate(nPrecision = Precision)\n",
    "user.results.normed2"
   ]
  },
  {
   "cell_type": "code",
   "execution_count": 15,
   "metadata": {},
   "outputs": [
    {
     "data": {
      "text/html": [
       "<table>\n",
       "<thead><tr><th scope=col>\"Partition\"</th><th scope=col>\"Algorithm\"</th><th scope=col>nPrecision</th></tr></thead>\n",
       "<tbody>\n",
       "\t<tr><td>Partition </td><td>Algorithm </td><td>0.07962644</td></tr>\n",
       "</tbody>\n",
       "</table>\n"
      ],
      "text/latex": [
       "\\begin{tabular}{r|lll}\n",
       " \"Partition\" & \"Algorithm\" & nPrecision\\\\\n",
       "\\hline\n",
       "\t Partition  & Algorithm  & 0.07962644\\\\\n",
       "\\end{tabular}\n"
      ],
      "text/markdown": [
       "\n",
       "\"Partition\" | \"Algorithm\" | nPrecision | \n",
       "|---|\n",
       "| Partition  | Algorithm  | 0.07962644 | \n",
       "\n",
       "\n"
      ],
      "text/plain": [
       "  \"Partition\" \"Algorithm\" nPrecision\n",
       "1 Partition   Algorithm   0.07962644"
      ]
     },
     "metadata": {},
     "output_type": "display_data"
    }
   ],
   "source": [
    "user.results.precision = bind_rows(user.results.normed, user.results.normed2) %>%\n",
    "    group_by(\"Partition\", \"Algorithm\") %>%\n",
    "    summarize(nPrecision = mean(nPrecision)) %>%\n",
    "    ungroup\n",
    "user.results.precision"
   ]
  },
  {
   "cell_type": "code",
   "execution_count": null,
   "metadata": {
    "collapsed": true
   },
   "outputs": [],
   "source": []
  }
 ],
 "metadata": {
  "kernelspec": {
   "display_name": "R",
   "language": "R",
   "name": "ir"
  },
  "language_info": {
   "codemirror_mode": "r",
   "file_extension": ".r",
   "mimetype": "text/x-r-source",
   "name": "R",
   "pygments_lexer": "r",
   "version": "3.3.2"
  }
 },
 "nbformat": 4,
 "nbformat_minor": 2
}
