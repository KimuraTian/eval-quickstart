{
 "cells": [
  {
   "cell_type": "code",
   "execution_count": 1,
   "metadata": {
    "collapsed": false
   },
   "outputs": [
    {
     "name": "stderr",
     "output_type": "stream",
     "text": [
      "Loading tidyverse: ggplot2\n",
      "Loading tidyverse: tibble\n",
      "Loading tidyverse: tidyr\n",
      "Loading tidyverse: readr\n",
      "Loading tidyverse: purrr\n",
      "Loading tidyverse: dplyr\n",
      "Conflicts with tidy packages ---------------------------------------------------\n",
      "filter(): dplyr, stats\n",
      "lag():    dplyr, stats\n"
     ]
    }
   ],
   "source": [
    "library(tidyverse)"
   ]
  },
  {
   "cell_type": "code",
   "execution_count": 6,
   "metadata": {
    "collapsed": true
   },
   "outputs": [],
   "source": [
    "options(repr.plot.height=5, repr.matrix.max.rows=15)"
   ]
  },
  {
   "cell_type": "code",
   "execution_count": 7,
   "metadata": {
    "collapsed": false
   },
   "outputs": [
    {
     "name": "stderr",
     "output_type": "stream",
     "text": [
      "Parsed with column specification:\n",
      "cols(\n",
      "  DataSet = col_character(),\n",
      "  Partition = col_integer(),\n",
      "  Algorithm = col_character(),\n",
      "  Succeeded = col_character(),\n",
      "  BuildTime = col_double(),\n",
      "  TestTime = col_double(),\n",
      "  NUsers = col_integer(),\n",
      "  NAttempted = col_integer(),\n",
      "  NGood = col_integer(),\n",
      "  Coverage = col_double(),\n",
      "  RMSE.ByUser = col_double(),\n",
      "  RMSE.ByRating = col_double(),\n",
      "  Predict.nDCG = col_double(),\n",
      "  TopN.ActualLength = col_double(),\n",
      "  TopN.nDCG = col_double(),\n",
      "  MRR = col_double(),\n",
      "  MAP = col_double()\n",
      ")\n",
      "Parsed with column specification:\n",
      "cols(\n",
      "  DataSet = col_character(),\n",
      "  Partition = col_integer(),\n",
      "  Algorithm = col_character(),\n",
      "  User = col_integer(),\n",
      "  TestTime = col_double(),\n",
      "  NAttempted = col_integer(),\n",
      "  NGood = col_integer(),\n",
      "  Coverage = col_double(),\n",
      "  RMSE = col_double(),\n",
      "  Predict.nDCG = col_double(),\n",
      "  Predict.nDCG.Raw = col_double(),\n",
      "  TopN.ActualLength = col_double(),\n",
      "  TopN.nDCG = col_double(),\n",
      "  Rank = col_integer(),\n",
      "  RecipRank = col_double(),\n",
      "  AvgPrec = col_double()\n",
      ")\n"
     ]
    },
    {
     "data": {
      "text/html": [
       "<table>\n",
       "<thead><tr><th scope=col>DataSet</th><th scope=col>Partition</th><th scope=col>Algorithm</th><th scope=col>Succeeded</th><th scope=col>BuildTime</th><th scope=col>TestTime</th><th scope=col>NUsers</th><th scope=col>NAttempted</th><th scope=col>NGood</th><th scope=col>Coverage</th><th scope=col>RMSE.ByUser</th><th scope=col>RMSE.ByRating</th><th scope=col>Predict.nDCG</th><th scope=col>TopN.ActualLength</th><th scope=col>TopN.nDCG</th><th scope=col>MRR</th><th scope=col>MAP</th></tr></thead>\n",
       "<tbody>\n",
       "\t<tr><td>crossfold   </td><td>4           </td><td>PersMean    </td><td>Y           </td><td>2.177       </td><td>6.276       </td><td>188         </td><td>3811        </td><td>3811        </td><td>1           </td><td>0.9807213   </td><td>0.9817314   </td><td>0.9406360   </td><td>10          </td><td>0.0010502752</td><td>0.0053191489</td><td>0.0053191489</td></tr>\n",
       "\t<tr><td>crossfold   </td><td>2           </td><td>PersMean    </td><td>Y           </td><td>2.298       </td><td>6.222       </td><td>189         </td><td>4405        </td><td>4405        </td><td>1           </td><td>0.9593265   </td><td>0.9558748   </td><td>0.9469968   </td><td>10          </td><td>0.0014509198</td><td>0.0034832451</td><td>0.0034832451</td></tr>\n",
       "\t<tr><td>crossfold   </td><td>3           </td><td>PersMean    </td><td>Y           </td><td>2.516       </td><td>5.947       </td><td>189         </td><td>4383        </td><td>4383        </td><td>1           </td><td>0.9026027   </td><td>0.9217617   </td><td>0.9526846   </td><td>10          </td><td>0.0007361937</td><td>0.0010582011</td><td>0.0010582011</td></tr>\n",
       "\t<tr><td>crossfold   </td><td>5           </td><td>PersMean    </td><td>Y           </td><td>2.508       </td><td>5.979       </td><td>188         </td><td>3554        </td><td>3554        </td><td>1           </td><td>0.9166842   </td><td>0.9291473   </td><td>0.9537231   </td><td>10          </td><td>0.0002437872</td><td>0.0005319149</td><td>0.0005319149</td></tr>\n",
       "\t<tr><td>crossfold   </td><td>3           </td><td>Custom      </td><td>Y           </td><td>0.838       </td><td>7.888       </td><td>189         </td><td>4383        </td><td>4383        </td><td>1           </td><td>0.9026027   </td><td>0.9217617   </td><td>0.9526846   </td><td>10          </td><td>0.0007361937</td><td>0.0010582011</td><td>0.0010582011</td></tr>\n",
       "\t<tr><td>crossfold   </td><td>4           </td><td>Custom      </td><td>Y           </td><td>0.875       </td><td>8.399       </td><td>188         </td><td>3811        </td><td>3811        </td><td>1           </td><td>0.9807213   </td><td>0.9817314   </td><td>0.9406360   </td><td>10          </td><td>0.0010502752</td><td>0.0053191489</td><td>0.0053191489</td></tr>\n",
       "\t<tr><td>crossfold   </td><td>5           </td><td>Custom      </td><td>Y           </td><td>0.869       </td><td>8.465       </td><td>188         </td><td>3554        </td><td>3554        </td><td>1           </td><td>0.9166842   </td><td>0.9291473   </td><td>0.9537231   </td><td>10          </td><td>0.0002437872</td><td>0.0005319149</td><td>0.0005319149</td></tr>\n",
       "\t<tr><td>crossfold   </td><td>2           </td><td>Custom      </td><td>Y           </td><td>0.868       </td><td>9.415       </td><td>189         </td><td>4405        </td><td>4405        </td><td>1           </td><td>0.9593265   </td><td>0.9558748   </td><td>0.9469968   </td><td>10          </td><td>0.0014509198</td><td>0.0034832451</td><td>0.0034832451</td></tr>\n",
       "\t<tr><td>⋮</td><td>⋮</td><td>⋮</td><td>⋮</td><td>⋮</td><td>⋮</td><td>⋮</td><td>⋮</td><td>⋮</td><td>⋮</td><td>⋮</td><td>⋮</td><td>⋮</td><td>⋮</td><td>⋮</td><td>⋮</td><td>⋮</td></tr>\n",
       "\t<tr><td>crossfold </td><td>4         </td><td>ItemItem  </td><td>Y         </td><td>  7.536   </td><td>9.929     </td><td>188       </td><td>3811      </td><td>3802      </td><td>0.9976384 </td><td>0.9484694 </td><td>0.9429940 </td><td>0.9485831 </td><td>10        </td><td>0.03153882</td><td>0.07354146</td><td>0.06788880</td></tr>\n",
       "\t<tr><td>crossfold </td><td>2         </td><td>ItemItem  </td><td>Y         </td><td>  5.114   </td><td>3.802     </td><td>189       </td><td>4405      </td><td>4372      </td><td>0.9925085 </td><td>0.9129166 </td><td>0.9014674 </td><td>0.9562032 </td><td>10        </td><td>0.05235876</td><td>0.10374360</td><td>0.09940203</td></tr>\n",
       "\t<tr><td>crossfold </td><td>4         </td><td>SLIM      </td><td>Y         </td><td>303.681   </td><td>0.496     </td><td>188       </td><td>3811      </td><td>3811      </td><td>1.0000000 </td><td>2.7590641 </td><td>2.6136869 </td><td>0.9427432 </td><td>10        </td><td>0.38629128</td><td>0.67270559</td><td>0.58046444</td></tr>\n",
       "\t<tr><td>crossfold </td><td>2         </td><td>SLIM      </td><td>Y         </td><td>305.656   </td><td>0.384     </td><td>189       </td><td>4405      </td><td>4405      </td><td>1.0000000 </td><td>2.7660697 </td><td>2.5183930 </td><td>0.9406535 </td><td>10        </td><td>0.38503513</td><td>0.67711220</td><td>0.56906587</td></tr>\n",
       "\t<tr><td>crossfold </td><td>3         </td><td>SLIM      </td><td>Y         </td><td>306.451   </td><td>0.456     </td><td>189       </td><td>4383      </td><td>4383      </td><td>1.0000000 </td><td>2.7528478 </td><td>2.5230306 </td><td>0.9451637 </td><td>10        </td><td>0.39867229</td><td>0.69015705</td><td>0.59340722</td></tr>\n",
       "\t<tr><td>crossfold </td><td>5         </td><td>SLIM      </td><td>Y         </td><td>306.444   </td><td>0.529     </td><td>188       </td><td>3554      </td><td>3554      </td><td>1.0000000 </td><td>2.7708076 </td><td>2.6703438 </td><td>0.9445374 </td><td>10        </td><td>0.36800953</td><td>0.66692207</td><td>0.56156293</td></tr>\n",
       "\t<tr><td>crossfold </td><td>1         </td><td>SLIM      </td><td>Y         </td><td>297.215   </td><td>0.286     </td><td>189       </td><td>3847      </td><td>3847      </td><td>1.0000000 </td><td>2.7904238 </td><td>2.5989614 </td><td>0.9407582 </td><td>10        </td><td>0.39147593</td><td>0.69500294</td><td>0.60571377</td></tr>\n",
       "</tbody>\n",
       "</table>\n"
      ],
      "text/latex": [
       "\\begin{tabular}{r|lllllllllllllllll}\n",
       " DataSet & Partition & Algorithm & Succeeded & BuildTime & TestTime & NUsers & NAttempted & NGood & Coverage & RMSE.ByUser & RMSE.ByRating & Predict.nDCG & TopN.ActualLength & TopN.nDCG & MRR & MAP\\\\\n",
       "\\hline\n",
       "\t crossfold    & 4            & PersMean     & Y            & 2.177        & 6.276        & 188          & 3811         & 3811         & 1            & 0.9807213    & 0.9817314    & 0.9406360    & 10           & 0.0010502752 & 0.0053191489 & 0.0053191489\\\\\n",
       "\t crossfold    & 2            & PersMean     & Y            & 2.298        & 6.222        & 189          & 4405         & 4405         & 1            & 0.9593265    & 0.9558748    & 0.9469968    & 10           & 0.0014509198 & 0.0034832451 & 0.0034832451\\\\\n",
       "\t crossfold    & 3            & PersMean     & Y            & 2.516        & 5.947        & 189          & 4383         & 4383         & 1            & 0.9026027    & 0.9217617    & 0.9526846    & 10           & 0.0007361937 & 0.0010582011 & 0.0010582011\\\\\n",
       "\t crossfold    & 5            & PersMean     & Y            & 2.508        & 5.979        & 188          & 3554         & 3554         & 1            & 0.9166842    & 0.9291473    & 0.9537231    & 10           & 0.0002437872 & 0.0005319149 & 0.0005319149\\\\\n",
       "\t crossfold    & 3            & Custom       & Y            & 0.838        & 7.888        & 189          & 4383         & 4383         & 1            & 0.9026027    & 0.9217617    & 0.9526846    & 10           & 0.0007361937 & 0.0010582011 & 0.0010582011\\\\\n",
       "\t crossfold    & 4            & Custom       & Y            & 0.875        & 8.399        & 188          & 3811         & 3811         & 1            & 0.9807213    & 0.9817314    & 0.9406360    & 10           & 0.0010502752 & 0.0053191489 & 0.0053191489\\\\\n",
       "\t crossfold    & 5            & Custom       & Y            & 0.869        & 8.465        & 188          & 3554         & 3554         & 1            & 0.9166842    & 0.9291473    & 0.9537231    & 10           & 0.0002437872 & 0.0005319149 & 0.0005319149\\\\\n",
       "\t crossfold    & 2            & Custom       & Y            & 0.868        & 9.415        & 189          & 4405         & 4405         & 1            & 0.9593265    & 0.9558748    & 0.9469968    & 10           & 0.0014509198 & 0.0034832451 & 0.0034832451\\\\\n",
       "\t ⋮ & ⋮ & ⋮ & ⋮ & ⋮ & ⋮ & ⋮ & ⋮ & ⋮ & ⋮ & ⋮ & ⋮ & ⋮ & ⋮ & ⋮ & ⋮ & ⋮\\\\\n",
       "\t crossfold  & 4          & ItemItem   & Y          &   7.536    & 9.929      & 188        & 3811       & 3802       & 0.9976384  & 0.9484694  & 0.9429940  & 0.9485831  & 10         & 0.03153882 & 0.07354146 & 0.06788880\\\\\n",
       "\t crossfold  & 2          & ItemItem   & Y          &   5.114    & 3.802      & 189        & 4405       & 4372       & 0.9925085  & 0.9129166  & 0.9014674  & 0.9562032  & 10         & 0.05235876 & 0.10374360 & 0.09940203\\\\\n",
       "\t crossfold  & 4          & SLIM       & Y          & 303.681    & 0.496      & 188        & 3811       & 3811       & 1.0000000  & 2.7590641  & 2.6136869  & 0.9427432  & 10         & 0.38629128 & 0.67270559 & 0.58046444\\\\\n",
       "\t crossfold  & 2          & SLIM       & Y          & 305.656    & 0.384      & 189        & 4405       & 4405       & 1.0000000  & 2.7660697  & 2.5183930  & 0.9406535  & 10         & 0.38503513 & 0.67711220 & 0.56906587\\\\\n",
       "\t crossfold  & 3          & SLIM       & Y          & 306.451    & 0.456      & 189        & 4383       & 4383       & 1.0000000  & 2.7528478  & 2.5230306  & 0.9451637  & 10         & 0.39867229 & 0.69015705 & 0.59340722\\\\\n",
       "\t crossfold  & 5          & SLIM       & Y          & 306.444    & 0.529      & 188        & 3554       & 3554       & 1.0000000  & 2.7708076  & 2.6703438  & 0.9445374  & 10         & 0.36800953 & 0.66692207 & 0.56156293\\\\\n",
       "\t crossfold  & 1          & SLIM       & Y          & 297.215    & 0.286      & 189        & 3847       & 3847       & 1.0000000  & 2.7904238  & 2.5989614  & 0.9407582  & 10         & 0.39147593 & 0.69500294 & 0.60571377\\\\\n",
       "\\end{tabular}\n"
      ],
      "text/markdown": [
       "\n",
       "DataSet | Partition | Algorithm | Succeeded | BuildTime | TestTime | NUsers | NAttempted | NGood | Coverage | RMSE.ByUser | RMSE.ByRating | Predict.nDCG | TopN.ActualLength | TopN.nDCG | MRR | MAP | \n",
       "|---|---|---|---|---|---|---|---|---|---|---|---|---|---|---|---|\n",
       "| crossfold    | 4            | PersMean     | Y            | 2.177        | 6.276        | 188          | 3811         | 3811         | 1            | 0.9807213    | 0.9817314    | 0.9406360    | 10           | 0.0010502752 | 0.0053191489 | 0.0053191489 | \n",
       "| crossfold    | 2            | PersMean     | Y            | 2.298        | 6.222        | 189          | 4405         | 4405         | 1            | 0.9593265    | 0.9558748    | 0.9469968    | 10           | 0.0014509198 | 0.0034832451 | 0.0034832451 | \n",
       "| crossfold    | 3            | PersMean     | Y            | 2.516        | 5.947        | 189          | 4383         | 4383         | 1            | 0.9026027    | 0.9217617    | 0.9526846    | 10           | 0.0007361937 | 0.0010582011 | 0.0010582011 | \n",
       "| crossfold    | 5            | PersMean     | Y            | 2.508        | 5.979        | 188          | 3554         | 3554         | 1            | 0.9166842    | 0.9291473    | 0.9537231    | 10           | 0.0002437872 | 0.0005319149 | 0.0005319149 | \n",
       "| crossfold    | 3            | Custom       | Y            | 0.838        | 7.888        | 189          | 4383         | 4383         | 1            | 0.9026027    | 0.9217617    | 0.9526846    | 10           | 0.0007361937 | 0.0010582011 | 0.0010582011 | \n",
       "| crossfold    | 4            | Custom       | Y            | 0.875        | 8.399        | 188          | 3811         | 3811         | 1            | 0.9807213    | 0.9817314    | 0.9406360    | 10           | 0.0010502752 | 0.0053191489 | 0.0053191489 | \n",
       "| crossfold    | 5            | Custom       | Y            | 0.869        | 8.465        | 188          | 3554         | 3554         | 1            | 0.9166842    | 0.9291473    | 0.9537231    | 10           | 0.0002437872 | 0.0005319149 | 0.0005319149 | \n",
       "| crossfold    | 2            | Custom       | Y            | 0.868        | 9.415        | 189          | 4405         | 4405         | 1            | 0.9593265    | 0.9558748    | 0.9469968    | 10           | 0.0014509198 | 0.0034832451 | 0.0034832451 | \n",
       "| ⋮ | ⋮ | ⋮ | ⋮ | ⋮ | ⋮ | ⋮ | ⋮ | ⋮ | ⋮ | ⋮ | ⋮ | ⋮ | ⋮ | ⋮ | ⋮ | ⋮ | \n",
       "| crossfold  | 4          | ItemItem   | Y          |   7.536    | 9.929      | 188        | 3811       | 3802       | 0.9976384  | 0.9484694  | 0.9429940  | 0.9485831  | 10         | 0.03153882 | 0.07354146 | 0.06788880 | \n",
       "| crossfold  | 2          | ItemItem   | Y          |   5.114    | 3.802      | 189        | 4405       | 4372       | 0.9925085  | 0.9129166  | 0.9014674  | 0.9562032  | 10         | 0.05235876 | 0.10374360 | 0.09940203 | \n",
       "| crossfold  | 4          | SLIM       | Y          | 303.681    | 0.496      | 188        | 3811       | 3811       | 1.0000000  | 2.7590641  | 2.6136869  | 0.9427432  | 10         | 0.38629128 | 0.67270559 | 0.58046444 | \n",
       "| crossfold  | 2          | SLIM       | Y          | 305.656    | 0.384      | 189        | 4405       | 4405       | 1.0000000  | 2.7660697  | 2.5183930  | 0.9406535  | 10         | 0.38503513 | 0.67711220 | 0.56906587 | \n",
       "| crossfold  | 3          | SLIM       | Y          | 306.451    | 0.456      | 189        | 4383       | 4383       | 1.0000000  | 2.7528478  | 2.5230306  | 0.9451637  | 10         | 0.39867229 | 0.69015705 | 0.59340722 | \n",
       "| crossfold  | 5          | SLIM       | Y          | 306.444    | 0.529      | 188        | 3554       | 3554       | 1.0000000  | 2.7708076  | 2.6703438  | 0.9445374  | 10         | 0.36800953 | 0.66692207 | 0.56156293 | \n",
       "| crossfold  | 1          | SLIM       | Y          | 297.215    | 0.286      | 189        | 3847       | 3847       | 1.0000000  | 2.7904238  | 2.5989614  | 0.9407582  | 10         | 0.39147593 | 0.69500294 | 0.60571377 | \n",
       "\n",
       "\n"
      ],
      "text/plain": [
       "   DataSet   Partition Algorithm Succeeded BuildTime TestTime NUsers NAttempted\n",
       "1  crossfold 4         PersMean  Y         2.177     6.276    188    3811      \n",
       "2  crossfold 2         PersMean  Y         2.298     6.222    189    4405      \n",
       "3  crossfold 3         PersMean  Y         2.516     5.947    189    4383      \n",
       "4  crossfold 5         PersMean  Y         2.508     5.979    188    3554      \n",
       "5  crossfold 3         Custom    Y         0.838     7.888    189    4383      \n",
       "6  crossfold 4         Custom    Y         0.875     8.399    188    3811      \n",
       "7  crossfold 5         Custom    Y         0.869     8.465    188    3554      \n",
       "8  crossfold 2         Custom    Y         0.868     9.415    189    4405      \n",
       "⋮  ⋮         ⋮         ⋮         ⋮         ⋮         ⋮        ⋮      ⋮         \n",
       "14 crossfold 4         ItemItem  Y           7.536   9.929    188    3811      \n",
       "15 crossfold 2         ItemItem  Y           5.114   3.802    189    4405      \n",
       "16 crossfold 4         SLIM      Y         303.681   0.496    188    3811      \n",
       "17 crossfold 2         SLIM      Y         305.656   0.384    189    4405      \n",
       "18 crossfold 3         SLIM      Y         306.451   0.456    189    4383      \n",
       "19 crossfold 5         SLIM      Y         306.444   0.529    188    3554      \n",
       "20 crossfold 1         SLIM      Y         297.215   0.286    189    3847      \n",
       "   NGood Coverage  RMSE.ByUser RMSE.ByRating Predict.nDCG TopN.ActualLength\n",
       "1  3811  1         0.9807213   0.9817314     0.9406360    10               \n",
       "2  4405  1         0.9593265   0.9558748     0.9469968    10               \n",
       "3  4383  1         0.9026027   0.9217617     0.9526846    10               \n",
       "4  3554  1         0.9166842   0.9291473     0.9537231    10               \n",
       "5  4383  1         0.9026027   0.9217617     0.9526846    10               \n",
       "6  3811  1         0.9807213   0.9817314     0.9406360    10               \n",
       "7  3554  1         0.9166842   0.9291473     0.9537231    10               \n",
       "8  4405  1         0.9593265   0.9558748     0.9469968    10               \n",
       "⋮  ⋮     ⋮         ⋮           ⋮             ⋮            ⋮                \n",
       "14 3802  0.9976384 0.9484694   0.9429940     0.9485831    10               \n",
       "15 4372  0.9925085 0.9129166   0.9014674     0.9562032    10               \n",
       "16 3811  1.0000000 2.7590641   2.6136869     0.9427432    10               \n",
       "17 4405  1.0000000 2.7660697   2.5183930     0.9406535    10               \n",
       "18 4383  1.0000000 2.7528478   2.5230306     0.9451637    10               \n",
       "19 3554  1.0000000 2.7708076   2.6703438     0.9445374    10               \n",
       "20 3847  1.0000000 2.7904238   2.5989614     0.9407582    10               \n",
       "   TopN.nDCG    MRR          MAP         \n",
       "1  0.0010502752 0.0053191489 0.0053191489\n",
       "2  0.0014509198 0.0034832451 0.0034832451\n",
       "3  0.0007361937 0.0010582011 0.0010582011\n",
       "4  0.0002437872 0.0005319149 0.0005319149\n",
       "5  0.0007361937 0.0010582011 0.0010582011\n",
       "6  0.0010502752 0.0053191489 0.0053191489\n",
       "7  0.0002437872 0.0005319149 0.0005319149\n",
       "8  0.0014509198 0.0034832451 0.0034832451\n",
       "⋮  ⋮            ⋮            ⋮           \n",
       "14 0.03153882   0.07354146   0.06788880  \n",
       "15 0.05235876   0.10374360   0.09940203  \n",
       "16 0.38629128   0.67270559   0.58046444  \n",
       "17 0.38503513   0.67711220   0.56906587  \n",
       "18 0.39867229   0.69015705   0.59340722  \n",
       "19 0.36800953   0.66692207   0.56156293  \n",
       "20 0.39147593   0.69500294   0.60571377  "
      ]
     },
     "metadata": {},
     "output_type": "display_data"
    }
   ],
   "source": [
    "results = read_csv(\"build/eval-results.csv\")\n",
    "user.results = read_csv(\"build/eval-users.csv\")\n",
    "results"
   ]
  },
  {
   "cell_type": "code",
   "execution_count": 8,
   "metadata": {
    "collapsed": false
   },
   "outputs": [
    {
     "data": {},
     "metadata": {},
     "output_type": "display_data"
    },
    {
     "data": {
      "image/png": "[encoded data removed]",
      "text/plain": [
       "plot without title"
      ]
     },
     "metadata": {},
     "output_type": "display_data"
    }
   ],
   "source": [
    "ggplot(results) +\n",
    "    aes(x=Algorithm, y=RMSE.ByRating) +\n",
    "    geom_boxplot()"
   ]
  },
  {
   "cell_type": "code",
   "execution_count": 9,
   "metadata": {
    "collapsed": false
   },
   "outputs": [
    {
     "data": {},
     "metadata": {},
     "output_type": "display_data"
    },
    {
     "data": {
      "image/png": "[encoded data removed]",
      "text/plain": [
       "plot without title"
      ]
     },
     "metadata": {},
     "output_type": "display_data"
    }
   ],
   "source": [
    "ggplot(results) +\n",
    "    aes(x=Algorithm, y=MRR) +\n",
    "    geom_boxplot()"
   ]
  },
  {
   "cell_type": "code",
   "execution_count": 10,
   "metadata": {
    "collapsed": false
   },
   "outputs": [
    {
     "data": {},
     "metadata": {},
     "output_type": "display_data"
    },
    {
     "data": {
      "image/png": "[encoded data removed]",
      "text/plain": [
       "plot without title"
      ]
     },
     "metadata": {},
     "output_type": "display_data"
    }
   ],
   "source": [
    "ggplot(results) +\n",
    "    aes(x=Algorithm, y=MAP) +\n",
    "    geom_boxplot()"
   ]
  },
  {
   "cell_type": "code",
   "execution_count": null,
   "metadata": {
    "collapsed": true
   },
   "outputs": [],
   "source": []
  }
 ],
 "metadata": {
  "kernelspec": {
   "display_name": "R",
   "language": "R",
   "name": "ir"
  },
  "language_info": {
   "codemirror_mode": "r",
   "file_extension": ".r",
   "mimetype": "text/x-r-source",
   "name": "R",
   "pygments_lexer": "r",
   "version": "3.3.2"
  }
 },
 "nbformat": 4,
 "nbformat_minor": 2
}
