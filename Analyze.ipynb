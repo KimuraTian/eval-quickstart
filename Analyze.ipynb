{
 "cells": [
  {
   "cell_type": "code",
   "execution_count": 1,
   "metadata": {
    "collapsed": false
   },
   "outputs": [
    {
     "name": "stderr",
     "output_type": "stream",
     "text": [
      "Loading tidyverse: ggplot2\n",
      "Loading tidyverse: tibble\n",
      "Loading tidyverse: tidyr\n",
      "Loading tidyverse: readr\n",
      "Loading tidyverse: purrr\n",
      "Loading tidyverse: dplyr\n",
      "Conflicts with tidy packages ---------------------------------------------------\n",
      "filter(): dplyr, stats\n",
      "lag():    dplyr, stats\n"
     ]
    }
   ],
   "source": [
    "library(tidyverse)"
   ]
  },
  {
   "cell_type": "code",
   "execution_count": 2,
   "metadata": {
    "collapsed": true
   },
   "outputs": [],
   "source": [
    "options(repr.plot.height=5, repr.matrix.max.rows=15)"
   ]
  },
  {
   "cell_type": "code",
   "execution_count": 3,
   "metadata": {
    "collapsed": false
   },
   "outputs": [
    {
     "name": "stderr",
     "output_type": "stream",
     "text": [
      "Parsed with column specification:\n",
      "cols(\n",
      "  DataSet = col_character(),\n",
      "  Partition = col_integer(),\n",
      "  Algorithm = col_character(),\n",
      "  Succeeded = col_character(),\n",
      "  BuildTime = col_double(),\n",
      "  TestTime = col_double(),\n",
      "  NUsers = col_integer(),\n",
      "  NAttempted = col_integer(),\n",
      "  NGood = col_integer(),\n",
      "  Coverage = col_double(),\n",
      "  RMSE.ByUser = col_double(),\n",
      "  RMSE.ByRating = col_double(),\n",
      "  Predict.nDCG = col_double(),\n",
      "  TopN.ActualLength = col_double(),\n",
      "  TopN.nDCG = col_double(),\n",
      "  MRR = col_double(),\n",
      "  MAP = col_double()\n",
      ")\n",
      "Parsed with column specification:\n",
      "cols(\n",
      "  DataSet = col_character(),\n",
      "  Partition = col_integer(),\n",
      "  Algorithm = col_character(),\n",
      "  User = col_integer(),\n",
      "  TestTime = col_double(),\n",
      "  NAttempted = col_integer(),\n",
      "  NGood = col_integer(),\n",
      "  Coverage = col_double(),\n",
      "  RMSE = col_double(),\n",
      "  Predict.nDCG = col_double(),\n",
      "  Predict.nDCG.Raw = col_double(),\n",
      "  TopN.ActualLength = col_double(),\n",
      "  TopN.nDCG = col_double(),\n",
      "  Rank = col_integer(),\n",
      "  RecipRank = col_double(),\n",
      "  AvgPrec = col_double()\n",
      ")\n"
     ]
    },
    {
     "data": {
      "text/html": [
       "<table>\n",
       "<thead><tr><th scope=col>DataSet</th><th scope=col>Partition</th><th scope=col>Algorithm</th><th scope=col>Succeeded</th><th scope=col>BuildTime</th><th scope=col>TestTime</th><th scope=col>NUsers</th><th scope=col>NAttempted</th><th scope=col>NGood</th><th scope=col>Coverage</th><th scope=col>RMSE.ByUser</th><th scope=col>RMSE.ByRating</th><th scope=col>Predict.nDCG</th><th scope=col>TopN.ActualLength</th><th scope=col>TopN.nDCG</th><th scope=col>MRR</th><th scope=col>MAP</th></tr></thead>\n",
       "<tbody>\n",
       "\t<tr><td>crossfold   </td><td>4           </td><td>Popular     </td><td>Y           </td><td>0.923       </td><td>5.438       </td><td>  0         </td><td>   0        </td><td>   0        </td><td>NA          </td><td>       NA   </td><td>       NA   </td><td>0.0000000   </td><td>10          </td><td>0.1863863652</td><td>0.4063492063</td><td>0.3439177076</td></tr>\n",
       "\t<tr><td>crossfold   </td><td>3           </td><td>Popular     </td><td>Y           </td><td>0.952       </td><td>5.623       </td><td>  0         </td><td>   0        </td><td>   0        </td><td>NA          </td><td>       NA   </td><td>       NA   </td><td>0.0000000   </td><td>10          </td><td>0.1844699550</td><td>0.4079512052</td><td>0.3480379764</td></tr>\n",
       "\t<tr><td>crossfold   </td><td>5           </td><td>Popular     </td><td>Y           </td><td>0.954       </td><td>5.579       </td><td>  0         </td><td>   0        </td><td>   0        </td><td>NA          </td><td>       NA   </td><td>       NA   </td><td>0.0000000   </td><td>10          </td><td>0.1692708741</td><td>0.3818262411</td><td>0.3196478979</td></tr>\n",
       "\t<tr><td>crossfold   </td><td>2           </td><td>Popular     </td><td>Y           </td><td>0.940       </td><td>5.823       </td><td>  0         </td><td>   0        </td><td>   0        </td><td>NA          </td><td>       NA   </td><td>       NA   </td><td>0.0000000   </td><td>10          </td><td>0.2026951419</td><td>0.4232195347</td><td>0.3709907962</td></tr>\n",
       "\t<tr><td>crossfold   </td><td>5           </td><td>PersMean    </td><td>Y           </td><td>2.192       </td><td>5.295       </td><td>188         </td><td>3554        </td><td>3554        </td><td> 1          </td><td>0.9166842   </td><td>0.9291473   </td><td>0.9537231   </td><td>10          </td><td>0.0002437872</td><td>0.0005319149</td><td>0.0005319149</td></tr>\n",
       "\t<tr><td>crossfold   </td><td>4           </td><td>PersMean    </td><td>Y           </td><td>2.226       </td><td>5.225       </td><td>188         </td><td>3811        </td><td>3811        </td><td> 1          </td><td>0.9807213   </td><td>0.9817314   </td><td>0.9406360   </td><td>10          </td><td>0.0010502752</td><td>0.0053191489</td><td>0.0053191489</td></tr>\n",
       "\t<tr><td>crossfold   </td><td>3           </td><td>PersMean    </td><td>Y           </td><td>2.174       </td><td>5.455       </td><td>189         </td><td>4383        </td><td>4383        </td><td> 1          </td><td>0.9026027   </td><td>0.9217617   </td><td>0.9526846   </td><td>10          </td><td>0.0007361937</td><td>0.0010582011</td><td>0.0010582011</td></tr>\n",
       "\t<tr><td>crossfold   </td><td>2           </td><td>PersMean    </td><td>Y           </td><td>2.205       </td><td>5.948       </td><td>189         </td><td>4405        </td><td>4405        </td><td> 1          </td><td>0.9593265   </td><td>0.9558748   </td><td>0.9469968   </td><td>10          </td><td>0.0014509198</td><td>0.0034832451</td><td>0.0034832451</td></tr>\n",
       "\t<tr><td>⋮</td><td>⋮</td><td>⋮</td><td>⋮</td><td>⋮</td><td>⋮</td><td>⋮</td><td>⋮</td><td>⋮</td><td>⋮</td><td>⋮</td><td>⋮</td><td>⋮</td><td>⋮</td><td>⋮</td><td>⋮</td><td>⋮</td></tr>\n",
       "\t<tr><td>crossfold </td><td>2         </td><td>ItemItem  </td><td>Y         </td><td>  4.929   </td><td>3.492     </td><td>189       </td><td>4405      </td><td>4372      </td><td>0.9925085 </td><td>0.9129166 </td><td>0.9014674 </td><td>0.9562032 </td><td>10        </td><td>0.05235876</td><td>0.1037436 </td><td>0.09940203</td></tr>\n",
       "\t<tr><td>crossfold </td><td>1         </td><td>ItemItem  </td><td>Y         </td><td>  6.504   </td><td>9.442     </td><td>189       </td><td>3847      </td><td>3836      </td><td>0.9971406 </td><td>0.9085629 </td><td>0.9191522 </td><td>0.9554999 </td><td>10        </td><td>0.04489294</td><td>0.1074830 </td><td>0.09496567</td></tr>\n",
       "\t<tr><td>crossfold </td><td>4         </td><td>SLIM      </td><td>Y         </td><td>304.109   </td><td>0.466     </td><td>188       </td><td>3811      </td><td>3811      </td><td>1.0000000 </td><td>2.7590641 </td><td>2.6136869 </td><td>0.9427432 </td><td>10        </td><td>0.38629128</td><td>0.6727056 </td><td>0.58046444</td></tr>\n",
       "\t<tr><td>crossfold </td><td>3         </td><td>SLIM      </td><td>Y         </td><td>305.061   </td><td>0.425     </td><td>189       </td><td>4383      </td><td>4383      </td><td>1.0000000 </td><td>2.7528478 </td><td>2.5230306 </td><td>0.9451637 </td><td>10        </td><td>0.39867229</td><td>0.6901571 </td><td>0.59340722</td></tr>\n",
       "\t<tr><td>crossfold </td><td>2         </td><td>SLIM      </td><td>Y         </td><td>306.669   </td><td>0.467     </td><td>189       </td><td>4405      </td><td>4405      </td><td>1.0000000 </td><td>2.7660697 </td><td>2.5183930 </td><td>0.9406535 </td><td>10        </td><td>0.38503513</td><td>0.6771122 </td><td>0.56906587</td></tr>\n",
       "\t<tr><td>crossfold </td><td>5         </td><td>SLIM      </td><td>Y         </td><td>307.066   </td><td>0.289     </td><td>188       </td><td>3554      </td><td>3554      </td><td>1.0000000 </td><td>2.7708076 </td><td>2.6703438 </td><td>0.9445374 </td><td>10        </td><td>0.36800953</td><td>0.6669221 </td><td>0.56156293</td></tr>\n",
       "\t<tr><td>crossfold </td><td>1         </td><td>SLIM      </td><td>Y         </td><td>300.248   </td><td>0.263     </td><td>189       </td><td>3847      </td><td>3847      </td><td>1.0000000 </td><td>2.7904238 </td><td>2.5989614 </td><td>0.9407582 </td><td>10        </td><td>0.39147593</td><td>0.6950029 </td><td>0.60571377</td></tr>\n",
       "</tbody>\n",
       "</table>\n"
      ],
      "text/latex": [
       "\\begin{tabular}{r|lllllllllllllllll}\n",
       " DataSet & Partition & Algorithm & Succeeded & BuildTime & TestTime & NUsers & NAttempted & NGood & Coverage & RMSE.ByUser & RMSE.ByRating & Predict.nDCG & TopN.ActualLength & TopN.nDCG & MRR & MAP\\\\\n",
       "\\hline\n",
       "\t crossfold    & 4            & Popular      & Y            & 0.923        & 5.438        &   0          &    0         &    0         & NA           &        NA    &        NA    & 0.0000000    & 10           & 0.1863863652 & 0.4063492063 & 0.3439177076\\\\\n",
       "\t crossfold    & 3            & Popular      & Y            & 0.952        & 5.623        &   0          &    0         &    0         & NA           &        NA    &        NA    & 0.0000000    & 10           & 0.1844699550 & 0.4079512052 & 0.3480379764\\\\\n",
       "\t crossfold    & 5            & Popular      & Y            & 0.954        & 5.579        &   0          &    0         &    0         & NA           &        NA    &        NA    & 0.0000000    & 10           & 0.1692708741 & 0.3818262411 & 0.3196478979\\\\\n",
       "\t crossfold    & 2            & Popular      & Y            & 0.940        & 5.823        &   0          &    0         &    0         & NA           &        NA    &        NA    & 0.0000000    & 10           & 0.2026951419 & 0.4232195347 & 0.3709907962\\\\\n",
       "\t crossfold    & 5            & PersMean     & Y            & 2.192        & 5.295        & 188          & 3554         & 3554         &  1           & 0.9166842    & 0.9291473    & 0.9537231    & 10           & 0.0002437872 & 0.0005319149 & 0.0005319149\\\\\n",
       "\t crossfold    & 4            & PersMean     & Y            & 2.226        & 5.225        & 188          & 3811         & 3811         &  1           & 0.9807213    & 0.9817314    & 0.9406360    & 10           & 0.0010502752 & 0.0053191489 & 0.0053191489\\\\\n",
       "\t crossfold    & 3            & PersMean     & Y            & 2.174        & 5.455        & 189          & 4383         & 4383         &  1           & 0.9026027    & 0.9217617    & 0.9526846    & 10           & 0.0007361937 & 0.0010582011 & 0.0010582011\\\\\n",
       "\t crossfold    & 2            & PersMean     & Y            & 2.205        & 5.948        & 189          & 4405         & 4405         &  1           & 0.9593265    & 0.9558748    & 0.9469968    & 10           & 0.0014509198 & 0.0034832451 & 0.0034832451\\\\\n",
       "\t ⋮ & ⋮ & ⋮ & ⋮ & ⋮ & ⋮ & ⋮ & ⋮ & ⋮ & ⋮ & ⋮ & ⋮ & ⋮ & ⋮ & ⋮ & ⋮ & ⋮\\\\\n",
       "\t crossfold  & 2          & ItemItem   & Y          &   4.929    & 3.492      & 189        & 4405       & 4372       & 0.9925085  & 0.9129166  & 0.9014674  & 0.9562032  & 10         & 0.05235876 & 0.1037436  & 0.09940203\\\\\n",
       "\t crossfold  & 1          & ItemItem   & Y          &   6.504    & 9.442      & 189        & 3847       & 3836       & 0.9971406  & 0.9085629  & 0.9191522  & 0.9554999  & 10         & 0.04489294 & 0.1074830  & 0.09496567\\\\\n",
       "\t crossfold  & 4          & SLIM       & Y          & 304.109    & 0.466      & 188        & 3811       & 3811       & 1.0000000  & 2.7590641  & 2.6136869  & 0.9427432  & 10         & 0.38629128 & 0.6727056  & 0.58046444\\\\\n",
       "\t crossfold  & 3          & SLIM       & Y          & 305.061    & 0.425      & 189        & 4383       & 4383       & 1.0000000  & 2.7528478  & 2.5230306  & 0.9451637  & 10         & 0.39867229 & 0.6901571  & 0.59340722\\\\\n",
       "\t crossfold  & 2          & SLIM       & Y          & 306.669    & 0.467      & 189        & 4405       & 4405       & 1.0000000  & 2.7660697  & 2.5183930  & 0.9406535  & 10         & 0.38503513 & 0.6771122  & 0.56906587\\\\\n",
       "\t crossfold  & 5          & SLIM       & Y          & 307.066    & 0.289      & 188        & 3554       & 3554       & 1.0000000  & 2.7708076  & 2.6703438  & 0.9445374  & 10         & 0.36800953 & 0.6669221  & 0.56156293\\\\\n",
       "\t crossfold  & 1          & SLIM       & Y          & 300.248    & 0.263      & 189        & 3847       & 3847       & 1.0000000  & 2.7904238  & 2.5989614  & 0.9407582  & 10         & 0.39147593 & 0.6950029  & 0.60571377\\\\\n",
       "\\end{tabular}\n"
      ],
      "text/markdown": [
       "\n",
       "DataSet | Partition | Algorithm | Succeeded | BuildTime | TestTime | NUsers | NAttempted | NGood | Coverage | RMSE.ByUser | RMSE.ByRating | Predict.nDCG | TopN.ActualLength | TopN.nDCG | MRR | MAP | \n",
       "|---|---|---|---|---|---|---|---|---|---|---|---|---|---|---|---|\n",
       "| crossfold    | 4            | Popular      | Y            | 0.923        | 5.438        |   0          |    0         |    0         | NA           |        NA    |        NA    | 0.0000000    | 10           | 0.1863863652 | 0.4063492063 | 0.3439177076 | \n",
       "| crossfold    | 3            | Popular      | Y            | 0.952        | 5.623        |   0          |    0         |    0         | NA           |        NA    |        NA    | 0.0000000    | 10           | 0.1844699550 | 0.4079512052 | 0.3480379764 | \n",
       "| crossfold    | 5            | Popular      | Y            | 0.954        | 5.579        |   0          |    0         |    0         | NA           |        NA    |        NA    | 0.0000000    | 10           | 0.1692708741 | 0.3818262411 | 0.3196478979 | \n",
       "| crossfold    | 2            | Popular      | Y            | 0.940        | 5.823        |   0          |    0         |    0         | NA           |        NA    |        NA    | 0.0000000    | 10           | 0.2026951419 | 0.4232195347 | 0.3709907962 | \n",
       "| crossfold    | 5            | PersMean     | Y            | 2.192        | 5.295        | 188          | 3554         | 3554         |  1           | 0.9166842    | 0.9291473    | 0.9537231    | 10           | 0.0002437872 | 0.0005319149 | 0.0005319149 | \n",
       "| crossfold    | 4            | PersMean     | Y            | 2.226        | 5.225        | 188          | 3811         | 3811         |  1           | 0.9807213    | 0.9817314    | 0.9406360    | 10           | 0.0010502752 | 0.0053191489 | 0.0053191489 | \n",
       "| crossfold    | 3            | PersMean     | Y            | 2.174        | 5.455        | 189          | 4383         | 4383         |  1           | 0.9026027    | 0.9217617    | 0.9526846    | 10           | 0.0007361937 | 0.0010582011 | 0.0010582011 | \n",
       "| crossfold    | 2            | PersMean     | Y            | 2.205        | 5.948        | 189          | 4405         | 4405         |  1           | 0.9593265    | 0.9558748    | 0.9469968    | 10           | 0.0014509198 | 0.0034832451 | 0.0034832451 | \n",
       "| ⋮ | ⋮ | ⋮ | ⋮ | ⋮ | ⋮ | ⋮ | ⋮ | ⋮ | ⋮ | ⋮ | ⋮ | ⋮ | ⋮ | ⋮ | ⋮ | ⋮ | \n",
       "| crossfold  | 2          | ItemItem   | Y          |   4.929    | 3.492      | 189        | 4405       | 4372       | 0.9925085  | 0.9129166  | 0.9014674  | 0.9562032  | 10         | 0.05235876 | 0.1037436  | 0.09940203 | \n",
       "| crossfold  | 1          | ItemItem   | Y          |   6.504    | 9.442      | 189        | 3847       | 3836       | 0.9971406  | 0.9085629  | 0.9191522  | 0.9554999  | 10         | 0.04489294 | 0.1074830  | 0.09496567 | \n",
       "| crossfold  | 4          | SLIM       | Y          | 304.109    | 0.466      | 188        | 3811       | 3811       | 1.0000000  | 2.7590641  | 2.6136869  | 0.9427432  | 10         | 0.38629128 | 0.6727056  | 0.58046444 | \n",
       "| crossfold  | 3          | SLIM       | Y          | 305.061    | 0.425      | 189        | 4383       | 4383       | 1.0000000  | 2.7528478  | 2.5230306  | 0.9451637  | 10         | 0.39867229 | 0.6901571  | 0.59340722 | \n",
       "| crossfold  | 2          | SLIM       | Y          | 306.669    | 0.467      | 189        | 4405       | 4405       | 1.0000000  | 2.7660697  | 2.5183930  | 0.9406535  | 10         | 0.38503513 | 0.6771122  | 0.56906587 | \n",
       "| crossfold  | 5          | SLIM       | Y          | 307.066    | 0.289      | 188        | 3554       | 3554       | 1.0000000  | 2.7708076  | 2.6703438  | 0.9445374  | 10         | 0.36800953 | 0.6669221  | 0.56156293 | \n",
       "| crossfold  | 1          | SLIM       | Y          | 300.248    | 0.263      | 189        | 3847       | 3847       | 1.0000000  | 2.7904238  | 2.5989614  | 0.9407582  | 10         | 0.39147593 | 0.6950029  | 0.60571377 | \n",
       "\n",
       "\n"
      ],
      "text/plain": [
       "   DataSet   Partition Algorithm Succeeded BuildTime TestTime NUsers NAttempted\n",
       "1  crossfold 4         Popular   Y         0.923     5.438      0       0      \n",
       "2  crossfold 3         Popular   Y         0.952     5.623      0       0      \n",
       "3  crossfold 5         Popular   Y         0.954     5.579      0       0      \n",
       "4  crossfold 2         Popular   Y         0.940     5.823      0       0      \n",
       "5  crossfold 5         PersMean  Y         2.192     5.295    188    3554      \n",
       "6  crossfold 4         PersMean  Y         2.226     5.225    188    3811      \n",
       "7  crossfold 3         PersMean  Y         2.174     5.455    189    4383      \n",
       "8  crossfold 2         PersMean  Y         2.205     5.948    189    4405      \n",
       "⋮  ⋮         ⋮         ⋮         ⋮         ⋮         ⋮        ⋮      ⋮         \n",
       "14 crossfold 2         ItemItem  Y           4.929   3.492    189    4405      \n",
       "15 crossfold 1         ItemItem  Y           6.504   9.442    189    3847      \n",
       "16 crossfold 4         SLIM      Y         304.109   0.466    188    3811      \n",
       "17 crossfold 3         SLIM      Y         305.061   0.425    189    4383      \n",
       "18 crossfold 2         SLIM      Y         306.669   0.467    189    4405      \n",
       "19 crossfold 5         SLIM      Y         307.066   0.289    188    3554      \n",
       "20 crossfold 1         SLIM      Y         300.248   0.263    189    3847      \n",
       "   NGood Coverage  RMSE.ByUser RMSE.ByRating Predict.nDCG TopN.ActualLength\n",
       "1     0  NA               NA          NA     0.0000000    10               \n",
       "2     0  NA               NA          NA     0.0000000    10               \n",
       "3     0  NA               NA          NA     0.0000000    10               \n",
       "4     0  NA               NA          NA     0.0000000    10               \n",
       "5  3554   1        0.9166842   0.9291473     0.9537231    10               \n",
       "6  3811   1        0.9807213   0.9817314     0.9406360    10               \n",
       "7  4383   1        0.9026027   0.9217617     0.9526846    10               \n",
       "8  4405   1        0.9593265   0.9558748     0.9469968    10               \n",
       "⋮  ⋮     ⋮         ⋮           ⋮             ⋮            ⋮                \n",
       "14 4372  0.9925085 0.9129166   0.9014674     0.9562032    10               \n",
       "15 3836  0.9971406 0.9085629   0.9191522     0.9554999    10               \n",
       "16 3811  1.0000000 2.7590641   2.6136869     0.9427432    10               \n",
       "17 4383  1.0000000 2.7528478   2.5230306     0.9451637    10               \n",
       "18 4405  1.0000000 2.7660697   2.5183930     0.9406535    10               \n",
       "19 3554  1.0000000 2.7708076   2.6703438     0.9445374    10               \n",
       "20 3847  1.0000000 2.7904238   2.5989614     0.9407582    10               \n",
       "   TopN.nDCG    MRR          MAP         \n",
       "1  0.1863863652 0.4063492063 0.3439177076\n",
       "2  0.1844699550 0.4079512052 0.3480379764\n",
       "3  0.1692708741 0.3818262411 0.3196478979\n",
       "4  0.2026951419 0.4232195347 0.3709907962\n",
       "5  0.0002437872 0.0005319149 0.0005319149\n",
       "6  0.0010502752 0.0053191489 0.0053191489\n",
       "7  0.0007361937 0.0010582011 0.0010582011\n",
       "8  0.0014509198 0.0034832451 0.0034832451\n",
       "⋮  ⋮            ⋮            ⋮           \n",
       "14 0.05235876   0.1037436    0.09940203  \n",
       "15 0.04489294   0.1074830    0.09496567  \n",
       "16 0.38629128   0.6727056    0.58046444  \n",
       "17 0.39867229   0.6901571    0.59340722  \n",
       "18 0.38503513   0.6771122    0.56906587  \n",
       "19 0.36800953   0.6669221    0.56156293  \n",
       "20 0.39147593   0.6950029    0.60571377  "
      ]
     },
     "metadata": {},
     "output_type": "display_data"
    }
   ],
   "source": [
    "results = read_csv(\"build/eval-results.csv\")\n",
    "user.results = read_csv(\"build/eval-users.csv\")\n",
    "results"
   ]
  },
  {
   "cell_type": "code",
   "execution_count": 4,
   "metadata": {
    "collapsed": false
   },
   "outputs": [
    {
     "name": "stderr",
     "output_type": "stream",
     "text": [
      "Warning message:\n",
      "“Removed 5 rows containing non-finite values (stat_boxplot).”"
     ]
    },
    {
     "data": {},
     "metadata": {},
     "output_type": "display_data"
    },
    {
     "data": {
      "image/png": "[encoded data removed]",
      "text/plain": [
       "plot without title"
      ]
     },
     "metadata": {},
     "output_type": "display_data"
    }
   ],
   "source": [
    "ggplot(results) +\n",
    "    aes(x=Algorithm, y=RMSE.ByRating) +\n",
    "    geom_boxplot()"
   ]
  },
  {
   "cell_type": "code",
   "execution_count": 5,
   "metadata": {
    "collapsed": false
   },
   "outputs": [
    {
     "data": {},
     "metadata": {},
     "output_type": "display_data"
    },
    {
     "data": {
      "image/png": "[encoded data removed]",
      "text/plain": [
       "plot without title"
      ]
     },
     "metadata": {},
     "output_type": "display_data"
    }
   ],
   "source": [
    "ggplot(results) +\n",
    "    aes(x=Algorithm, y=MRR) +\n",
    "    geom_boxplot()"
   ]
  },
  {
   "cell_type": "code",
   "execution_count": 6,
   "metadata": {
    "collapsed": false
   },
   "outputs": [
    {
     "data": {},
     "metadata": {},
     "output_type": "display_data"
    },
    {
     "data": {
      "image/png": "[encoded data removed]",
      "text/plain": [
       "plot without title"
      ]
     },
     "metadata": {},
     "output_type": "display_data"
    }
   ],
   "source": [
    "ggplot(results) +\n",
    "    aes(x=Algorithm, y=MAP) +\n",
    "    geom_boxplot()"
   ]
  },
  {
   "cell_type": "code",
   "execution_count": null,
   "metadata": {
    "collapsed": true
   },
   "outputs": [],
   "source": []
  }
 ],
 "metadata": {
  "kernelspec": {
   "display_name": "R",
   "language": "R",
   "name": "ir"
  },
  "language_info": {
   "codemirror_mode": "r",
   "file_extension": ".r",
   "mimetype": "text/x-r-source",
   "name": "R",
   "pygments_lexer": "r",
   "version": "3.3.2"
  }
 },
 "nbformat": 4,
 "nbformat_minor": 2
}
